{
 "cells": [
  {
   "cell_type": "code",
   "execution_count": 3,
   "metadata": {
    "scrolled": true
   },
   "outputs": [],
   "source": [
    "from datascience import *\n",
    "import numpy as np\n",
    "\n",
    "%matplotlib inline\n",
    "import matplotlib.pyplot as plots\n",
    "plots.style.use('fivethirtyeight')\n",
    "import warnings\n",
    "warnings.simplefilter(action='ignore',category=np.VisibleDeprecationWarning)"
   ]
  },
  {
   "cell_type": "markdown",
   "metadata": {},
   "source": [
    "# Lab 7 Skyscrapers"
   ]
  },
  {
   "cell_type": "markdown",
   "metadata": {},
   "source": [
    "Recall our exploration of the skyscraper dataset in lecture.\n",
    "We solved two problems using this dataset: for each city, what's the tallest building for each material?\n",
    "for each city, what's the height difference between the tallest steel and the tallest concrete building.\n",
    "I have reviewed our answers below.\n",
    "We actually had two solutions to the first problem, one using pivot and the other using group.\n",
    "\n",
    "Today's discussion question: **discuss the differences between 'grouping with 2 categorical variables' and pivot.**\n",
    "\n",
    "Here is the [**Python Reference**](http://data8.org/sp22/python-reference.html)."
   ]
  },
  {
   "cell_type": "code",
   "execution_count": 4,
   "metadata": {
    "scrolled": true
   },
   "outputs": [
    {
     "data": {
      "text/html": [
       "<table border=\"1\" class=\"dataframe\">\n",
       "    <thead>\n",
       "        <tr>\n",
       "            <th>name</th> <th>material</th> <th>city</th> <th>height</th> <th>age</th>\n",
       "        </tr>\n",
       "    </thead>\n",
       "    <tbody>\n",
       "        <tr>\n",
       "            <td>One World Trade Center</td> <td>mixed/composite</td> <td>New York City</td> <td>541.3 </td> <td>10  </td>\n",
       "        </tr>\n",
       "        <tr>\n",
       "            <td>Willis Tower          </td> <td>steel          </td> <td>Chicago      </td> <td>442.14</td> <td>50  </td>\n",
       "        </tr>\n",
       "        <tr>\n",
       "            <td>432 Park Avenue       </td> <td>concrete       </td> <td>New York City</td> <td>425.5 </td> <td>9   </td>\n",
       "        </tr>\n",
       "    </tbody>\n",
       "</table>\n",
       "<p>... (1778 rows omitted)</p>"
      ],
      "text/plain": [
       "<IPython.core.display.HTML object>"
      ]
     },
     "metadata": {},
     "output_type": "display_data"
    }
   ],
   "source": [
    "sky = Table.read_table('skyscrapers.csv')\n",
    "sky = (sky.with_column('age', 2024 - sky.column('completed'))\n",
    "          .drop('completed'))\n",
    "sky.show(3)"
   ]
  },
  {
   "cell_type": "markdown",
   "metadata": {
    "scrolled": true
   },
   "source": [
    "**For each city, what’s the tallest building for each material?**"
   ]
  },
  {
   "cell_type": "code",
   "execution_count": 5,
   "metadata": {},
   "outputs": [
    {
     "data": {
      "text/html": [
       "<table border=\"1\" class=\"dataframe\">\n",
       "    <thead>\n",
       "        <tr>\n",
       "            <th>city</th> <th>concrete</th> <th>mixed/composite</th> <th>steel</th>\n",
       "        </tr>\n",
       "    </thead>\n",
       "    <tbody>\n",
       "        <tr>\n",
       "            <td>Atlanta  </td> <td>264.25  </td> <td>311.8          </td> <td>169.47</td>\n",
       "        </tr>\n",
       "        <tr>\n",
       "            <td>Austin   </td> <td>208.15  </td> <td>0              </td> <td>93.6  </td>\n",
       "        </tr>\n",
       "        <tr>\n",
       "            <td>Baltimore</td> <td>161.24  </td> <td>0              </td> <td>155.15</td>\n",
       "        </tr>\n",
       "        <tr>\n",
       "            <td>Boston   </td> <td>121.92  </td> <td>139            </td> <td>240.79</td>\n",
       "        </tr>\n",
       "    </tbody>\n",
       "</table>\n",
       "<p>... (31 rows omitted)</p>"
      ],
      "text/plain": [
       "<IPython.core.display.HTML object>"
      ]
     },
     "metadata": {},
     "output_type": "display_data"
    }
   ],
   "source": [
    "# elegant solution using pivot\n",
    "sky_p = sky.pivot('material', 'city', values='height', collect=max)\n",
    "sky_p.show(4)"
   ]
  },
  {
   "cell_type": "code",
   "execution_count": 6,
   "metadata": {},
   "outputs": [
    {
     "data": {
      "text/html": [
       "<table border=\"1\" class=\"dataframe\">\n",
       "    <thead>\n",
       "        <tr>\n",
       "            <th>material</th> <th>city</th> <th>height max</th>\n",
       "        </tr>\n",
       "    </thead>\n",
       "    <tbody>\n",
       "        <tr>\n",
       "            <td>concrete</td> <td>Atlanta</td> <td>264.25    </td>\n",
       "        </tr>\n",
       "    </tbody>\n",
       "</table>\n",
       "<p>... (90 rows omitted)</p>"
      ],
      "text/plain": [
       "<IPython.core.display.HTML object>"
      ]
     },
     "metadata": {},
     "output_type": "display_data"
    }
   ],
   "source": [
    "# awkward solution using group\n",
    "sky.select('material', 'city', 'height').group(['material', 'city'], collect=max).show(1)"
   ]
  },
  {
   "cell_type": "markdown",
   "metadata": {
    "scrolled": true
   },
   "source": [
    "**For each city, what’s the height difference between the tallest steel and the tallest concrete building?**"
   ]
  },
  {
   "cell_type": "code",
   "execution_count": 7,
   "metadata": {},
   "outputs": [
    {
     "data": {
      "text/html": [
       "<table border=\"1\" class=\"dataframe\">\n",
       "    <thead>\n",
       "        <tr>\n",
       "            <th>city</th> <th>concrete</th> <th>steel</th> <th>height diff</th>\n",
       "        </tr>\n",
       "    </thead>\n",
       "    <tbody>\n",
       "        <tr>\n",
       "            <td>Atlanta   </td> <td>264.25  </td> <td>169.47</td> <td>-94.78     </td>\n",
       "        </tr>\n",
       "        <tr>\n",
       "            <td>Austin    </td> <td>208.15  </td> <td>93.6  </td> <td>-114.55    </td>\n",
       "        </tr>\n",
       "        <tr>\n",
       "            <td>Baltimore </td> <td>161.24  </td> <td>155.15</td> <td>-6.09001   </td>\n",
       "        </tr>\n",
       "        <tr>\n",
       "            <td>Boston    </td> <td>121.92  </td> <td>240.79</td> <td>118.87     </td>\n",
       "        </tr>\n",
       "        <tr>\n",
       "            <td>Charlotte </td> <td>265.48  </td> <td>179.23</td> <td>-86.25     </td>\n",
       "        </tr>\n",
       "        <tr>\n",
       "            <td>Chicago   </td> <td>423.22  </td> <td>442.14</td> <td>18.92      </td>\n",
       "        </tr>\n",
       "        <tr>\n",
       "            <td>Cincinnati</td> <td>125     </td> <td>175   </td> <td>50         </td>\n",
       "        </tr>\n",
       "        <tr>\n",
       "            <td>Cleveland </td> <td>125     </td> <td>215.8 </td> <td>90.8       </td>\n",
       "        </tr>\n",
       "        <tr>\n",
       "            <td>Columbus  </td> <td>79.25   </td> <td>169.3 </td> <td>90.05      </td>\n",
       "        </tr>\n",
       "        <tr>\n",
       "            <td>Dallas    </td> <td>176.48  </td> <td>270.06</td> <td>93.58      </td>\n",
       "        </tr>\n",
       "    </tbody>\n",
       "</table>\n",
       "<p>... (25 rows omitted)</p>"
      ],
      "text/plain": [
       "city       | concrete | steel  | height diff\n",
       "Atlanta    | 264.25   | 169.47 | -94.78\n",
       "Austin     | 208.15   | 93.6   | -114.55\n",
       "Baltimore  | 161.24   | 155.15 | -6.09001\n",
       "Boston     | 121.92   | 240.79 | 118.87\n",
       "Charlotte  | 265.48   | 179.23 | -86.25\n",
       "Chicago    | 423.22   | 442.14 | 18.92\n",
       "Cincinnati | 125      | 175    | 50\n",
       "Cleveland  | 125      | 215.8  | 90.8\n",
       "Columbus   | 79.25    | 169.3  | 90.05\n",
       "Dallas     | 176.48   | 270.06 | 93.58\n",
       "... (25 rows omitted)"
      ]
     },
     "execution_count": 7,
     "metadata": {},
     "output_type": "execute_result"
    }
   ],
   "source": [
    "# solution\n",
    "sky_p.with_column('height diff', sky_p.column(3) - sky_p.column(1)).drop(2)"
   ]
  },
  {
   "cell_type": "markdown",
   "metadata": {},
   "source": [
    "I then gave you a takehome problem.\\\n",
    "**Generate a table of the names of the oldest buildings for each \n",
    "material for each city.**\\\n",
    "I also gave you some hints.\n",
    "Please solve that now."
   ]
  },
  {
   "cell_type": "code",
   "execution_count": 8,
   "metadata": {},
   "outputs": [
    {
     "data": {
      "text/html": [
       "<table border=\"1\" class=\"dataframe\">\n",
       "    <thead>\n",
       "        <tr>\n",
       "            <th>name</th> <th>material</th> <th>city</th> <th>height</th> <th>age</th>\n",
       "        </tr>\n",
       "    </thead>\n",
       "    <tbody>\n",
       "        <tr>\n",
       "            <td>Statue of Liberty     </td> <td>steel   </td> <td>New York City</td> <td>93    </td> <td>138 </td>\n",
       "        </tr>\n",
       "        <tr>\n",
       "            <td>The Rookery           </td> <td>steel   </td> <td>Chicago      </td> <td>55.02 </td> <td>136 </td>\n",
       "        </tr>\n",
       "        <tr>\n",
       "            <td>Wainwright Building   </td> <td>steel   </td> <td>St. Louis    </td> <td>44.81 </td> <td>132 </td>\n",
       "        </tr>\n",
       "        <tr>\n",
       "            <td>Park Place Tower      </td> <td>steel   </td> <td>New York City</td> <td>88.7  </td> <td>129 </td>\n",
       "        </tr>\n",
       "        <tr>\n",
       "            <td>Reliance Building     </td> <td>steel   </td> <td>Chicago      </td> <td>61.47 </td> <td>129 </td>\n",
       "        </tr>\n",
       "        <tr>\n",
       "            <td>Bank of Tokyo Building</td> <td>steel   </td> <td>New York City</td> <td>103   </td> <td>128 </td>\n",
       "        </tr>\n",
       "        <tr>\n",
       "            <td>FlatironCity          </td> <td>steel   </td> <td>Atlanta      </td> <td>48.2  </td> <td>127 </td>\n",
       "        </tr>\n",
       "        <tr>\n",
       "            <td>Ferry Building        </td> <td>steel   </td> <td>San Francisco</td> <td>74.68 </td> <td>126 </td>\n",
       "        </tr>\n",
       "        <tr>\n",
       "            <td>Park Row Building     </td> <td>steel   </td> <td>New York City</td> <td>119.18</td> <td>125 </td>\n",
       "        </tr>\n",
       "        <tr>\n",
       "            <td>6 North Michigan      </td> <td>steel   </td> <td>Chicago      </td> <td>85.95 </td> <td>125 </td>\n",
       "        </tr>\n",
       "    </tbody>\n",
       "</table>\n",
       "<p>... (1771 rows omitted)</p>"
      ],
      "text/plain": [
       "name                   | material | city          | height | age\n",
       "Statue of Liberty      | steel    | New York City | 93     | 138\n",
       "The Rookery            | steel    | Chicago       | 55.02  | 136\n",
       "Wainwright Building    | steel    | St. Louis     | 44.81  | 132\n",
       "Park Place Tower       | steel    | New York City | 88.7   | 129\n",
       "Reliance Building      | steel    | Chicago       | 61.47  | 129\n",
       "Bank of Tokyo Building | steel    | New York City | 103    | 128\n",
       "FlatironCity           | steel    | Atlanta       | 48.2   | 127\n",
       "Ferry Building         | steel    | San Francisco | 74.68  | 126\n",
       "Park Row Building      | steel    | New York City | 119.18 | 125\n",
       "6 North Michigan       | steel    | Chicago       | 85.95  | 125\n",
       "... (1771 rows omitted)"
      ]
     },
     "execution_count": 8,
     "metadata": {},
     "output_type": "execute_result"
    }
   ],
   "source": [
    "# Hint: You can use sort to find the name of the oldest building in the dataset\n",
    "# sky.sort('age', descending=True).column('name').item(0)\n",
    "sky.sort('age', descending=True)"
   ]
  },
  {
   "cell_type": "code",
   "execution_count": 9,
   "metadata": {},
   "outputs": [
    {
     "data": {
      "text/html": [
       "<table border=\"1\" class=\"dataframe\">\n",
       "    <thead>\n",
       "        <tr>\n",
       "            <th>city</th> <th>concrete</th> <th>mixed/composite</th> <th>steel</th>\n",
       "        </tr>\n",
       "    </thead>\n",
       "    <tbody>\n",
       "        <tr>\n",
       "            <td>Atlanta   </td> <td>Westin Peachtree Plaza                   </td> <td>Two Alliance Center                      </td> <td>State of Georgia Building           </td>\n",
       "        </tr>\n",
       "        <tr>\n",
       "            <td>Austin    </td> <td>Windsor on the Lake                      </td> <td>                                         </td> <td>University of Texas Tower           </td>\n",
       "        </tr>\n",
       "        <tr>\n",
       "            <td>Baltimore </td> <td>The John and Frances Angelos Law Center  </td> <td>                                         </td> <td>Mercy Medical Center Inpatient Tower</td>\n",
       "        </tr>\n",
       "        <tr>\n",
       "            <td>Boston    </td> <td>Harbor Towers II                         </td> <td>Ellison Building                         </td> <td>Two International Place             </td>\n",
       "        </tr>\n",
       "        <tr>\n",
       "            <td>Charlotte </td> <td>TradeMark                                </td> <td>Hearst Tower                             </td> <td>Skye Building                       </td>\n",
       "        </tr>\n",
       "        <tr>\n",
       "            <td>Chicago   </td> <td>theWit Hotel                             </td> <td>United Building                          </td> <td>Wrigley Building North Addition     </td>\n",
       "        </tr>\n",
       "        <tr>\n",
       "            <td>Cincinnati</td> <td>Kroger Building                          </td> <td>Great American Tower at Queen City Square</td> <td>Scripps Center                      </td>\n",
       "        </tr>\n",
       "        <tr>\n",
       "            <td>Cleveland </td> <td>National City Center                     </td> <td>The Metropolitan at the 9                </td> <td>Tower at Erieview                   </td>\n",
       "        </tr>\n",
       "        <tr>\n",
       "            <td>Columbus  </td> <td>Sheraton Columbus Hotel at Capitol Square</td> <td>                                         </td> <td>William Green Building              </td>\n",
       "        </tr>\n",
       "        <tr>\n",
       "            <td>Dallas    </td> <td>W Dallas Victory Hotel & Residences      </td> <td>Comerica Bank Tower                      </td> <td>Three AT&T Plaza                    </td>\n",
       "        </tr>\n",
       "    </tbody>\n",
       "</table>\n",
       "<p>... (25 rows omitted)</p>"
      ],
      "text/plain": [
       "city       | concrete                                  | mixed/composite                           | steel\n",
       "Atlanta    | Westin Peachtree Plaza                    | Two Alliance Center                       | State of Georgia Building\n",
       "Austin     | Windsor on the Lake                       |                                           | University of Texas Tower\n",
       "Baltimore  | The John and Frances Angelos Law Center   |                                           | Mercy Medical Center Inpatient Tower\n",
       "Boston     | Harbor Towers II                          | Ellison Building                          | Two International Place\n",
       "Charlotte  | TradeMark                                 | Hearst Tower                              | Skye Building\n",
       "Chicago    | theWit Hotel                              | United Building                           | Wrigley Building North Addition\n",
       "Cincinnati | Kroger Building                           | Great American Tower at Queen City Square | Scripps Center\n",
       "Cleveland  | National City Center                      | The Metropolitan at the 9                 | Tower at Erieview\n",
       "Columbus   | Sheraton Columbus Hotel at Capitol Square |                                           | William Green Building\n",
       "Dallas     | W Dallas Victory Hotel & Residences       | Comerica Bank Tower                       | Three AT&T Plaza\n",
       "... (25 rows omitted)"
      ]
     },
     "execution_count": 9,
     "metadata": {},
     "output_type": "execute_result"
    }
   ],
   "source": [
    "'''\n",
    "\n",
    "# Group by city and material and get the minimum age for each group\n",
    "age = sky.group(['city', 'material'], min)\n",
    "\n",
    "# Join back to get the names of the buildings\n",
    "age = sky.join(['city', 'material', 'age'], sky, ['city', 'material', 'age'])\n",
    "\n",
    "# Select relevant columns to display\n",
    "age = sky.select('city', 'material', 'name', 'age')\n",
    "\n",
    "age.show(5)\n",
    "\n",
    "'''\n",
    "\n",
    "age = sky.pivot('material', 'city', values='name', collect=max)\n",
    "age"
   ]
  },
  {
   "cell_type": "markdown",
   "metadata": {},
   "source": [
    "## Further exploration"
   ]
  },
  {
   "cell_type": "markdown",
   "metadata": {
    "scrolled": false
   },
   "source": [
    "**Find the 10 cities that have the most skyscrapers.**"
   ]
  },
  {
   "cell_type": "code",
   "execution_count": 11,
   "metadata": {
    "scrolled": true
   },
   "outputs": [
    {
     "data": {
      "text/html": [
       "<table border=\"1\" class=\"dataframe\">\n",
       "    <thead>\n",
       "        <tr>\n",
       "            <th>city</th> <th>count</th>\n",
       "        </tr>\n",
       "    </thead>\n",
       "    <tbody>\n",
       "        <tr>\n",
       "            <td>New York City</td> <td>531  </td>\n",
       "        </tr>\n",
       "        <tr>\n",
       "            <td>Chicago      </td> <td>358  </td>\n",
       "        </tr>\n",
       "        <tr>\n",
       "            <td>Miami        </td> <td>86   </td>\n",
       "        </tr>\n",
       "        <tr>\n",
       "            <td>San Francisco</td> <td>61   </td>\n",
       "        </tr>\n",
       "        <tr>\n",
       "            <td>Houston      </td> <td>54   </td>\n",
       "        </tr>\n",
       "        <tr>\n",
       "            <td>Seattle      </td> <td>54   </td>\n",
       "        </tr>\n",
       "        <tr>\n",
       "            <td>Honolulu     </td> <td>50   </td>\n",
       "        </tr>\n",
       "        <tr>\n",
       "            <td>Los Angeles  </td> <td>49   </td>\n",
       "        </tr>\n",
       "        <tr>\n",
       "            <td>Las Vegas    </td> <td>44   </td>\n",
       "        </tr>\n",
       "        <tr>\n",
       "            <td>Minneapolis  </td> <td>39   </td>\n",
       "        </tr>\n",
       "    </tbody>\n",
       "</table>"
      ],
      "text/plain": [
       "city          | count\n",
       "New York City | 531\n",
       "Chicago       | 358\n",
       "Miami         | 86\n",
       "San Francisco | 61\n",
       "Houston       | 54\n",
       "Seattle       | 54\n",
       "Honolulu      | 50\n",
       "Los Angeles   | 49\n",
       "Las Vegas     | 44\n",
       "Minneapolis   | 39"
      ]
     },
     "execution_count": 11,
     "metadata": {},
     "output_type": "execute_result"
    }
   ],
   "source": [
    "city_counts = sky.group('city').sort('count', descending=True)\n",
    "\n",
    "top_10_cities = city_counts.take(np.arange(10))\n",
    "\n",
    "top_10_cities\n"
   ]
  },
  {
   "cell_type": "markdown",
   "metadata": {},
   "source": [
    "**For each city, find the age of the oldest building in each material.**"
   ]
  },
  {
   "cell_type": "code",
   "execution_count": 12,
   "metadata": {
    "scrolled": true
   },
   "outputs": [
    {
     "data": {
      "text/html": [
       "<table border=\"1\" class=\"dataframe\">\n",
       "    <thead>\n",
       "        <tr>\n",
       "            <th>city</th> <th>material</th> <th>age min</th>\n",
       "        </tr>\n",
       "    </thead>\n",
       "    <tbody>\n",
       "        <tr>\n",
       "            <td>Atlanta</td> <td>concrete       </td> <td>10     </td>\n",
       "        </tr>\n",
       "        <tr>\n",
       "            <td>Atlanta</td> <td>mixed/composite</td> <td>15     </td>\n",
       "        </tr>\n",
       "        <tr>\n",
       "            <td>Atlanta</td> <td>steel          </td> <td>43     </td>\n",
       "        </tr>\n",
       "        <tr>\n",
       "            <td>Austin </td> <td>concrete       </td> <td>9      </td>\n",
       "        </tr>\n",
       "        <tr>\n",
       "            <td>Austin </td> <td>steel          </td> <td>87     </td>\n",
       "        </tr>\n",
       "    </tbody>\n",
       "</table>\n",
       "<p>... (86 rows omitted)</p>"
      ],
      "text/plain": [
       "<IPython.core.display.HTML object>"
      ]
     },
     "metadata": {},
     "output_type": "display_data"
    }
   ],
   "source": [
    "oldest_by_material = sky.group(['city', 'material'], min)\n",
    "\n",
    "oldest_buildings_by_material = oldest_by_material.select('city', 'material', 'age min')\n",
    "\n",
    "oldest_buildings_by_material.show(5)\n"
   ]
  },
  {
   "cell_type": "markdown",
   "metadata": {},
   "source": [
    "**For each city, find the average height of the buildings for each material.**"
   ]
  },
  {
   "cell_type": "code",
   "execution_count": 13,
   "metadata": {},
   "outputs": [
    {
     "data": {
      "text/html": [
       "<table border=\"1\" class=\"dataframe\">\n",
       "    <thead>\n",
       "        <tr>\n",
       "            <th>city</th> <th>material</th> <th>height mean</th>\n",
       "        </tr>\n",
       "    </thead>\n",
       "    <tbody>\n",
       "        <tr>\n",
       "            <td>Atlanta</td> <td>concrete       </td> <td>148.775    </td>\n",
       "        </tr>\n",
       "        <tr>\n",
       "            <td>Atlanta</td> <td>mixed/composite</td> <td>229.24     </td>\n",
       "        </tr>\n",
       "        <tr>\n",
       "            <td>Atlanta</td> <td>steel          </td> <td>112.414    </td>\n",
       "        </tr>\n",
       "        <tr>\n",
       "            <td>Austin </td> <td>concrete       </td> <td>127.714    </td>\n",
       "        </tr>\n",
       "        <tr>\n",
       "            <td>Austin </td> <td>steel          </td> <td>93.6       </td>\n",
       "        </tr>\n",
       "    </tbody>\n",
       "</table>\n",
       "<p>... (86 rows omitted)</p>"
      ],
      "text/plain": [
       "<IPython.core.display.HTML object>"
      ]
     },
     "metadata": {},
     "output_type": "display_data"
    }
   ],
   "source": [
    "average_height_by_material = sky.group(['city', 'material'], np.mean)\n",
    "\n",
    "average_height_by_material = average_height_by_material.select('city', 'material', 'height mean')\n",
    "\n",
    "average_height_by_material.show(5)\n"
   ]
  },
  {
   "cell_type": "markdown",
   "metadata": {},
   "source": [
    "## Data collection"
   ]
  },
  {
   "cell_type": "markdown",
   "metadata": {},
   "source": [
    "Build a Birmingham skyscrapers dataset (above 66m), and call it bhmskyscrapers.csv. Use the same csv format as skyscrapers.csv**  The following website is useful: https://en.wikipedia.org/wiki/List_of_tallest_buildings_in_Birmingham,_Alabama\n",
    "This website does not include material.  Find the material of one of the skyscrapers and add it.  "
   ]
  },
  {
   "cell_type": "markdown",
   "metadata": {},
   "source": [
    "Rerun the above computations with the new dataset that incorporates Birmingham skyscrapers."
   ]
  },
  {
   "cell_type": "markdown",
   "metadata": {},
   "source": [
    "Congratulations on finishing lab."
   ]
  },
  {
   "cell_type": "markdown",
   "metadata": {},
   "source": [
    "## Bonus challenges"
   ]
  },
  {
   "cell_type": "markdown",
   "metadata": {},
   "source": [
    "These challenges are optional."
   ]
  },
  {
   "cell_type": "markdown",
   "metadata": {},
   "source": [
    "**Bonus: For each city, compute the age difference between oldest concrete and oldest steel building**"
   ]
  },
  {
   "cell_type": "code",
   "execution_count": 10,
   "metadata": {},
   "outputs": [
    {
     "data": {
      "text/html": [
       "<table border=\"1\" class=\"dataframe\">\n",
       "    <thead>\n",
       "        <tr>\n",
       "            <th>city</th> <th>steel_completed</th> <th>concrete_completed</th> <th>age_diff</th>\n",
       "        </tr>\n",
       "    </thead>\n",
       "    <tbody>\n",
       "        <tr>\n",
       "            <td>Atlanta   </td> <td>1897           </td> <td>1976              </td> <td>-79     </td>\n",
       "        </tr>\n",
       "        <tr>\n",
       "            <td>Austin    </td> <td>1937           </td> <td>1984              </td> <td>-47     </td>\n",
       "        </tr>\n",
       "        <tr>\n",
       "            <td>Baltimore </td> <td>1911           </td> <td>1967              </td> <td>-56     </td>\n",
       "        </tr>\n",
       "        <tr>\n",
       "            <td>Boston    </td> <td>1915           </td> <td>1971              </td> <td>-56     </td>\n",
       "        </tr>\n",
       "        <tr>\n",
       "            <td>Charlotte </td> <td>1924           </td> <td>1992              </td> <td>-68     </td>\n",
       "        </tr>\n",
       "        <tr>\n",
       "            <td>Chicago   </td> <td>1888           </td> <td>1929              </td> <td>-41     </td>\n",
       "        </tr>\n",
       "        <tr>\n",
       "            <td>Cincinnati</td> <td>1913           </td> <td>1954              </td> <td>-41     </td>\n",
       "        </tr>\n",
       "        <tr>\n",
       "            <td>Cleveland </td> <td>1924           </td> <td>1980              </td> <td>-56     </td>\n",
       "        </tr>\n",
       "        <tr>\n",
       "            <td>Columbus  </td> <td>1927           </td> <td>1963              </td> <td>-36     </td>\n",
       "        </tr>\n",
       "        <tr>\n",
       "            <td>Dallas    </td> <td>1928           </td> <td>1978              </td> <td>-50     </td>\n",
       "        </tr>\n",
       "    </tbody>\n",
       "</table>\n",
       "<p>... (23 rows omitted)</p>"
      ],
      "text/plain": [
       "city       | steel_completed | concrete_completed | age_diff\n",
       "Atlanta    | 1897            | 1976               | -79\n",
       "Austin     | 1937            | 1984               | -47\n",
       "Baltimore  | 1911            | 1967               | -56\n",
       "Boston     | 1915            | 1971               | -56\n",
       "Charlotte  | 1924            | 1992               | -68\n",
       "Chicago    | 1888            | 1929               | -41\n",
       "Cincinnati | 1913            | 1954               | -41\n",
       "Cleveland  | 1924            | 1980               | -56\n",
       "Columbus   | 1927            | 1963               | -36\n",
       "Dallas     | 1928            | 1978               | -50\n",
       "... (23 rows omitted)"
      ]
     },
     "execution_count": 10,
     "metadata": {},
     "output_type": "execute_result"
    }
   ],
   "source": [
    "\n",
    "skyscrapers = Table.read_table('skyscrapers.csv')\n",
    "\n",
    "skyscrapers = skyscrapers.with_column('height', skyscrapers.column('height').astype(float))\n",
    "\n",
    "filtered = skyscrapers.where('material', are.contained_in(['steel', 'concrete']))\n",
    "\n",
    "oldest_buildings = filtered.group(['city', 'material'], np.min)\n",
    "\n",
    "steel_buildings = oldest_buildings.where('material', 'steel').select('city', 'completed amin').relabeled('completed amin', 'steel_completed')\n",
    "concrete_buildings = oldest_buildings.where('material', 'concrete').select('city', 'completed amin').relabeled('completed amin', 'concrete_completed')\n",
    "\n",
    "joined = steel_buildings.join('city', concrete_buildings)\n",
    "\n",
    "age_diff = joined.with_column('age_diff', joined.column('steel_completed') - joined.column('concrete_completed'))\n",
    "\n",
    "age_diff.select('city', 'steel_completed', 'concrete_completed', 'age_diff')"
   ]
  },
  {
   "cell_type": "markdown",
   "metadata": {},
   "source": [
    "**Bonus: What proportion of cities is the first steel earlier?**"
   ]
  },
  {
   "cell_type": "code",
   "execution_count": null,
   "metadata": {},
   "outputs": [],
   "source": [
    "\n",
    "age_diff = joined.with_column('is_steel_earlier', joined.column('steel_completed') < joined.column('concrete_completed'))\n",
    "\n",
    "steel_earlier_count = age_diff.where('is_steel_earlier', True).num_rows\n",
    "\n",
    "total_cities = age_diff.num_rows\n",
    "proportion_steel_earlier = steel_earlier_count / total_cities\n",
    "\n",
    "proportion_steel_earlier\n"
   ]
  },
  {
   "cell_type": "markdown",
   "metadata": {},
   "source": [
    "**Bonus: For each city, find the name of the tallest skyscraper.**"
   ]
  },
  {
   "cell_type": "code",
   "execution_count": null,
   "metadata": {},
   "outputs": [],
   "source": [
    "\n",
    "tallest_buildings = skyscrapers.group('city', max).select('city', 'height max')\n",
    "\n",
    "tallest_skyscrapers = skyscrapers.join('height', tallest_buildings, 'height max')\n",
    "\n",
    "tallest_skyscrapers = tallest_skyscrapers.select('city', 'name', 'height')\n",
    "\n",
    "tallest_skyscrapers"
   ]
  }
 ],
 "metadata": {
  "kernelspec": {
   "display_name": "24fa104",
   "language": "python",
   "name": "python3"
  },
  "language_info": {
   "codemirror_mode": {
    "name": "ipython",
    "version": 3
   },
   "file_extension": ".py",
   "mimetype": "text/x-python",
   "name": "python",
   "nbconvert_exporter": "python",
   "pygments_lexer": "ipython3",
   "version": "3.8.6"
  }
 },
 "nbformat": 4,
 "nbformat_minor": 2
}
