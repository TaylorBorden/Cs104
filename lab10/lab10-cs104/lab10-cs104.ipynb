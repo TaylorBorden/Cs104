{
 "cells": [
  {
   "cell_type": "code",
   "execution_count": 1,
   "metadata": {},
   "outputs": [],
   "source": [
    "# john k johnstone; jkj at uab dot edu; CS104; MPL2 license\n",
    "from datascience import *\n",
    "import numpy as np"
   ]
  },
  {
   "cell_type": "markdown",
   "metadata": {},
   "source": [
    "## Lab 10: grayscale image histogram"
   ]
  },
  {
   "cell_type": "markdown",
   "metadata": {},
   "source": [
    "In this lab, you will build an image histogram and write it to a file.\\\n",
    "This will help you better understand file I/O, NumPy arrays, and histograms."
   ]
  },
  {
   "cell_type": "markdown",
   "metadata": {},
   "source": [
    "### Reading an image"
   ]
  },
  {
   "cell_type": "markdown",
   "metadata": {},
   "source": [
    "We will read an image using OpenCV, as discussed in an earlier lab (5).\\\n",
    "We will need to handle the image parts of the code in a script, since\n",
    "Jupyter notebooks do not interact well with OpenCV (vision and graphics modules\n",
    "are often challenging for IDE's such as Jupyter notebooks and Visual Code).\\\n",
    "\n",
    "First import the OpenCV library using `import cv2 as cv`.\\\n",
    "Then read an image using cv.imread: \n",
    "`cv.imread (<image filename>, <flag>)`.\\\n",
    "To read an image as a grayscale image, use the 0 flag.\\\n",
    "imread will return a NumPy array containing the image.\\\n",
    "If this image is grayscale, it will be an array of shape (height, width).\\\n",
    "For example, `img = cv.imread('apollo.jpg', 0)`\\\n",
    "\n",
    "Try it now: read apollo.jpg and report its dimensions below."
   ]
  },
  {
   "cell_type": "markdown",
   "metadata": {},
   "source": [
    "Dimension of apollo.jpg (h x w) = 584 * 640"
   ]
  },
  {
   "cell_type": "markdown",
   "metadata": {},
   "source": [
    "### Building a histogram"
   ]
  },
  {
   "cell_type": "markdown",
   "metadata": {},
   "source": [
    "A pixel in a grayscale image has 256 choices for intensity: \n",
    "0, 1, 2, ..., 255.\\\n",
    "256 choices are enough so that differences between different intensities \n",
    "are indistiguishable by human eyes.\\\n",
    "256 choices also fit perfectly into a byte of memory, which holds 8 bits.\\\n",
    "Since the pixel is recording light intensity (or luminance),\\\n",
    "0 represents black (no light) and 255 represents white (max light).\n"
   ]
  },
  {
   "cell_type": "code",
   "execution_count": 2,
   "metadata": {},
   "outputs": [
    {
     "data": {
      "text/plain": [
       "256"
      ]
     },
     "execution_count": 2,
     "metadata": {},
     "output_type": "execute_result"
    }
   ],
   "source": [
    "2**8"
   ]
  },
  {
   "cell_type": "markdown",
   "metadata": {},
   "source": [
    "Use the type function to discover the type of a scalar in your grayscale image array.\\\n",
    "Report it below."
   ]
  },
  {
   "cell_type": "markdown",
   "metadata": {},
   "source": [
    "Type of the image array scalar = Type of the image array scalar: <class 'numpy.uint8'>"
   ]
  },
  {
   "cell_type": "markdown",
   "metadata": {},
   "source": [
    "### Initializing the histogram"
   ]
  },
  {
   "cell_type": "markdown",
   "metadata": {},
   "source": [
    "You will build an image histogram h:\n",
    "an array that counts the pixels of each intensity.\\\n",
    "Clearly this array should be of size 256.\\\n",
    "But what type should it be?\\\n",
    "That is, you will initialize the histogram to `h = np.zeros(256, dtype=?)`\\\n",
    "Since this is a count, you want an unsigned integer type.\\\n",
    "NumPy offers various sizes for unsigned integers: \n",
    "np.uint8 (1 byte), np.uint16 (2 bytes), np.uint32 (4 bytes), and np.uint64 (8 bytes).\\\n",
    "The smallest integer that you can store in these types is 0.\\\n",
    "What is the largest integer you can store, for each type?\\\n",
    "Record your answer below."
   ]
  },
  {
   "cell_type": "code",
   "execution_count": 3,
   "metadata": {},
   "outputs": [],
   "source": [
    "max_uint8  = 255\n",
    "max_uint16 = 65535\n",
    "max_uint32 = 4294967295\n",
    "max_uint64 = 18446744073709551615"
   ]
  },
  {
   "cell_type": "markdown",
   "metadata": {},
   "source": [
    "Now express these more intuitively, using the short scale naming of large numbers (the American system): see the Wikipedia page `Names of large numbers` to learn more.\\\n",
    "You may be approximate, such as 'about three hundred' for the max uint8 value."
   ]
  },
  {
   "cell_type": "markdown",
   "metadata": {},
   "source": [
    "max_uint8_ballpark  = 'about three hundred'\n",
    "max_uint16_ballpark = ''\n",
    "max_uint32_ballpark = ''\n",
    "max_uint64_ballpark = ''"
   ]
  },
  {
   "cell_type": "markdown",
   "metadata": {},
   "source": [
    "You will be working with large leaf images, so will want to use a scalar that can handle sizes up to 4 million.\n",
    "What scalar type should you use? Record it below."
   ]
  },
  {
   "cell_type": "markdown",
   "metadata": {},
   "source": [
    "scalar type to use = np.unit32"
   ]
  },
  {
   "cell_type": "code",
   "execution_count": 4,
   "metadata": {},
   "outputs": [],
   "source": [
    "import numpy as np\n",
    "\n",
    "# Initialize the histogram\n",
    "h = np.zeros(256, dtype=np.uint32)"
   ]
  },
  {
   "cell_type": "markdown",
   "metadata": {},
   "source": [
    "Go ahead and initialize your histogram now in your Python script."
   ]
  },
  {
   "cell_type": "markdown",
   "metadata": {},
   "source": [
    "### Populating the histogram"
   ]
  },
  {
   "cell_type": "markdown",
   "metadata": {},
   "source": [
    "Next you will build your histogram using a nested for loop, \n",
    "iterating over each pixel of the array.\\\n",
    "The body of the loop increments the appropriate intensity counter.\\\n",
    "For example, if the pixel contains the value 20, it increments hist[20],\n",
    "the counter of the number of pixels of intensity 20.\\\n",
    "Write this code now in your script, for the apollo image.\n"
   ]
  },
  {
   "cell_type": "code",
   "execution_count": 5,
   "metadata": {},
   "outputs": [
    {
     "name": "stdout",
     "output_type": "stream",
     "text": [
      "Number of pixels of intensity 0: 88449\n",
      "Number of pixels of intensity 20: 633\n"
     ]
    }
   ],
   "source": [
    "from PIL import Image\n",
    "\n",
    "# Load the Apollo image (assuming it's a grayscale image)\n",
    "apollo_image = Image.open('apollo.jpg').convert('L')\n",
    "apollo_array = np.array(apollo_image)\n",
    "\n",
    "# Initialize the histogram array\n",
    "hist = np.zeros(256, dtype=np.uint32)\n",
    "\n",
    "# Build the histogram using a nested for loop\n",
    "for row in apollo_array:\n",
    "    for pixel in row:\n",
    "        hist[pixel] += 1\n",
    "\n",
    "# Get the number of pixels of intensity 0 and 20\n",
    "nPixel0InApollo = hist[0]\n",
    "nPixel20InApollo = hist[20]\n",
    "\n",
    "print(f\"Number of pixels of intensity 0: {nPixel0InApollo}\")\n",
    "print(f\"Number of pixels of intensity 20: {nPixel20InApollo}\")\n"
   ]
  },
  {
   "cell_type": "markdown",
   "metadata": {},
   "source": [
    "How many pixels of intensity 0 and 20 does the apollo image contain?"
   ]
  },
  {
   "cell_type": "code",
   "execution_count": 6,
   "metadata": {},
   "outputs": [],
   "source": [
    "nPixel0InApollo  = 88449\n",
    "nPixel20InApollo = 633"
   ]
  },
  {
   "cell_type": "markdown",
   "metadata": {},
   "source": [
    "### Testing"
   ]
  },
  {
   "cell_type": "markdown",
   "metadata": {},
   "source": [
    "Suppose that you had mistakenly used an array of type np.uint8.\\\n",
    "How many pixels of intensity 0 and 20 would you compute for the apollo image?"
   ]
  },
  {
   "cell_type": "code",
   "execution_count": 7,
   "metadata": {},
   "outputs": [],
   "source": [
    "nPixel0InApolloIfTypeUint8  = np.uint32\n",
    "nPixel20InApolloIfTypeUint8 = np.uint32"
   ]
  },
  {
   "cell_type": "markdown",
   "metadata": {},
   "source": [
    "This establishes the importance of testing your code.\\\n",
    "How could you find this error using testing?\\\n",
    "One idea would be to use a large black image, for which it is simple to calculate the correct answer for the 0-count.\\\n",
    "The code should also document the maximum size image it will handle.\\\n",
    "If you use np.uint16 type for your histogram, what is the largest square image you can handle?"
   ]
  },
  {
   "cell_type": "code",
   "execution_count": 8,
   "metadata": {},
   "outputs": [],
   "source": [
    "max_hist_count = np.iinfo(np.uint16).max  \n",
    "maxSqSizeWithUint16 = int(np.sqrt(max_hist_count))"
   ]
  },
  {
   "cell_type": "code",
   "execution_count": 9,
   "metadata": {},
   "outputs": [
    {
     "name": "stdout",
     "output_type": "stream",
     "text": [
      "255\n"
     ]
    }
   ],
   "source": [
    "max_hist_count = np.iinfo(np.uint16).max\n",
    "maxSqSizeWithUint16 = int(np.sqrt(max_hist_count))\n",
    "print(maxSqSizeWithUint16)  "
   ]
  },
  {
   "cell_type": "markdown",
   "metadata": {},
   "source": [
    "### Capturing this code in a function"
   ]
  },
  {
   "cell_type": "markdown",
   "metadata": {},
   "source": [
    "Now write a function (in your Python script) that computes the histogram of an image.\\\n",
    "Below is its docstring.\n",
    "(Be sure to move back to the correct type after your experimentation above with the wrong type.)"
   ]
  },
  {
   "cell_type": "code",
   "execution_count": 14,
   "metadata": {},
   "outputs": [
    {
     "name": "stdout",
     "output_type": "stream",
     "text": [
      "[88449 13619  5321  2892  2826  1921  1731  1691  1345  1299  1142  1050\n",
      "  1002   937   863   811   768   782   673   668   633   669   639   592\n",
      "   623   620   569   601   611   590   592   579   646   633   594   613\n",
      "   587   665   650   656   619   671   643   698   678   653   723   630\n",
      "   658   720   746   729   773   786   810   811   809   859   837   881\n",
      "   963   946   969   934   989  1030  1034  1028  1073  1103  1089  1139\n",
      "  1121  1223  1223  1215  1283  1294  1312  1349  1403  1447  1438  1490\n",
      "  1531  1557  1514  1621  1575  1612  1638  1630  1696  1588  1713  1705\n",
      "  1650  1613  1654  1588  1599  1639  1581  1573  1564  1510  1476  1501\n",
      "  1468  1537  1437  1487  1401  1427  1462  1471  1441  1398  1512  1377\n",
      "  1427  1500  1405  1428  1363  1407  1417  1384  1375  1365  1342  1341\n",
      "  1311  1374  1302  1334  1310  1320  1269  1344  1324  1295  1359  1264\n",
      "  1277  1287  1280  1181  1200  1244  1304  1318  1284  1285  1294  1249\n",
      "  1250  1189  1267  1237  1217  1228  1231  1231  1215  1134  1206  1107\n",
      "  1169  1159  1186  1213  1157  1170  1181  1118  1086  1122  1157  1096\n",
      "  1078  1055  1114  1087  1043  1027   996  1064  1021   998  1048  1042\n",
      "   952  1043  1003  1009  1000   964  1009  1008   968   963   943  1020\n",
      "  1009   977   992   968   995  1000   922   933   943   918   912   890\n",
      "   922   912   932   934   899   896   834   883   845   860   812   804\n",
      "   760   713   754   778   653   640   629   551   471   440   413   363\n",
      "   285   288   259   257   235   246   243   214   248   202   192   167\n",
      "   166   161   143    26]\n"
     ]
    }
   ],
   "source": [
    "import numpy as np\n",
    "from PIL import Image\n",
    "\n",
    "def luminanceHist(fn):\n",
    "    \"\"\"\n",
    "    Build a histogram of the intensities of a grayscale image.\n",
    "\n",
    "    Params:\n",
    "    fn (str): image filename\n",
    "\n",
    "    Returns:\n",
    "    np.ndarray: histogram of grayscale intensities\n",
    "    \"\"\"\n",
    "    # Load the image and convert to grayscale\n",
    "    image = Image.open(fn).convert('L')\n",
    "    image_array = np.array(image)\n",
    "\n",
    "    # Initialize the histogram array\n",
    "    hist = np.zeros(256, dtype=np.uint32)\n",
    "\n",
    "    # Build the histogram\n",
    "    for row in image_array:\n",
    "        for pixel in row:\n",
    "            hist[pixel] += 1\n",
    "\n",
    "    return hist\n",
    "\n",
    "\n",
    "#filename = 'Quercus_stellata_27.jpg'\n",
    "filename = 'apollo.jpg'\n",
    "histogram = luminanceHist(filename)\n",
    "print(histogram)\n"
   ]
  },
  {
   "cell_type": "markdown",
   "metadata": {},
   "source": [
    "Call this function on the leaf image I have given you:\\\n",
    "Quercus_stellata_27.jpg.\n",
    "Then calculate the following values for the leaf."
   ]
  },
  {
   "cell_type": "code",
   "execution_count": 11,
   "metadata": {},
   "outputs": [
    {
     "name": "stdout",
     "output_type": "stream",
     "text": [
      "Number of pixels of intensity 0: 15\n",
      "Number of pixels of intensity 20: 2036\n",
      "Maximum count in the leaf image: 3829909\n"
     ]
    }
   ],
   "source": [
    "filename = 'Quercus_stellata_27.jpg'\n",
    "histogram = luminanceHist(filename)\n",
    "\n",
    "nPixel0InLeaf = histogram[0]\n",
    "nPixel20InLeaf = histogram[20]\n",
    "maxCountInLeaf = np.max(histogram)\n",
    "\n",
    "print(f\"Number of pixels of intensity 0: {nPixel0InLeaf}\")\n",
    "print(f\"Number of pixels of intensity 20: {nPixel20InLeaf}\")\n",
    "print(f\"Maximum count in the leaf image: {maxCountInLeaf}\")\n"
   ]
  },
  {
   "cell_type": "markdown",
   "metadata": {},
   "source": [
    "### Writing the histogram array"
   ]
  },
  {
   "cell_type": "markdown",
   "metadata": {},
   "source": [
    "Now that you have computed the histogram, using the image, \n",
    "you can write the data to a file, so that another piece of code\n",
    "(e.g., a Jupyter notebook) can use it, by reading it.\n",
    "Since we like building histogram images using tables, we will write it as a csv file, since we can easily read this into a table.  "
   ]
  },
  {
   "cell_type": "markdown",
   "metadata": {},
   "source": [
    "### CSV file"
   ]
  },
  {
   "cell_type": "markdown",
   "metadata": {},
   "source": [
    "A csv file uses comma-separated values.\\\n",
    "In our table csv files, the first line of the file is the names of the columns.\\\n",
    "We will have two columns: Intensity and Count.\\\n",
    "Then every subsequent row has these two values, separated by a comma.\\\n",
    "For example, here is the start of a csv file recording the apollo histogram."
   ]
  },
  {
   "cell_type": "markdown",
   "metadata": {},
   "source": [
    "Intensity,Count\\\n",
    "0,102963\\\n",
    "1,3312\\\n",
    "2,2770\\\n",
    "..."
   ]
  },
  {
   "cell_type": "markdown",
   "metadata": {},
   "source": [
    "### Opening a file"
   ]
  },
  {
   "cell_type": "markdown",
   "metadata": {},
   "source": [
    "The first step in writing a file is to open a file.\\\n",
    "The Python function is open.\n",
    "You can check that it is a built-in function, so requires no imports.\n",
    "\n",
    "The first parameter is the name of the file, a string.\\\n",
    "We will call our output file of the leaf histogram `hist_Quercus_stellata_27.csv`.\\\n",
    "The suffix indicates the type of the file.\\\n",
    "The filename indicates its contents.\\\n",
    "Avoid filenames like `paper.pdf` or `hw.py` or `histogram.csv`\n",
    "that tell nothing about the file and do not distinguish it from other files.\\\n",
    "This is one place where a longer name is valid.\n",
    "\n",
    "The second parameter is the mode of opening: read, write, etc.\\\n",
    "The default mode is read, so we need to set the mode to write.\\\n",
    "We will use 'w' mode which will empty the file before writing to it.\\\n",
    "If we use 'a' mode, the file would be left as is and writing will append.\n",
    "\n",
    "We will also set a parameter called `encoding`: we will use a standard encoding `utf-8`.\\\n",
    "(Interestingly, there is no default encoding.)\n",
    "Here we will name the parameter to set this encoding parameter, \n",
    "since it is not the third parameter.\n",
    "(Named parameters are a nice Python feature, not present in most other languages.)\n",
    "\n",
    "The open function returns a file handle, a pointer to the file that can be used to refer to the file in future commands.\n",
    "\n",
    "Pulling all of this together, here is how we open the file.\n"
   ]
  },
  {
   "cell_type": "code",
   "execution_count": 12,
   "metadata": {},
   "outputs": [],
   "source": [
    "f = open('hist_Quercus_stellata_27.csv', 'w', encoding='utf-8')"
   ]
  },
  {
   "cell_type": "markdown",
   "metadata": {},
   "source": [
    "### Writing a file"
   ]
  },
  {
   "cell_type": "markdown",
   "metadata": {},
   "source": [
    "Output to a file must be a string, even if it is a number.\\\n",
    "Therefore, you will cast numbers to strings.\\\n",
    "For example, 25 is written as str(25).\n",
    "(Reading a file will also use strings exclusively: everything is read as a string, and then cast to the appropriate type. \n",
    "In this case, the 25 would be read as '25' and cast using int().)\n",
    "\n",
    "The file object returned by open (whose type depends on how open was called) will have a method called `write` with a string parameter.\\\n",
    "For example, the following code writes the number 42 to a file called `hitchhiker.txt`."
   ]
  },
  {
   "cell_type": "code",
   "execution_count": 13,
   "metadata": {},
   "outputs": [],
   "source": [
    "f = open('hitchhiker.txt', 'w', encoding='utf-8')\n",
    "f.write(str(42) + '\\n')\n",
    "f.close()"
   ]
  },
  {
   "cell_type": "markdown",
   "metadata": {},
   "source": [
    "### Adding whitespace to the output file"
   ]
  },
  {
   "cell_type": "markdown",
   "metadata": {},
   "source": [
    "You will notice the addition of a newline character in this example.\\\n",
    "An interesting thing about writing to a file is that whitespace must be written explicitly.\\\n",
    "This is also true about output to the screen (printing), but here the addition is often implicit, since print automatically adds a newline character to the end of the string (by default).\n",
    "\n",
    "Whitespace is a very important component of output\n",
    "(as indeed it is in writing code, for a different reason of readability).\n",
    "Whitespace communicates important information about the data,\n",
    "and is used in reading the file.\\\n",
    "For example, in writing a table to a csv file, each row of the file\n",
    "is a different row in the table.\n",
    "\n",
    "The standard whitespace added is spaces and newline characters.\\\n",
    "' ' is a space (a string of length one containing a space).\\\n",
    "The newline character is more subtle: there are actually many choices here, and Windows expects different newline combinations than Unix systems.\n",
    "But we will simply use the Unix newline character '\\n' here."
   ]
  },
  {
   "cell_type": "markdown",
   "metadata": {},
   "source": [
    "### Closing a file"
   ]
  },
  {
   "cell_type": "markdown",
   "metadata": {},
   "source": [
    "A file should be closed after output is complete, for many reasons,\n",
    "including security, memory management, and aesthetic symmetry."
   ]
  },
  {
   "cell_type": "markdown",
   "metadata": {},
   "source": [
    "### Writing the histogram"
   ]
  },
  {
   "cell_type": "markdown",
   "metadata": {},
   "source": [
    "Go ahead and write your leaf histogram now.\\\n",
    "Hint: your file should have 257 lines."
   ]
  },
  {
   "cell_type": "markdown",
   "metadata": {},
   "source": [
    "### Finished, fini, completo, fertig"
   ]
  },
  {
   "cell_type": "markdown",
   "metadata": {},
   "source": [
    "Congratulations."
   ]
  }
 ],
 "metadata": {
  "anaconda-cloud": {},
  "kernelspec": {
   "display_name": "24fa104-minimal",
   "language": "python",
   "name": "python3"
  },
  "language_info": {
   "codemirror_mode": {
    "name": "ipython",
    "version": 3
   },
   "file_extension": ".py",
   "mimetype": "text/x-python",
   "name": "python",
   "nbconvert_exporter": "python",
   "pygments_lexer": "ipython3",
   "version": "3.12.5"
  }
 },
 "nbformat": 4,
 "nbformat_minor": 1
}
