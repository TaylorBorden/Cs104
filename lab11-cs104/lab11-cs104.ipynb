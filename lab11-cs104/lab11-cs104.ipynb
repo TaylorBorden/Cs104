{
 "cells": [
  {
   "cell_type": "code",
   "execution_count": 27,
   "id": "33c35575",
   "metadata": {
    "deletable": false,
    "editable": false
   },
   "outputs": [],
   "source": [
    "# Initialize Otter\n",
    "import otter\n",
    "grader = otter.Notebook(\"lab11-cs104.ipynb\")"
   ]
  },
  {
   "cell_type": "markdown",
   "id": "a580b7bc",
   "metadata": {},
   "source": [
    "## Examining the Therapeutic Touch\n",
    "\n",
    "Welcome.\n",
    "\n",
    "After such an extensive introduction to programming for data science, we are finally moving into the section of the course where we can apply our new skills to answer real questions.\n",
    "\n",
    "In this lab, we'll use testing techniques that were introduced in lecture to test the idea of the therapeutic touch, the idea that some practitioner can feel and massage your human energy field.\n",
    "\n",
    "If you get stuck, you can review the recent simulations in class or textbook.\n",
    "\n",
    "Before you get started, please set up the notebook by running the cell below."
   ]
  },
  {
   "cell_type": "code",
   "execution_count": 28,
   "id": "c26547ab",
   "metadata": {
    "execution": {
     "iopub.execute_input": "2022-03-01T08:49:10.973945Z",
     "iopub.status.busy": "2022-03-01T08:49:10.971317Z",
     "iopub.status.idle": "2022-03-01T08:49:12.625254Z",
     "shell.execute_reply": "2022-03-01T08:49:12.624276Z"
    }
   },
   "outputs": [],
   "source": [
    "# Run this cell, but please don't change it.\n",
    "\n",
    "# These lines import the Numpy and Datascience modules.\n",
    "import numpy as np\n",
    "from datascience import *\n",
    "\n",
    "# These lines do some fancy plotting magic\n",
    "import matplotlib\n",
    "%matplotlib inline\n",
    "import matplotlib.pyplot as plt\n",
    "plt.style.use('fivethirtyeight')\n",
    "import warnings\n",
    "warnings.simplefilter('ignore', FutureWarning)\n",
    "from matplotlib import patches\n",
    "from ipywidgets import interact, interactive, fixed\n",
    "import ipywidgets as widgets"
   ]
  },
  {
   "cell_type": "markdown",
   "id": "decd7ffd",
   "metadata": {},
   "source": [
    "## Lab Check-off\n",
    "\n",
    "How does sample_proportions work? What are its inputs and outputs?"
   ]
  },
  {
   "cell_type": "markdown",
   "id": "bcc74b6a",
   "metadata": {},
   "source": [
    "sample_proportions is used to randomly sample from multiple categories based on given proportions.\n",
    "\n",
    "Inputs:\n",
    "Sample Size (n): The total number of samples to draw.\n",
    "\n",
    "Proportion Array (p): An array of proportions for each category, which should sum to 1.\n",
    "\n",
    "Outputs:\n",
    "Proportion Array: An array of the proportions observed in each category within the sample."
   ]
  },
  {
   "cell_type": "code",
   "execution_count": 29,
   "id": "413c978a",
   "metadata": {},
   "outputs": [
    {
     "name": "stdout",
     "output_type": "stream",
     "text": [
      "[ 0.3  0.7]\n"
     ]
    }
   ],
   "source": [
    "import numpy as np\n",
    "from datascience import sample_proportions\n",
    "\n",
    "coin_proportions = np.array([0.5, 0.5])\n",
    "ten_flips = sample_proportions(10, coin_proportions)\n",
    "print(ten_flips)\n"
   ]
  },
  {
   "cell_type": "markdown",
   "id": "4825ef88",
   "metadata": {},
   "source": [
    "## 1. What is the Therapeutic Touch\n",
    "\n",
    "The Therapeutic Touch (TT) is the idea that everyone can feel the Human Energy Field (HEF) around individuals.  Those who practice TT have described different people's HEFs as \"warm as Jell-O\" and \"tactile as taffy.\" \n",
    "\n",
    "TT was a popular technique used throughout the 20th century that was toted as a great way to bring balance to a person's health. Certain practitioners claim they have the ability to feel the HEF and can massage it in order to promote health and relaxation in individuals.\n",
    "\n",
    "### Emily Rosa\n",
    "\n",
    "[Emily Rosa](https://en.wikipedia.org/wiki/Emily_Rosa) was a 4th grade student who was very familiar with the world of TT, thanks to her parents, who were both medical practitioners and skeptics of TT.\n",
    "\n",
    "For her 4th grade science fair project, Emily decided to test whether or not TT practitioners could truly interact with a person's HEF. She later went on to publish her work in TT, becoming the youngest person to have a research paper published in a peer reviewed medical journal."
   ]
  },
  {
   "cell_type": "markdown",
   "id": "f37ee8bb",
   "metadata": {},
   "source": [
    "### Emily's Experiment\n",
    "\n",
    "Emily's experiment was clean, simple, and effective. Due to her parents' occupations in the medical field, she had wide access to people who claimed to be TT practitioners. \n",
    "\n",
    "Emily took 21 TT practitioners and used them for her science experiment. She would take a TT practitioner and ask them to extend their hands through a screen (which they can't see through). Emily would be on the other side and would flip a fair coin. Depending on how the coin landed, she would put out either her left hand or her right hand. The TT practitioner would then have to answer which hand Emily put out. If a practitioner could truly interact with a person's HEF, it would be expected that they answer correctly.\n",
    "\n",
    "Overall, through 210 samples, the practitioner picked the correct hand 44% of the time. \n",
    "\n",
    "Emily's main goal here was to test whether or not the TT practitioners' guesses were random, like the flip of a coin. In most medical experiments, this is the norm. We want to test whether or not the treatment has an effect, *not* whether or not the treatment actually works. \n",
    "\n",
    "We will now begin to formulate this experiment in terms of the terminology we learned in this course. "
   ]
  },
  {
   "cell_type": "markdown",
   "id": "d24617cd",
   "metadata": {
    "deletable": false,
    "editable": false
   },
   "source": [
    "**Question 1.1**: Describe Emily’s model for how likely the TT practitioners are to choose the correct hand. What alternative model is her model meant to discredit? Discuss with students around you to come to a conclusion. Check in with a staff member if you are stuck.\n",
    "\n",
    "<!--\n",
    "BEGIN QUESTION\n",
    "name: q1_1\n",
    "-->"
   ]
  },
  {
   "cell_type": "markdown",
   "id": "049abe2a",
   "metadata": {},
   "source": [
    "### Answer:\n",
    "Emily’s model assumes that TT practitioners have a 50% chance of choosing the correct hand, similar to the random outcome of a fair coin toss. This implies that if TT practitioners cannot truly interact with the Human Energy Field (HEF), their guesses are purely random.\n",
    "\n",
    "#### Alternative Model to Discredit:\n",
    "The alternative model that Emily's experiment aims to discredit is the claim that TT practitioners can reliably sense and interact with a person's HEF to choose the correct hand with a probability significantly higher than 50%. If TT practitioners could truly feel the HEF, they would be expected to correctly identify the hand more than half of the time.\n",
    "\n",
    "**In summary**, Emily's experiment is designed to test the null hypothesis that TT practitioners' success rate is no better than random guessing, thereby challenging the claim that TT has a measurable and reliable effect.\n"
   ]
  },
  {
   "cell_type": "markdown",
   "id": "19158ef0",
   "metadata": {
    "deletable": false,
    "editable": false
   },
   "source": [
    "**Question 1.2:** Remember that the practitioner got the correct answer 44% (0.44) of the time. According to Emily's model, on average, what proportion of times do we expect the practitioner to guess the correct hand? Make sure your answer is a number between 0 and 1. \n",
    "\n",
    "<!--\n",
    "BEGIN QUESTION\n",
    "name: q1_2\n",
    "-->"
   ]
  },
  {
   "cell_type": "code",
   "execution_count": 30,
   "id": "d8c6f560",
   "metadata": {
    "execution": {
     "iopub.execute_input": "2022-03-01T08:49:12.633145Z",
     "iopub.status.busy": "2022-03-01T08:49:12.632539Z",
     "iopub.status.idle": "2022-03-01T08:49:12.636232Z",
     "shell.execute_reply": "2022-03-01T08:49:12.635787Z"
    }
   },
   "outputs": [
    {
     "data": {
      "text/plain": [
       "0.5"
      ]
     },
     "execution_count": 30,
     "metadata": {},
     "output_type": "execute_result"
    }
   ],
   "source": [
    "expected_proportion_correct = 0.50\n",
    "expected_proportion_correct"
   ]
  },
  {
   "cell_type": "code",
   "execution_count": 31,
   "id": "da9ae0be",
   "metadata": {
    "deletable": false,
    "editable": false
   },
   "outputs": [
    {
     "data": {
      "text/html": [
       "<p><strong><pre style='display: inline;'>q1_2</pre></strong> passed! 💯</p>"
      ],
      "text/plain": [
       "q1_2 results: All test cases passed!"
      ]
     },
     "execution_count": 31,
     "metadata": {},
     "output_type": "execute_result"
    }
   ],
   "source": [
    "grader.check(\"q1_2\")"
   ]
  },
  {
   "cell_type": "markdown",
   "id": "bdfadea1",
   "metadata": {
    "deletable": false,
    "editable": false
   },
   "source": [
    "The goal now is to see if our deviation from this expected proportion of correct answers is due to something other than chance. \n",
    "\n",
    "**Question 1.3:** We usually use a statistic to help determine which model the evidence points towards. What is a statistic that we can use to compare outcomes under Emily’s model to what was observed? Assign `valid_stat` to an array of integer(s) representing test statistics that Emily can use: \n",
    "\n",
    "1. The difference between the expected percent correct and the actual percent correct\n",
    "2. The absolute difference between the expected percent correct and the actual percent correct\n",
    "3. The sum of the expected percent correct and the actual percent correct\n",
    "\n",
    "**NOTE:** Make sure to use `make_array` to create your array of integer(s)!  That is, make an array with all the test statistics that would be valid to use (1 and/or 2 and/or 3).\n",
    "\n",
    "<!--\n",
    "BEGIN QUESTION\n",
    "name: q1_3\n",
    "-->"
   ]
  },
  {
   "cell_type": "code",
   "execution_count": 32,
   "id": "a6c870af",
   "metadata": {
    "execution": {
     "iopub.execute_input": "2022-03-01T08:49:12.657322Z",
     "iopub.status.busy": "2022-03-01T08:49:12.656794Z",
     "iopub.status.idle": "2022-03-01T08:49:12.659911Z",
     "shell.execute_reply": "2022-03-01T08:49:12.659458Z"
    }
   },
   "outputs": [
    {
     "data": {
      "text/plain": [
       "array([2])"
      ]
     },
     "execution_count": 32,
     "metadata": {},
     "output_type": "execute_result"
    }
   ],
   "source": [
    "from datascience import make_array\n",
    "\n",
    "valid_stat = make_array(2)\n",
    "valid_stat\n"
   ]
  },
  {
   "cell_type": "code",
   "execution_count": 33,
   "id": "ab61b1c2",
   "metadata": {
    "deletable": false,
    "editable": false
   },
   "outputs": [
    {
     "data": {
      "text/html": [
       "<p><strong><pre style='display: inline;'>q1_3</pre></strong> passed! 🌟</p>"
      ],
      "text/plain": [
       "q1_3 results: All test cases passed!"
      ]
     },
     "execution_count": 33,
     "metadata": {},
     "output_type": "execute_result"
    }
   ],
   "source": [
    "grader.check(\"q1_3\")"
   ]
  },
  {
   "cell_type": "markdown",
   "id": "5205f8d6",
   "metadata": {
    "deletable": false,
    "editable": false
   },
   "source": [
    "**Question 1.4:** Why is the statistic from Question 1.3 the appropriate choice for comparing outcomes in Emily's experiment? How does it relate to the models you defined in Question 1.1?\n",
    "\n",
    "<!--\n",
    "BEGIN QUESTION\n",
    "name: q1_4\n",
    "-->"
   ]
  },
  {
   "cell_type": "markdown",
   "id": "47f5046f",
   "metadata": {},
   "source": [
    "The absolute difference between the expected percent correct and the actual percent correct is appropriate because it measures how much the observed result deviates from the expected result under the null hypothesis, regardless of direction. This helps to determine if TT practitioners' guesses are random (as expected) or not.\n",
    "\n",
    "It directly tests if the observed 44% correct guesses significantly deviate from the expected 50%, providing evidence against the null hypothesis if the deviation is large enough."
   ]
  },
  {
   "cell_type": "markdown",
   "id": "0fe5d89d",
   "metadata": {
    "deletable": false,
    "editable": false
   },
   "source": [
    "**Question 1.5:** Define the function `statistic` which takes in an expected proportion and an actual proportion, and returns the value of the statistic chosen in Question 1.3. Assume that the argument takes in proportions, but  return your answer as a percentage. \n",
    "\n",
    "*Hint:* Remember we are asking for a **percentage**, not a proportion. \n",
    "\n",
    "<!--\n",
    "BEGIN QUESTION\n",
    "name: q1_5\n",
    "-->"
   ]
  },
  {
   "cell_type": "code",
   "execution_count": 34,
   "id": "4381f1a4",
   "metadata": {
    "execution": {
     "iopub.execute_input": "2022-03-01T08:49:12.681866Z",
     "iopub.status.busy": "2022-03-01T08:49:12.681162Z",
     "iopub.status.idle": "2022-03-01T08:49:12.683882Z",
     "shell.execute_reply": "2022-03-01T08:49:12.683314Z"
    }
   },
   "outputs": [
    {
     "name": "stdout",
     "output_type": "stream",
     "text": [
      "6.0\n"
     ]
    }
   ],
   "source": [
    "def statistic(expected_prop, actual_prop):\n",
    "    # Calculate the absolute difference\n",
    "    difference = abs(expected_prop - actual_prop)\n",
    "    # Convert the difference to a percentage\n",
    "    percentage_difference = difference * 100\n",
    "    return percentage_difference\n",
    "\n",
    "# Example usage:\n",
    "expected_prop = 0.50\n",
    "actual_prop = 0.44\n",
    "print(statistic(expected_prop, actual_prop))  # Output should be 6.0\n"
   ]
  },
  {
   "cell_type": "code",
   "execution_count": 35,
   "id": "c4a2be56",
   "metadata": {
    "deletable": false,
    "editable": false
   },
   "outputs": [
    {
     "data": {
      "text/html": [
       "<p><strong><pre style='display: inline;'>q1_5</pre></strong> passed! ✨</p>"
      ],
      "text/plain": [
       "q1_5 results: All test cases passed!"
      ]
     },
     "execution_count": 35,
     "metadata": {},
     "output_type": "execute_result"
    }
   ],
   "source": [
    "grader.check(\"q1_5\")"
   ]
  },
  {
   "cell_type": "markdown",
   "id": "8192a11d",
   "metadata": {
    "deletable": false,
    "editable": false
   },
   "source": [
    "**Question 1.6:** Use your newly defined function to calculate the observed statistic from Emily's experiment. \n",
    "\n",
    "<!--\n",
    "BEGIN QUESTION\n",
    "name: q1_6\n",
    "-->"
   ]
  },
  {
   "cell_type": "code",
   "execution_count": 36,
   "id": "7bbba2b6",
   "metadata": {
    "execution": {
     "iopub.execute_input": "2022-03-01T08:49:12.704197Z",
     "iopub.status.busy": "2022-03-01T08:49:12.703651Z",
     "iopub.status.idle": "2022-03-01T08:49:12.738812Z",
     "shell.execute_reply": "2022-03-01T08:49:12.739245Z"
    }
   },
   "outputs": [
    {
     "data": {
      "text/plain": [
       "6.0"
      ]
     },
     "execution_count": 36,
     "metadata": {},
     "output_type": "execute_result"
    }
   ],
   "source": [
    "# Observed proportion of correct guesses\n",
    "actual_prop = 0.44\n",
    "# Expected proportion of correct guesses\n",
    "expected_prop = 0.50\n",
    "\n",
    "# Calculate the observed statistic\n",
    "observed_statistic = statistic(expected_prop, actual_prop)\n",
    "observed_statistic\n"
   ]
  },
  {
   "cell_type": "code",
   "execution_count": 37,
   "id": "f5595a68",
   "metadata": {
    "deletable": false,
    "editable": false
   },
   "outputs": [
    {
     "data": {
      "text/html": [
       "<p><strong><pre style='display: inline;'>q1_6</pre></strong> passed! 🙌</p>"
      ],
      "text/plain": [
       "q1_6 results: All test cases passed!"
      ]
     },
     "execution_count": 37,
     "metadata": {},
     "output_type": "execute_result"
    }
   ],
   "source": [
    "grader.check(\"q1_6\")"
   ]
  },
  {
   "cell_type": "markdown",
   "id": "960ca086",
   "metadata": {},
   "source": [
    "**Is this observed statistic consistent with what we expect to see under Emily’s model?**\n",
    "\n",
    "In order to answer this question, we must simulate the experiment as though Emily's model was correct, and calculate our statistic for every simulation.\n",
    "\n",
    "### `sample_proportions`\n",
    "\n",
    "`sample_proportions` can be used to randomly sample from multiple categories when you know the proportion of data points that are expected to fall in each category. `sample_proportions` takes two arguments: the sample size and an array that contains the distribution of categories in the population (should sum to 1).\n",
    "\n",
    "Consider flipping a fair coin, where the two outcomes (coin lands heads and coin lands tails) occur with an equal chance. We expect that half of all coin flips will land heads, and half of all coin flips will land tails.\n",
    "\n",
    "Run the following cell to see the simulation of 10 flips of a fair coin. Let the first item of `coin_proportions` be the proportion of heads and the second item of `coin_proportions` be the proportion of tails.\n",
    "\n",
    "*Observe what happens when you run this cell multiple times—the proportion of coin flips that land heads and tails appears to change, as you are simulating flipping 10 coins each time!*"
   ]
  },
  {
   "cell_type": "code",
   "execution_count": 38,
   "id": "2d68a60f",
   "metadata": {
    "execution": {
     "iopub.execute_input": "2022-03-01T08:49:12.751836Z",
     "iopub.status.busy": "2022-03-01T08:49:12.750576Z",
     "iopub.status.idle": "2022-03-01T08:49:12.755362Z",
     "shell.execute_reply": "2022-03-01T08:49:12.754846Z"
    }
   },
   "outputs": [
    {
     "data": {
      "text/plain": [
       "array([ 0.5,  0.5])"
      ]
     },
     "execution_count": 38,
     "metadata": {},
     "output_type": "execute_result"
    }
   ],
   "source": [
    "coin_proportions = make_array(0.5, 0.5) \n",
    "ten_flips = sample_proportions(10, coin_proportions)\n",
    "ten_flips"
   ]
  },
  {
   "cell_type": "markdown",
   "id": "c8eaaaa9",
   "metadata": {},
   "source": [
    "`sample_proportions` returns an array that is the same length as the proportion array that is passed through. It contains the proportion of each category that appears in the sample. \n",
    "\n",
    "In our example, the first item of `ten_flips` is the simulated proportion of heads and the second item of `ten_flips` is the simulated proportion of tails."
   ]
  },
  {
   "cell_type": "code",
   "execution_count": 39,
   "id": "58a65b14",
   "metadata": {
    "execution": {
     "iopub.execute_input": "2022-03-01T08:49:12.759836Z",
     "iopub.status.busy": "2022-03-01T08:49:12.757937Z",
     "iopub.status.idle": "2022-03-01T08:49:12.763208Z",
     "shell.execute_reply": "2022-03-01T08:49:12.762728Z"
    }
   },
   "outputs": [
    {
     "name": "stdout",
     "output_type": "stream",
     "text": [
      "In our simulation, 0.5 of flips were heads and 0.5 of flips were tails.\n"
     ]
    }
   ],
   "source": [
    "simulated_proportion_heads = ten_flips.item(0)\n",
    "simulated_proportion_tails = ten_flips.item(1)\n",
    "\n",
    "print(\"In our simulation, \" + str(simulated_proportion_heads) + \" of flips were heads and \" \\\n",
    "      + str(simulated_proportion_tails) + \" of flips were tails.\")"
   ]
  },
  {
   "cell_type": "markdown",
   "id": "125cb38b",
   "metadata": {
    "deletable": false,
    "editable": false
   },
   "source": [
    "**Question 1.7:** To begin simulating, we should start by creating a representation of Emily's model to use for our simulation. This will be an array with two items in it. The first item should be the proportion of times a TT practictioner picks the correct hand, assuming that Emily’s model was correct. The second item should be the proportion of times, under the same assumption, that the TT practitioner picks the incorrect hand. Assign `model_proportions` to this array. \n",
    "\n",
    "After this, we can simulate 210 hand choices, as Emily evaluated in real life, and find a single statistic to summarize this instance of the simulation. Use the `sample_proportions` function and assign the **proportion of correct hand choices** (out of 210) to `simulation_proportion_correct`. Lastly, use your statistic function to assign `one_statistic`  to the value of the statistic for this one simulation.\n",
    "\n",
    "*Hint:* `sample_proportions` usage can be found on the [Python Reference](http://data8.org/sp22/python-reference.html).\n",
    "\n",
    "<!--\n",
    "BEGIN QUESTION\n",
    "name: q1_7\n",
    "-->"
   ]
  },
  {
   "cell_type": "code",
   "execution_count": 40,
   "id": "b077db5e",
   "metadata": {
    "execution": {
     "iopub.execute_input": "2022-03-01T08:49:12.769448Z",
     "iopub.status.busy": "2022-03-01T08:49:12.768875Z",
     "iopub.status.idle": "2022-03-01T08:49:12.771785Z",
     "shell.execute_reply": "2022-03-01T08:49:12.772137Z"
    }
   },
   "outputs": [
    {
     "data": {
      "text/plain": [
       "0.9523809523809545"
      ]
     },
     "execution_count": 40,
     "metadata": {},
     "output_type": "execute_result"
    }
   ],
   "source": [
    "import numpy as np\n",
    "from datascience import make_array\n",
    "from datascience import sample_proportions\n",
    "\n",
    "# This saves the random state of our code so that we can \n",
    "# generate the same numbers each time we run the code.\n",
    "# Please do not change this line. \n",
    "np.random.seed(16)\n",
    "\n",
    "# Representation of Emily's model\n",
    "model_proportions = make_array(0.50, 0.50)\n",
    "\n",
    "# Simulate 210 hand choices\n",
    "simulation_proportion_correct = sample_proportions(210, model_proportions).item(0)\n",
    "\n",
    "# Use the statistic function to calculate the one statistic\n",
    "def statistic(expected_prop, actual_prop):\n",
    "    difference = abs(expected_prop - actual_prop)\n",
    "    percentage_difference = difference * 100\n",
    "    return percentage_difference\n",
    "\n",
    "one_statistic = statistic(0.50, simulation_proportion_correct)\n",
    "one_statistic\n",
    "\n"
   ]
  },
  {
   "cell_type": "code",
   "execution_count": 41,
   "id": "519b630c",
   "metadata": {
    "deletable": false,
    "editable": false
   },
   "outputs": [
    {
     "data": {
      "text/html": [
       "<p><strong><pre style='display: inline;'>q1_7</pre></strong> passed! 💯</p>"
      ],
      "text/plain": [
       "q1_7 results: All test cases passed!"
      ]
     },
     "execution_count": 41,
     "metadata": {},
     "output_type": "execute_result"
    }
   ],
   "source": [
    "grader.check(\"q1_7\")"
   ]
  },
  {
   "cell_type": "markdown",
   "id": "c404d3fe",
   "metadata": {},
   "source": [
    "**Question 1.8:** Let's now see what the distribution of statistics is actually like under Emily's model. \n",
    "\n",
    "Define the function `simulation_and_statistic` to take in the `model_proportions` array and the expected proportion of times a TT practitioner would guess a hand correctly under Emily's model. The function should simulate Emily running through the experiment 210 times and return the statistic of this one simulation. \n",
    "\n",
    "*Hint:* This should follow the same pattern as the code you did in the previous problem.  "
   ]
  },
  {
   "cell_type": "code",
   "execution_count": 42,
   "id": "42d84bd3",
   "metadata": {
    "execution": {
     "iopub.execute_input": "2022-03-01T08:49:12.861874Z",
     "iopub.status.busy": "2022-03-01T08:49:12.861307Z",
     "iopub.status.idle": "2022-03-01T08:49:12.863773Z",
     "shell.execute_reply": "2022-03-01T08:49:12.863225Z"
    },
    "for_assignment_type": "solution"
   },
   "outputs": [
    {
     "name": "stdout",
     "output_type": "stream",
     "text": [
      "3.33333333333\n"
     ]
    }
   ],
   "source": [
    "import numpy as np\n",
    "\n",
    "def simulation_and_statistic(model_proportions, expected_proportion_correct):\n",
    "    '''Simulates 210 TT hand choices under Emily’s model. \n",
    "    Returns one statistic from the simulation.'''\n",
    "    # Simulate 210 hand choices\n",
    "    simulation_result = np.random.choice([1, 0], size=210, p=model_proportions)\n",
    "    simulation_proportion_correct = np.sum(simulation_result) / 210.0  # Ensure float division\n",
    "    \n",
    "    # Calculate the statistic\n",
    "    def statistic(expected_prop, actual_prop):\n",
    "        difference = abs(expected_prop - actual_prop)\n",
    "        percentage_difference = difference * 100\n",
    "        return percentage_difference\n",
    "\n",
    "    return statistic(expected_proportion_correct, simulation_proportion_correct)\n",
    "\n",
    "# Example usage\n",
    "model_proportions = np.array([0.50, 0.50])\n",
    "expected_proportion_correct = 0.50\n",
    "one_statistic = simulation_and_statistic(model_proportions, expected_proportion_correct)\n",
    "print(one_statistic)\n"
   ]
  },
  {
   "cell_type": "markdown",
   "id": "fe861adf",
   "metadata": {
    "deletable": false,
    "editable": false
   },
   "source": [
    "Using this function, assign `simulated_statistics` to an array of 1000 statistics that you calculated under the assumption that Emily's model was true.\n",
    "\n",
    "<!--\n",
    "BEGIN QUESTION\n",
    "name: q1_8\n",
    "-->"
   ]
  },
  {
   "cell_type": "code",
   "execution_count": 43,
   "id": "58b9070d",
   "metadata": {
    "execution": {
     "iopub.execute_input": "2022-03-01T08:49:12.870636Z",
     "iopub.status.busy": "2022-03-01T08:49:12.870089Z",
     "iopub.status.idle": "2022-03-01T08:49:12.886491Z",
     "shell.execute_reply": "2022-03-01T08:49:12.886940Z"
    }
   },
   "outputs": [
    {
     "data": {
      "text/plain": [
       "array([  3.80952381,   2.85714286,   2.85714286,   2.85714286,\n",
       "         0.        ,   0.95238095,   1.42857143,   2.85714286,\n",
       "         1.9047619 ,   2.85714286,   5.23809524,   3.80952381,\n",
       "         0.47619048,   1.42857143,   4.76190476,   5.71428571,\n",
       "         0.47619048,   8.57142857,   0.        ,   6.19047619,\n",
       "         0.        ,   0.95238095,   1.9047619 ,   0.47619048,\n",
       "         0.95238095,   3.80952381,   3.80952381,   0.        ,\n",
       "         0.47619048,   2.85714286,   3.80952381,   1.42857143,\n",
       "         4.28571429,   0.        ,   0.95238095,   2.85714286,\n",
       "         6.19047619,   6.19047619,   9.04761905,   1.42857143,\n",
       "         5.71428571,   8.57142857,   3.80952381,   3.33333333,\n",
       "         7.14285714,   3.80952381,   8.0952381 ,   0.95238095,\n",
       "         4.28571429,   1.9047619 ,   2.85714286,   2.85714286,\n",
       "         4.28571429,   3.33333333,   3.33333333,   3.33333333,\n",
       "         7.14285714,   2.85714286,   2.38095238,   4.28571429,\n",
       "         5.71428571,   6.19047619,   3.33333333,   0.95238095,\n",
       "         0.47619048,   2.38095238,   2.38095238,   2.38095238,\n",
       "         6.66666667,   4.76190476,  11.9047619 ,   1.9047619 ,\n",
       "         1.9047619 ,   6.19047619,   0.47619048,   4.76190476,\n",
       "         4.28571429,   1.42857143,   0.95238095,   0.95238095,\n",
       "         7.14285714,   3.33333333,   2.85714286,   4.76190476,\n",
       "         1.9047619 ,   7.61904762,   2.38095238,   0.95238095,\n",
       "         4.28571429,   1.42857143,   1.42857143,   1.42857143,\n",
       "         1.42857143,   2.38095238,   1.9047619 ,   3.80952381,\n",
       "         0.95238095,   0.95238095,   1.42857143,   2.85714286,\n",
       "         5.23809524,   2.85714286,   5.23809524,   0.95238095,\n",
       "         1.42857143,   1.9047619 ,   2.85714286,   0.47619048,\n",
       "         0.95238095,   4.76190476,   0.47619048,   1.9047619 ,\n",
       "         5.71428571,   0.95238095,   0.95238095,   7.14285714,\n",
       "         0.47619048,   4.76190476,   0.47619048,   0.47619048,\n",
       "         0.47619048,   3.80952381,   1.42857143,   2.85714286,\n",
       "         4.76190476,   5.23809524,   2.38095238,   0.47619048,\n",
       "         0.95238095,   0.47619048,   4.28571429,   1.42857143,\n",
       "         2.38095238,   3.33333333,   2.38095238,   0.        ,\n",
       "         1.9047619 ,   5.23809524,   0.95238095,   2.85714286,\n",
       "         1.9047619 ,   3.33333333,   0.95238095,   3.80952381,\n",
       "         3.33333333,   1.9047619 ,   2.85714286,   0.95238095,\n",
       "         0.        ,   5.71428571,   2.85714286,   4.76190476,\n",
       "         1.9047619 ,   6.66666667,   0.        ,   4.76190476,\n",
       "         4.28571429,   0.95238095,   1.9047619 ,   4.76190476,\n",
       "         3.33333333,   1.9047619 ,   0.        ,   0.95238095,\n",
       "         0.47619048,   2.85714286,   0.47619048,   6.66666667,\n",
       "         1.9047619 ,   0.95238095,   0.47619048,   4.28571429,\n",
       "         5.23809524,   0.95238095,   3.80952381,   4.76190476,\n",
       "         1.42857143,   2.38095238,   0.47619048,   1.42857143,\n",
       "         0.        ,   4.28571429,   4.76190476,   1.42857143,\n",
       "         5.23809524,   1.42857143,   0.47619048,   3.80952381,\n",
       "         0.95238095,   0.47619048,   1.9047619 ,   2.85714286,\n",
       "         0.95238095,   5.71428571,   1.9047619 ,   3.33333333,\n",
       "         0.47619048,   4.28571429,   5.71428571,   0.95238095,\n",
       "         2.38095238,   8.57142857,   1.42857143,   1.42857143,\n",
       "         1.42857143,   2.38095238,   2.85714286,   0.47619048,\n",
       "         3.33333333,   3.33333333,   0.95238095,   0.95238095,\n",
       "         0.95238095,   4.28571429,   4.76190476,   0.47619048,\n",
       "         1.9047619 ,   0.95238095,   4.76190476,   4.76190476,\n",
       "         6.66666667,   2.85714286,   2.85714286,   4.76190476,\n",
       "         7.14285714,   3.33333333,   1.9047619 ,   1.42857143,\n",
       "         5.71428571,   8.0952381 ,   3.80952381,   3.33333333,\n",
       "         1.42857143,   4.28571429,   2.38095238,   1.42857143,\n",
       "         6.66666667,   4.76190476,   2.38095238,   2.85714286,\n",
       "         2.85714286,   2.38095238,   3.33333333,   1.42857143,\n",
       "         4.76190476,   0.        ,   5.23809524,   2.85714286,\n",
       "         7.61904762,   5.71428571,   5.23809524,   0.95238095,\n",
       "         0.95238095,   1.42857143,   2.85714286,   4.76190476,\n",
       "         3.33333333,   0.95238095,   2.38095238,   1.9047619 ,\n",
       "         2.85714286,   0.47619048,   1.42857143,   0.95238095,\n",
       "         6.19047619,   3.80952381,   2.38095238,   1.42857143,\n",
       "         4.76190476,   1.42857143,   6.19047619,   0.47619048,\n",
       "         0.47619048,   1.42857143,   0.95238095,   0.        ,\n",
       "         5.23809524,   5.71428571,   0.47619048,   1.9047619 ,\n",
       "         0.95238095,   1.42857143,   1.42857143,   1.9047619 ,\n",
       "         2.85714286,   0.95238095,   2.38095238,   0.        ,\n",
       "         6.66666667,   2.85714286,   3.33333333,   0.95238095,\n",
       "         2.38095238,   1.42857143,   4.28571429,   0.95238095,\n",
       "         3.80952381,   4.76190476,   3.80952381,   1.42857143,\n",
       "         0.95238095,   1.42857143,   7.14285714,   0.47619048,\n",
       "         4.28571429,   2.38095238,   0.47619048,   1.9047619 ,\n",
       "         0.        ,   2.85714286,   3.33333333,   4.28571429,\n",
       "         2.38095238,   2.85714286,   1.9047619 ,   0.        ,\n",
       "         1.42857143,   1.42857143,   2.85714286,   0.47619048,\n",
       "         1.9047619 ,   3.80952381,   7.14285714,   2.38095238,\n",
       "         6.19047619,   0.47619048,   5.23809524,   8.0952381 ,\n",
       "         0.95238095,   1.42857143,   0.95238095,   6.19047619,\n",
       "         3.80952381,   7.14285714,   1.42857143,   0.        ,\n",
       "         2.85714286,   0.47619048,   4.76190476,   4.28571429,\n",
       "         2.85714286,   4.28571429,   0.95238095,   0.95238095,\n",
       "         0.        ,   4.76190476,   0.95238095,   3.33333333,\n",
       "         0.        ,   6.66666667,   1.42857143,   2.85714286,\n",
       "         0.        ,   2.38095238,   4.76190476,   5.23809524,\n",
       "         3.33333333,   0.47619048,   3.80952381,   0.47619048,\n",
       "         0.47619048,   2.38095238,   5.23809524,   0.47619048,\n",
       "         8.57142857,   2.38095238,   4.76190476,   4.28571429,\n",
       "         0.47619048,   0.47619048,   6.66666667,   1.42857143,\n",
       "         4.28571429,   5.71428571,   1.42857143,   4.28571429,\n",
       "         0.95238095,   2.85714286,   0.47619048,   4.28571429,\n",
       "         2.85714286,   5.23809524,   7.61904762,   0.95238095,\n",
       "         6.19047619,   2.38095238,   5.71428571,   2.85714286,\n",
       "         1.42857143,   5.23809524,   0.        ,   2.85714286,\n",
       "         3.33333333,   2.85714286,   1.9047619 ,   4.76190476,\n",
       "         3.80952381,   4.76190476,   4.76190476,   1.9047619 ,\n",
       "         2.85714286,   5.23809524,   1.42857143,   2.38095238,\n",
       "         3.80952381,   1.42857143,   0.47619048,   1.9047619 ,\n",
       "         3.33333333,   1.42857143,   6.19047619,   1.9047619 ,\n",
       "         7.14285714,   2.85714286,   1.42857143,   6.19047619,\n",
       "         7.61904762,   2.85714286,   1.42857143,   1.9047619 ,\n",
       "         4.28571429,   0.47619048,   1.42857143,   1.9047619 ,\n",
       "         0.95238095,   2.85714286,   4.28571429,   6.19047619,\n",
       "         6.19047619,   1.42857143,   2.38095238,   1.42857143,\n",
       "         6.66666667,   0.47619048,   2.38095238,   1.9047619 ,\n",
       "         1.42857143,   5.23809524,   3.80952381,   2.85714286,\n",
       "         2.85714286,   0.95238095,   0.47619048,   1.42857143,\n",
       "         4.76190476,   1.9047619 ,   0.47619048,   4.28571429,\n",
       "         3.80952381,   2.38095238,   7.61904762,   1.9047619 ,\n",
       "         2.38095238,   3.80952381,   5.71428571,   0.47619048,\n",
       "         1.42857143,   0.95238095,   0.95238095,   1.42857143,\n",
       "         1.42857143,   0.95238095,   3.33333333,   3.80952381,\n",
       "         0.47619048,   3.33333333,   4.28571429,  11.42857143,\n",
       "         5.23809524,   1.9047619 ,   2.85714286,   1.9047619 ,\n",
       "         0.        ,   5.71428571,   5.71428571,   1.42857143,\n",
       "         5.71428571,   5.71428571,   1.42857143,   3.80952381,\n",
       "         4.76190476,   4.76190476,   1.42857143,   0.95238095,\n",
       "         1.9047619 ,   5.23809524,   5.23809524,   3.33333333,\n",
       "         2.85714286,   4.76190476,   4.28571429,   2.38095238,\n",
       "         0.        ,   1.9047619 ,   3.80952381,   2.85714286,\n",
       "         0.47619048,   1.42857143,   0.95238095,   4.28571429,\n",
       "         0.47619048,   5.71428571,   0.        ,   0.95238095,\n",
       "         0.47619048,   0.47619048,   3.33333333,   6.66666667,\n",
       "         6.19047619,   2.85714286,   3.33333333,   0.47619048,\n",
       "         2.38095238,   1.9047619 ,   1.9047619 ,   0.        ,\n",
       "         0.47619048,   4.28571429,   1.42857143,   3.33333333,\n",
       "         0.95238095,   8.57142857,   1.9047619 ,   0.47619048,\n",
       "         1.9047619 ,   0.95238095,   0.        ,   5.71428571,\n",
       "         6.66666667,   7.14285714,   2.85714286,   1.42857143,\n",
       "         4.28571429,   2.38095238,   2.38095238,   7.61904762,\n",
       "         1.42857143,   7.14285714,   7.14285714,   3.33333333,\n",
       "         1.9047619 ,   2.85714286,   0.        ,   0.        ,\n",
       "         3.33333333,   0.95238095,   6.19047619,   2.38095238,\n",
       "         0.47619048,   6.66666667,   4.76190476,   6.19047619,\n",
       "         2.38095238,   1.9047619 ,   1.42857143,   2.85714286,\n",
       "         0.95238095,   1.9047619 ,   5.71428571,   3.33333333,\n",
       "         0.47619048,   0.47619048,   2.85714286,   2.38095238,\n",
       "         3.80952381,   8.0952381 ,   4.28571429,   5.23809524,\n",
       "         4.76190476,   6.19047619,   3.80952381,   3.33333333,\n",
       "         1.9047619 ,   2.85714286,   0.95238095,   3.80952381,\n",
       "         2.38095238,   5.23809524,   3.80952381,   0.        ,\n",
       "         4.76190476,   2.85714286,   7.61904762,   2.38095238,\n",
       "         0.47619048,   4.28571429,   0.95238095,   1.9047619 ,\n",
       "         0.47619048,   9.04761905,   0.95238095,   0.47619048,\n",
       "         1.9047619 ,   2.38095238,   4.28571429,   2.38095238,\n",
       "         3.80952381,   5.23809524,   1.9047619 ,   4.76190476,\n",
       "         0.        ,   0.        ,   4.28571429,   4.76190476,\n",
       "         0.47619048,   0.47619048,   1.42857143,   6.19047619,\n",
       "         4.28571429,   1.42857143,   6.66666667,   2.85714286,\n",
       "         0.95238095,   3.80952381,   2.38095238,   0.95238095,\n",
       "         0.47619048,   7.14285714,   0.47619048,   1.42857143,\n",
       "         0.95238095,   2.85714286,   1.9047619 ,   0.        ,\n",
       "         3.33333333,   6.66666667,   5.23809524,   0.95238095,\n",
       "         2.38095238,   0.47619048,   0.95238095,   0.47619048,\n",
       "         2.38095238,   4.28571429,   0.47619048,   3.80952381,\n",
       "         9.52380952,   1.9047619 ,   5.23809524,   8.0952381 ,\n",
       "         5.71428571,   4.28571429,   1.42857143,   3.80952381,\n",
       "         1.42857143,   2.38095238,   0.95238095,   1.42857143,\n",
       "         3.33333333,   3.33333333,   2.85714286,   4.28571429,\n",
       "         0.95238095,   5.71428571,   4.28571429,   2.38095238,\n",
       "         0.95238095,   0.        ,   5.71428571,   3.80952381,\n",
       "         0.95238095,   2.38095238,   3.33333333,   1.42857143,\n",
       "         3.80952381,   0.95238095,   0.47619048,   1.9047619 ,\n",
       "         2.38095238,   9.04761905,   2.38095238,   3.80952381,\n",
       "         2.85714286,   2.38095238,   3.80952381,   0.95238095,\n",
       "         3.33333333,   1.9047619 ,   1.42857143,   1.42857143,\n",
       "         0.47619048,   1.9047619 ,   0.        ,   1.42857143,\n",
       "         7.61904762,   0.95238095,   0.95238095,   0.95238095,\n",
       "         0.        ,   2.85714286,   1.42857143,   4.76190476,\n",
       "         1.9047619 ,   0.95238095,   0.47619048,   2.38095238,\n",
       "         1.9047619 ,   3.80952381,   1.42857143,   0.47619048,\n",
       "         0.47619048,   4.28571429,   2.38095238,   0.47619048,\n",
       "         3.80952381,   5.23809524,   1.9047619 ,   3.80952381,\n",
       "         0.95238095,   5.23809524,   0.95238095,   1.42857143,\n",
       "         0.95238095,   1.42857143,   0.47619048,   1.42857143,\n",
       "         0.47619048,   0.47619048,   0.95238095,   0.95238095,\n",
       "         5.71428571,   4.76190476,   0.47619048,   3.33333333,\n",
       "         1.42857143,   0.95238095,   3.33333333,   1.42857143,\n",
       "         2.85714286,   3.80952381,   2.38095238,   0.95238095,\n",
       "         7.14285714,   3.80952381,   3.33333333,   0.47619048,\n",
       "         2.85714286,   0.95238095,   5.23809524,   2.38095238,\n",
       "         1.42857143,   2.85714286,   0.95238095,   1.9047619 ,\n",
       "         0.95238095,   7.61904762,   0.        ,   1.9047619 ,\n",
       "         4.76190476,   1.9047619 ,   1.42857143,   6.19047619,\n",
       "         1.42857143,   0.        ,   7.61904762,   3.80952381,\n",
       "         6.66666667,   5.71428571,   1.9047619 ,   0.47619048,\n",
       "         1.9047619 ,   8.57142857,   3.33333333,   1.42857143,\n",
       "         3.80952381,   0.        ,   0.47619048,   4.76190476,\n",
       "         2.38095238,   1.42857143,   3.80952381,   1.9047619 ,\n",
       "         0.47619048,   7.14285714,   4.76190476,   1.42857143,\n",
       "         3.33333333,   3.80952381,   7.14285714,   2.38095238,\n",
       "         0.47619048,   1.9047619 ,   2.85714286,   0.95238095,\n",
       "         4.76190476,   2.85714286,   5.71428571,   3.33333333,\n",
       "         1.42857143,   2.85714286,   2.85714286,   2.85714286,\n",
       "         0.95238095,   0.47619048,   1.9047619 ,   7.61904762,\n",
       "         0.95238095,   3.80952381,   4.28571429,   0.95238095,\n",
       "         7.14285714,   1.9047619 ,   1.9047619 ,   0.47619048,\n",
       "         2.85714286,   0.        ,   3.33333333,   1.9047619 ,\n",
       "         1.9047619 ,   0.95238095,   3.80952381,   1.9047619 ,\n",
       "         2.38095238,   2.85714286,   7.14285714,   3.80952381,\n",
       "        10.95238095,   3.80952381,   3.33333333,   3.33333333,\n",
       "         1.9047619 ,   2.85714286,   1.42857143,   1.42857143,\n",
       "         1.42857143,   0.47619048,   1.9047619 ,   0.47619048,\n",
       "         2.38095238,   2.38095238,   3.33333333,   1.9047619 ,\n",
       "         2.85714286,   2.85714286,   3.80952381,   1.42857143,\n",
       "         4.76190476,   2.85714286,   0.95238095,   0.95238095,\n",
       "         0.95238095,   0.95238095,   0.47619048,   0.95238095,\n",
       "         5.71428571,   1.9047619 ,   0.        ,   3.80952381,\n",
       "         6.66666667,   0.47619048,   1.42857143,   6.19047619,\n",
       "         1.9047619 ,   2.38095238,   4.28571429,   1.9047619 ,\n",
       "         2.38095238,   0.47619048,   2.38095238,   1.42857143,\n",
       "         5.71428571,   0.95238095,   2.85714286,   2.38095238,\n",
       "         5.71428571,   3.33333333,   0.95238095,   1.9047619 ,\n",
       "         2.85714286,   0.95238095,   1.42857143,   0.95238095,\n",
       "         2.85714286,   2.85714286,   0.47619048,   1.9047619 ,\n",
       "         2.85714286,   2.38095238,   3.33333333,   0.95238095,\n",
       "         2.85714286,   0.47619048,   1.9047619 ,   3.33333333,\n",
       "         1.9047619 ,   4.76190476,   3.80952381,   3.80952381,\n",
       "         3.33333333,   3.80952381,   0.95238095,   0.95238095,\n",
       "         1.42857143,   0.        ,   2.38095238,   2.38095238,\n",
       "         0.47619048,   2.38095238,   2.85714286,   4.28571429,\n",
       "         3.80952381,   4.28571429,   0.        ,   6.66666667,\n",
       "         5.71428571,   1.42857143,   2.85714286,   0.47619048,\n",
       "         7.61904762,   4.28571429,   2.85714286,   5.23809524,\n",
       "         3.80952381,   0.        ,   0.        ,   4.28571429,\n",
       "         1.9047619 ,   0.95238095,   0.        ,   3.33333333,\n",
       "         2.85714286,   1.9047619 ,   4.76190476,   1.9047619 ,\n",
       "         5.71428571,   7.61904762,   1.9047619 ,   0.        ,\n",
       "         3.33333333,   5.23809524,   6.19047619,   0.95238095,\n",
       "         2.85714286,   2.38095238,   2.38095238,   3.33333333,\n",
       "         2.38095238,   1.42857143,   0.95238095,   0.95238095,\n",
       "         6.19047619,   3.80952381,   9.04761905,   6.19047619,\n",
       "         0.95238095,   1.42857143,   2.38095238,   1.42857143,\n",
       "         0.95238095,   4.28571429,   5.71428571,   2.38095238,\n",
       "         1.9047619 ,   1.9047619 ,   0.95238095,   0.95238095,\n",
       "         0.        ,   4.76190476,   2.38095238,   1.42857143,\n",
       "         4.76190476,   1.42857143,   3.80952381,   0.95238095,\n",
       "         2.85714286,   1.9047619 ,   1.9047619 ,   4.28571429,\n",
       "         2.85714286,   0.95238095,   2.38095238,   0.47619048,\n",
       "         0.47619048,   1.42857143,   1.42857143,   0.47619048,\n",
       "         2.38095238,   4.28571429,   0.47619048,   4.28571429,\n",
       "         0.95238095,   3.80952381,   0.        ,   2.85714286,\n",
       "         1.9047619 ,   5.23809524,   1.42857143,   4.28571429,\n",
       "         4.28571429,   7.14285714,   4.76190476,   1.9047619 ,\n",
       "         3.80952381,   3.80952381,   2.38095238,   0.95238095,\n",
       "         1.42857143,   1.42857143,   1.42857143,   0.95238095])"
      ]
     },
     "execution_count": 43,
     "metadata": {},
     "output_type": "execute_result"
    }
   ],
   "source": [
    "import numpy as np\n",
    "\n",
    "num_repetitions = 1000\n",
    "\n",
    "simulated_statistics = np.zeros(num_repetitions)\n",
    "\n",
    "model_proportions = np.array([0.50, 0.50])\n",
    "expected_proportion_correct = 0.50\n",
    "\n",
    "for i in range(num_repetitions):\n",
    "    simulated_statistics[i] = simulation_and_statistic(model_proportions, expected_proportion_correct)\n",
    "\n",
    "simulated_statistics\n"
   ]
  },
  {
   "cell_type": "code",
   "execution_count": 44,
   "id": "5132bd3c",
   "metadata": {
    "deletable": false,
    "editable": false
   },
   "outputs": [
    {
     "data": {
      "text/html": [
       "<p><strong><pre style='display: inline;'>q1_8</pre></strong> passed! ✨</p>"
      ],
      "text/plain": [
       "q1_8 results: All test cases passed!"
      ]
     },
     "execution_count": 44,
     "metadata": {},
     "output_type": "execute_result"
    }
   ],
   "source": [
    "grader.check(\"q1_8\")"
   ]
  },
  {
   "cell_type": "markdown",
   "id": "7c405d87",
   "metadata": {},
   "source": [
    "Let's view the distribution of the simulated statistics under Emily's model, and visually compare where the observed statistic lies relative to the simulated statistics."
   ]
  },
  {
   "cell_type": "code",
   "execution_count": 45,
   "id": "aa94468c",
   "metadata": {
    "execution": {
     "iopub.execute_input": "2022-03-01T08:49:12.971415Z",
     "iopub.status.busy": "2022-03-01T08:49:12.967593Z",
     "iopub.status.idle": "2022-03-01T08:49:13.259610Z",
     "shell.execute_reply": "2022-03-01T08:49:13.260120Z"
    }
   },
   "outputs": [
    {
     "data": {
      "image/png": "[encoded data removed]",
      "text/plain": [
       "<Figure size 600x400 with 1 Axes>"
      ]
     },
     "metadata": {},
     "output_type": "display_data"
    }
   ],
   "source": [
    "t = Table().with_column('Simulated Statistics', simulated_statistics)\n",
    "t.hist()\n",
    "plt.scatter(observed_statistic, 0, color='red', s=100, zorder=2);"
   ]
  },
  {
   "cell_type": "markdown",
   "id": "f86817e8",
   "metadata": {},
   "source": [
    "We can make a visual argument as to whether we believe the observed statistic is consistent with Emily’s model. Here, since larger values of the test statistic suggest the alternative model (where the chance of guessing the correct hand is something other than 50%), we can formalize our analysis by finding what proportion of simulated statistics were as large or larger than our observed test statistic (the area at or to the right of the observed test statistic). If this area is small enough, we’ll declare that the observed data are inconsistent with our simulated model. Here is the [link](https://inferentialthinking.com/chapters/11/1/Assessing_a_Model.html) to the section in the textbook."
   ]
  },
  {
   "cell_type": "markdown",
   "id": "11ceab10",
   "metadata": {
    "deletable": false,
    "editable": false
   },
   "source": [
    "**Question 1.9:** Calculate the proportion of simulated statistics greater than or equal to the observed statistic. \n",
    "\n",
    "*Hint:* `np.count_nonzero` usage can be found [here](http://data8.org/fa21/python-reference.html).\n",
    "\n",
    "<!--\n",
    "BEGIN QUESTION\n",
    "name: q1_9\n",
    "-->"
   ]
  },
  {
   "cell_type": "code",
   "execution_count": 46,
   "id": "93bfffb9",
   "metadata": {
    "execution": {
     "iopub.execute_input": "2022-03-01T08:49:13.266528Z",
     "iopub.status.busy": "2022-03-01T08:49:13.265402Z",
     "iopub.status.idle": "2022-03-01T08:49:13.269000Z",
     "shell.execute_reply": "2022-03-01T08:49:13.269376Z"
    },
    "scrolled": true
   },
   "outputs": [
    {
     "data": {
      "text/plain": [
       "0.092"
      ]
     },
     "execution_count": 46,
     "metadata": {},
     "output_type": "execute_result"
    }
   ],
   "source": [
    "# Observed statistic from Question 1.6\n",
    "observed_statistic = 6.0  # Use the value obtained previously\n",
    "\n",
    "# Calculate the proportion of simulated statistics >= observed statistic\n",
    "proportion_greater_or_equal = np.count_nonzero(simulated_statistics >= observed_statistic) / num_repetitions\n",
    "proportion_greater_or_equal\n"
   ]
  },
  {
   "cell_type": "code",
   "execution_count": 47,
   "id": "691e75f7",
   "metadata": {
    "deletable": false,
    "editable": false
   },
   "outputs": [
    {
     "data": {
      "text/html": [
       "<p><strong><pre style='display: inline;'>q1_9</pre></strong> passed! 🚀</p>"
      ],
      "text/plain": [
       "q1_9 results: All test cases passed!"
      ]
     },
     "execution_count": 47,
     "metadata": {},
     "output_type": "execute_result"
    }
   ],
   "source": [
    "grader.check(\"q1_9\")"
   ]
  },
  {
   "cell_type": "markdown",
   "id": "a18a1e0d",
   "metadata": {},
   "source": [
    "Therapeutic touch fell out of use after this experiment, which was eventually accepted into one of the premier medical journals. TT practitioners hit back and accused Emily and her family of tampering with the results, while some claimed that Emily's bad spiritual mood towards therapeutic touch made it difficult to read her HEF. Whatever it may be, Emily's experiment is a classic example about how anyone, with the right resources, can test anything they want!"
   ]
  },
  {
   "cell_type": "markdown",
   "id": "5fd71212",
   "metadata": {
    "deletable": false,
    "editable": false
   },
   "source": [
    "**Question 1.10:** Now, take some time to think to yourself and discuss with your peers:\n",
    "\n",
    "1. Is the data more consistent with Emily' model (practioners were randomly guessing)?\n",
    "2. What does this mean in terms of Emily's experiment? Do the TT practitioners' answers follow an even chance model or is there something else at play? \n",
    "\n",
    "Did you talk to your peers? (T/F)\n",
    "\n",
    "<!--\n",
    "BEGIN QUESTION\n",
    "name: q1_10\n",
    "-->"
   ]
  },
  {
   "cell_type": "code",
   "execution_count": 48,
   "id": "d08814fc",
   "metadata": {
    "execution": {
     "iopub.execute_input": "2022-03-01T08:49:13.292151Z",
     "iopub.status.busy": "2022-03-01T08:49:13.291544Z",
     "iopub.status.idle": "2022-03-01T08:49:13.296069Z",
     "shell.execute_reply": "2022-03-01T08:49:13.295311Z"
    }
   },
   "outputs": [
    {
     "data": {
      "text/plain": [
       "False"
      ]
     },
     "execution_count": 48,
     "metadata": {},
     "output_type": "execute_result"
    }
   ],
   "source": [
    "peer_talk = False\n",
    "peer_talk"
   ]
  },
  {
   "cell_type": "code",
   "execution_count": 49,
   "id": "968b71ac",
   "metadata": {
    "execution": {
     "iopub.execute_input": "2022-03-01T08:49:13.301845Z",
     "iopub.status.busy": "2022-03-01T08:49:13.301222Z",
     "iopub.status.idle": "2022-03-01T08:49:13.304910Z",
     "shell.execute_reply": "2022-03-01T08:49:13.304350Z"
    }
   },
   "outputs": [
    {
     "data": {
      "text/plain": [
       "False"
      ]
     },
     "execution_count": 49,
     "metadata": {},
     "output_type": "execute_result"
    }
   ],
   "source": [
    "peer_talk == True"
   ]
  },
  {
   "cell_type": "markdown",
   "id": "7ff6e0c4",
   "metadata": {},
   "source": [
    "Dingo and Monkey want to congratulate you on completing the lab! Now you can relax like them! \n",
    "\n",
    "<img src=\"dingo_and_monkey_scaled_0.25.jpg\" alt=\"drawing\" width=\"300\"/> "
   ]
  },
  {
   "cell_type": "markdown",
   "id": "27bf729e",
   "metadata": {
    "deletable": false,
    "editable": false
   },
   "source": [
    "---\n",
    "\n",
    "To double-check your work, the cell below will rerun all of the autograder tests."
   ]
  },
  {
   "cell_type": "code",
   "execution_count": 50,
   "id": "662f24cf",
   "metadata": {
    "deletable": false,
    "editable": false
   },
   "outputs": [
    {
     "data": {
      "text/plain": [
       "q1_2 results: All test cases passed!\n",
       "\n",
       "q1_3 results: All test cases passed!\n",
       "\n",
       "q1_5 results: All test cases passed!\n",
       "\n",
       "q1_6 results: All test cases passed!\n",
       "\n",
       "q1_7 results:\n",
       "    q1_7 - 1 result:\n",
       "        ✅ Test case passed\n",
       "\n",
       "    q1_7 - 2 result:\n",
       "        ✅ Test case passed\n",
       "\n",
       "    q1_7 - 3 result:\n",
       "        ✅ Test case passed\n",
       "\n",
       "    q1_7 - 4 result:\n",
       "        ✅ Test case passed\n",
       "\n",
       "    q1_7 - 5 result:\n",
       "        ✅ Test case passed\n",
       "\n",
       "    q1_7 - 6 result:\n",
       "        ❌ Test case failed\n",
       "        Trying:\n",
       "            round(one_statistic, 2)\n",
       "        Expecting:\n",
       "            0.95\n",
       "        **********************************************************************\n",
       "        Line 1, in q1_7 5\n",
       "        Failed example:\n",
       "            round(one_statistic, 2)\n",
       "        Expected:\n",
       "            0.95\n",
       "        Got:\n",
       "            3.3300000000000001\n",
       "\n",
       "q1_8 results: All test cases passed!\n",
       "\n",
       "q1_9 results: All test cases passed!"
      ]
     },
     "execution_count": 50,
     "metadata": {},
     "output_type": "execute_result"
    }
   ],
   "source": [
    "grader.check_all()"
   ]
  },
  {
   "cell_type": "markdown",
   "id": "79597577",
   "metadata": {},
   "source": [
    "## Submission\n",
    "\n",
    "**Important submission information:** \n",
    "\n",
    "- Make sure you have run all cells in your notebook in order before running the cell below, so that all images/graphs appear in the output. \n",
    "- Be sure to run the tests and verify that they all pass.\n",
    "- Then choose **Save** from the **File** menu to save your file.\n",
    "- Then, go to Canvas and submit the file as your solution. (Only the prescribed team member needs to submit.)"
   ]
  }
 ],
 "metadata": {
  "kernelspec": {
   "display_name": "24fa104-minimal",
   "language": "python",
   "name": "python3"
  },
  "language_info": {
   "codemirror_mode": {
    "name": "ipython",
    "version": 3
   },
   "file_extension": ".py",
   "mimetype": "text/x-python",
   "name": "python",
   "nbconvert_exporter": "python",
   "pygments_lexer": "ipython3",
   "version": "3.12.5"
  }
 },
 "nbformat": 4,
 "nbformat_minor": 5
}
