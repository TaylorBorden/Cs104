{
 "cells": [
  {
   "cell_type": "markdown",
   "metadata": {},
   "source": [
    "## Lab 06: Datasets"
   ]
  },
  {
   "cell_type": "markdown",
   "metadata": {},
   "source": [
    "In this lab, we will look at some dataset sources together.  Then you will explore some of the datasets and work on your glossary of terms."
   ]
  },
  {
   "cell_type": "markdown",
   "metadata": {},
   "source": [
    "## Images"
   ]
  },
  {
   "cell_type": "markdown",
   "metadata": {},
   "source": [
    "Give an example of a famous image dataset, and a definition of its contents."
   ]
  },
  {
   "cell_type": "markdown",
   "metadata": {},
   "source": [
    "One of the most famous image datasets is \"ImageNet\". \n",
    "\n",
    "ImageNet is a large-scale image database designed for use in visual object recognition research. It contains over 14 million hand-annotated images organized according to the WordNet hierarchy. Each image is labeled with the object it contains, and many images have bounding boxes to indicate the location of the objects within the image.\n",
    "\n",
    "The dataset is structured to cover a wide range of categories, including animals, plants, vehicles, and everyday objects, making it a comprehensive resource for training and evaluating machine learning models in computer vision."
   ]
  },
  {
   "cell_type": "markdown",
   "metadata": {},
   "source": [
    "What are three image formats?"
   ]
  },
  {
   "cell_type": "markdown",
   "metadata": {},
   "source": [
    "JPEG, PNG, GIF"
   ]
  },
  {
   "cell_type": "markdown",
   "metadata": {},
   "source": [
    "## Meshes"
   ]
  },
  {
   "cell_type": "markdown",
   "metadata": {},
   "source": [
    "Define a triangle mesh.  "
   ]
  },
  {
   "cell_type": "markdown",
   "metadata": {},
   "source": [
    "A triangle mesh is a type of geometric representation used in computer graphics and computational geometry. It consists of a collection of triangles connected by their edges and vertices to form a surface.\n",
    "\n",
    "Here are the key components:\n",
    "\n",
    "Vertices: Points in 3D space that define the corners of the triangles.\n",
    "Edges: Line segments connecting pairs of vertices.\n",
    "Faces: The triangular surfaces formed by connecting three vertices.\n",
    "\n",
    "Triangle meshes are widely used in 3D modeling, animation, and computer-aided design (CAD) because they can approximate complex surfaces with a high degree of accuracy. They are also essential in applications like finite element analysis and 3D printing."
   ]
  },
  {
   "cell_type": "markdown",
   "metadata": {},
   "source": [
    "How could you represent it? "
   ]
  },
  {
   "cell_type": "markdown",
   "metadata": {},
   "source": [
    "A triangle mesh can be represented in several ways, depending on the application and the level of detail required. \n",
    "\n",
    "Here are a few common methods:\n",
    "\n",
    "Vertex List: A list of all the vertices in the mesh, each defined by its coordinates (x, y, z).\n",
    "\n",
    "Face List: A list of faces, where each face is defined by indices pointing to the vertices that form the triangle.\n",
    "\n",
    "Edge List: A list of edges, where each edge is defined by the indices of its two endpoints. This can be useful for certain algorithms that need to traverse the mesh.\n",
    "\n",
    "Adjacency List: A list where each vertex points to its adjacent vertices. This representation is useful for graph-based algorithms and operations like mesh smoothing.\n",
    "\n",
    "These representations can be stored in various data structures, such as arrays, linked lists, or more complex structures like half-edge or winged-edge data structures, depending on the specific needs of the application."
   ]
  },
  {
   "cell_type": "markdown",
   "metadata": {},
   "source": [
    "Give an example of a famous triangle mesh.  "
   ]
  },
  {
   "cell_type": "markdown",
   "metadata": {},
   "source": [
    "A well-known example of a famous triangle mesh is the \"Stanford Bunny\".\n",
    "\n",
    "The \"Stanford Bunny\" is a 3D model consisting of 69,451 triangles. It was created at Stanford University in 1994 and has since become a standard test model in computer graphics research. The model represents a rabbit and is often used to test various algorithms in 3D modeling, rendering, and computer vision."
   ]
  },
  {
   "cell_type": "markdown",
   "metadata": {},
   "source": [
    "Define OFF format for a triangle mesh.  "
   ]
  },
  {
   "cell_type": "markdown",
   "metadata": {},
   "source": [
    "The OFF (Object File Format) is a simple text-based format used to represent the geometry of a 3D object, particularly triangle meshes. \n",
    "\n",
    "Here’s a breakdown of its structure:\n",
    "\n",
    "Header:\n",
    "\n",
    "The file begins with the keyword OFF to indicate the file type.\n",
    "Counts:\n",
    "The next line contains three integers: the number of vertices, the number of \n",
    "faces, and the number of edges. The number of edges can often be ignored.\n",
    "\n",
    "Vertices:\n",
    "Each vertex is listed on a new line with its x, y, and z coordinates.\n",
    "\n",
    "Faces:\n",
    "Each face is defined by the number of vertices it has (typically 3 for triangles), followed by the indices of these vertices. Optionally, RGB color values can be included for each face.\n",
    "\n",
    "This format is widely used in computational geometry and computer graphics for its simplicity and ease of parsing."
   ]
  },
  {
   "cell_type": "markdown",
   "metadata": {},
   "source": [
    "Define PLY format"
   ]
  },
  {
   "cell_type": "markdown",
   "metadata": {},
   "source": [
    "The PLY (Polygon File Format), also known as the Stanford Triangle Format, is a file format designed to store three-dimensional data from 3D scanners and other sources. It supports a simple description of a 3D object as a collection of polygons, typically triangles. \n",
    "\n",
    "Here are the key features of the PLY format:\n",
    "\n",
    "Header:\n",
    "The file starts with the keyword ply to identify it as a PLY file.\n",
    "The second line specifies the format (ASCII or binary) and version.\n",
    "The header includes comments and descriptions of the elements (vertices, \n",
    "faces, etc.) and their properties.\n",
    "\n",
    "Vertices:\n",
    "Each vertex is defined by its coordinates (x, y, z) and can include additional properties like color, normal direction, and texture coordinates.\n",
    "\n",
    "Faces:\n",
    "Each face is defined by the number of vertices it has (usually 3 for triangles) followed by the indices of these vertices.\n",
    "\n",
    "Properties:\n",
    "The format allows for various properties to be attached to vertices and faces, such as color, transparency, and surface normals.\n",
    "\n",
    "This format is widely used in computer graphics and computational geometry for its simplicity and flexibility"
   ]
  },
  {
   "cell_type": "markdown",
   "metadata": {},
   "source": [
    "## Glossary \n"
   ]
  },
  {
   "cell_type": "markdown",
   "metadata": {},
   "source": [
    "**Glossary** Work on your glossary.  The goal is to develop precise and concise definitions of important terms in the course.  The textbook is an excellent source to find important terms and their definitions."
   ]
  },
  {
   "cell_type": "markdown",
   "metadata": {},
   "source": [
    "__Type in 3 of your 'term + definition' entries from your glossary here__"
   ]
  },
  {
   "cell_type": "markdown",
   "metadata": {},
   "source": [
    "1. Algorithm : set of instructions or rules designed to perform a specific task or solve a problem. In data science, algorithms are used to process data, make predictions, and build models.\n",
    "\n",
    "2. Big Data: Big data refers to extremely large datasets that are too complex to be processed and analyzed using traditional data processing tools. It is characterized by the three V’s: volume (large amounts of data), velocity (high speed of data generation), and variety (diverse types of data).\n",
    "\n",
    "3. Classification: Classification is a type of supervised machine learning problem where the goal is to assign a label or category to a given input based on its features. For example, an email spam filter classifies emails as either “spam” or “not spam” based on their content. Classification algorithms learn from labeled training data to make accurate predictions on new, unseen data."
   ]
  }
 ],
 "metadata": {
  "anaconda-cloud": {},
  "kernelspec": {
   "display_name": "Python 3 (ipykernel)",
   "language": "python",
   "name": "python3"
  },
  "language_info": {
   "codemirror_mode": {
    "name": "ipython",
    "version": 3
   },
   "file_extension": ".py",
   "mimetype": "text/x-python",
   "name": "python",
   "nbconvert_exporter": "python",
   "pygments_lexer": "ipython3",
   "version": "3.8.16"
  }
 },
 "nbformat": 4,
 "nbformat_minor": 1
}
