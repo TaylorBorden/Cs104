{
 "cells": [
  {
   "cell_type": "code",
   "execution_count": 1,
   "id": "42865d65",
   "metadata": {
    "deletable": false,
    "editable": false
   },
   "outputs": [],
   "source": [
    "# Initialize Otter\n",
    "import otter\n",
    "grader = otter.Notebook(\"hw5-cs104.ipynb\")"
   ]
  },
  {
   "cell_type": "markdown",
   "id": "df160a6e",
   "metadata": {},
   "source": [
    "# Homework 5: Applying Functions and Iteration\n",
    "\n",
    "Please complete this notebook by filling in the cells provided. Before you begin, execute the previous cell to load the provided tests."
   ]
  },
  {
   "cell_type": "markdown",
   "id": "61def505",
   "metadata": {},
   "source": [
    "**Helpful Resource:**\n",
    "- [Python Reference](http://data8.org/sp22/python-reference.html)\n",
    "\n",
    "**Recommended Readings**: \n",
    "\n",
    "* [Tabular Thinking Guide](https://drive.google.com/file/d/13HaWu4rrjeowEOs6S_vaQGM3GremzXQ3/view?usp=sharing)\n",
    "* [Applying Functions](https://www.inferentialthinking.com/chapters/08/1/Applying_a_Function_to_a_Column.html)\n",
    "* [Conditionals](https://www.inferentialthinking.com/chapters/09/1/Conditional_Statements.html)\n",
    "* [Iteration](https://www.inferentialthinking.com/chapters/09/2/Iteration.html)"
   ]
  },
  {
   "cell_type": "markdown",
   "id": "1718f82e",
   "metadata": {},
   "source": [
    "Execute the following cell to load some modules that you will need."
   ]
  },
  {
   "cell_type": "code",
   "execution_count": 2,
   "id": "94bb20cf",
   "metadata": {},
   "outputs": [],
   "source": [
    "# Run this cell to set up the notebook, but please don't change it.\n",
    "\n",
    "# These lines import the numpy and datascience modules.\n",
    "import numpy as np\n",
    "from datascience import *\n",
    "import warnings\n",
    "warnings.simplefilter('ignore', FutureWarning)"
   ]
  },
  {
   "cell_type": "markdown",
   "id": "17a5f51b",
   "metadata": {},
   "source": [
    "## 1. 2021 UAB Football Season"
   ]
  },
  {
   "cell_type": "markdown",
   "id": "814ed251",
   "metadata": {},
   "source": [
    "James is trying to analyze how well the UAB football team performed in the 2021 season. A football game is divided into four quarters. The number of points UAB scored in each quarter and the number of points their opponent scored in each quarter are stored in a table called `uab_fb.csv`."
   ]
  },
  {
   "cell_type": "code",
   "execution_count": 3,
   "id": "a3523956",
   "metadata": {
    "deletable": false,
    "editable": false
   },
   "outputs": [
    {
     "data": {
      "text/html": [
       "<table border=\"1\" class=\"dataframe\">\n",
       "    <thead>\n",
       "        <tr>\n",
       "            <th>Opponent</th> <th>UAB 1Q</th> <th>UAB 2Q</th> <th>UAB 3Q</th> <th>UAB 4Q</th> <th>Opp 1Q</th> <th>Opp 2Q</th> <th>Opp 3Q</th> <th>Opp 4Q</th>\n",
       "        </tr>\n",
       "    </thead>\n",
       "    <tbody>\n",
       "        <tr>\n",
       "            <td>Jacksonville State  </td> <td>0     </td> <td>10    </td> <td>14    </td> <td>7     </td> <td>0     </td> <td>0     </td> <td>0     </td> <td>0     </td>\n",
       "        </tr>\n",
       "        <tr>\n",
       "            <td>Georgia             </td> <td>0     </td> <td>0     </td> <td>0     </td> <td>7     </td> <td>21    </td> <td>14    </td> <td>14    </td> <td>7     </td>\n",
       "        </tr>\n",
       "        <tr>\n",
       "            <td>North Texas         </td> <td>17    </td> <td>13    </td> <td>3     </td> <td>7     </td> <td>0     </td> <td>0     </td> <td>0     </td> <td>6     </td>\n",
       "        </tr>\n",
       "        <tr>\n",
       "            <td>Tulane              </td> <td>7     </td> <td>14    </td> <td>7     </td> <td>0     </td> <td>0     </td> <td>14    </td> <td>0     </td> <td>7     </td>\n",
       "        </tr>\n",
       "        <tr>\n",
       "            <td>Liberty             </td> <td>3     </td> <td>0     </td> <td>0     </td> <td>9     </td> <td>0     </td> <td>3     </td> <td>21    </td> <td>12    </td>\n",
       "        </tr>\n",
       "        <tr>\n",
       "            <td>Florida Atlantic    </td> <td>14    </td> <td>10    </td> <td>7     </td> <td>0     </td> <td>7     </td> <td>7     </td> <td>0     </td> <td>0     </td>\n",
       "        </tr>\n",
       "        <tr>\n",
       "            <td>Southern Mississippi</td> <td>3     </td> <td>28    </td> <td>3     </td> <td>0     </td> <td>0     </td> <td>0     </td> <td>0     </td> <td>0     </td>\n",
       "        </tr>\n",
       "        <tr>\n",
       "            <td>Rice                </td> <td>14    </td> <td>0     </td> <td>7     </td> <td>3     </td> <td>13    </td> <td>7     </td> <td>7     </td> <td>3     </td>\n",
       "        </tr>\n",
       "        <tr>\n",
       "            <td>Louisiana Tech      </td> <td>7     </td> <td>17    </td> <td>7     </td> <td>21    </td> <td>7     </td> <td>14    </td> <td>0     </td> <td>17    </td>\n",
       "        </tr>\n",
       "        <tr>\n",
       "            <td>Marshall            </td> <td>14    </td> <td>0     </td> <td>7     </td> <td>0     </td> <td>0     </td> <td>7     </td> <td>7     </td> <td>0     </td>\n",
       "        </tr>\n",
       "        <tr>\n",
       "            <td>UTSA                </td> <td>14    </td> <td>10    </td> <td>0     </td> <td>7     </td> <td>7     </td> <td>10    </td> <td>10    </td> <td>7     </td>\n",
       "        </tr>\n",
       "        <tr>\n",
       "            <td>UTEP                </td> <td>7     </td> <td>7     </td> <td>14    </td> <td>14    </td> <td>7     </td> <td>10    </td> <td>8     </td> <td>0     </td>\n",
       "        </tr>\n",
       "        <tr>\n",
       "            <td>BYU                 </td> <td>14    </td> <td>7     </td> <td>3     </td> <td>7     </td> <td>0     </td> <td>14    </td> <td>7     </td> <td>7     </td>\n",
       "        </tr>\n",
       "    </tbody>\n",
       "</table>"
      ],
      "text/plain": [
       "<IPython.core.display.HTML object>"
      ]
     },
     "metadata": {},
     "output_type": "display_data"
    }
   ],
   "source": [
    "# Just run this cell\n",
    "# Read in the uab_fb csv file\n",
    "games = Table().read_table(\"uab_fb.csv\")\n",
    "games.show()"
   ]
  },
  {
   "cell_type": "markdown",
   "id": "0baff09b",
   "metadata": {
    "deletable": false,
    "editable": false
   },
   "source": [
    "Let's start by finding the total points each team scored in a game.\n",
    "\n",
    "**Question 1.** Write a function called `sum_scores`.  It should take four arguments, where each argument represents integers corresponding to the team's score for each quarter. It should return the team's total score for that game. **(20 Points)**\n",
    "\n",
    "*Note:* Don't overthink this question!\n",
    "\n",
    "\n",
    "<!--\n",
    "BEGIN QUESTION\n",
    "name: q1_1\n",
    "manual: false\n",
    "points:\n",
    " - 10\n",
    " - 10\n",
    "-->"
   ]
  },
  {
   "cell_type": "code",
   "execution_count": 4,
   "id": "e1cf4fb6",
   "metadata": {},
   "outputs": [
    {
     "data": {
      "text/plain": [
       "24"
      ]
     },
     "execution_count": 4,
     "metadata": {},
     "output_type": "execute_result"
    }
   ],
   "source": [
    "def sum_scores(q1, q2, q3, q4):\n",
    "    '''Returns the total score calculated by adding up the score of each quarter'''\n",
    "    return q1 + q2 + q3 + q4\n",
    "\n",
    "sum_scores(14, 7, 3, 0) #DO NOT CHANGE THIS LINE"
   ]
  },
  {
   "cell_type": "code",
   "execution_count": 5,
   "id": "e5856d00",
   "metadata": {
    "deletable": false,
    "editable": false
   },
   "outputs": [
    {
     "data": {
      "text/html": [
       "<p><strong><pre style='display: inline;'>q1_1</pre></strong> passed! 🍀</p>"
      ],
      "text/plain": [
       "q1_1 results: All test cases passed!"
      ]
     },
     "execution_count": 5,
     "metadata": {},
     "output_type": "execute_result"
    }
   ],
   "source": [
    "grader.check(\"q1_1\")"
   ]
  },
  {
   "cell_type": "markdown",
   "id": "1f5d6df3",
   "metadata": {
    "deletable": false,
    "editable": false
   },
   "source": [
    "**Question 2.** Create a new table `final_scores` with three columns in this *specific* order: `Opponent`, `UAB Score`, `Opponent Score`. You will have to create the `UAB Score` and `Opponent Score` columns. Use the function `sum_scores` you just defined in the previous question for this problem. **(20 Points)**\n",
    "\n",
    "*Hint:* If you want to apply a function that takes in multiple arguments, you can pass multiple column names as arguments in `tbl.apply()`. The column values will be passed into the corresponding arguments of the function. Take a look at the Python Reference Sheet for syntax.\n",
    "\n",
    "*Note:* If you’re running into issues creating `final_scores`, check that `uab_scores` and `opponent_scores` output what you want. \n",
    "\n",
    "<!--\n",
    "BEGIN QUESTION\n",
    "name: q1_2\n",
    "manual: false\n",
    "points:\n",
    " - 0\n",
    " - 0\n",
    " - 20\n",
    "-->"
   ]
  },
  {
   "cell_type": "code",
   "execution_count": 6,
   "id": "4f528650",
   "metadata": {},
   "outputs": [
    {
     "data": {
      "text/html": [
       "<table border=\"1\" class=\"dataframe\">\n",
       "    <thead>\n",
       "        <tr>\n",
       "            <th>Opponent</th> <th>UAB Score</th> <th>Opponent Score</th>\n",
       "        </tr>\n",
       "    </thead>\n",
       "    <tbody>\n",
       "        <tr>\n",
       "            <td>Jacksonville State  </td> <td>31       </td> <td>0             </td>\n",
       "        </tr>\n",
       "        <tr>\n",
       "            <td>Georgia             </td> <td>7        </td> <td>56            </td>\n",
       "        </tr>\n",
       "        <tr>\n",
       "            <td>North Texas         </td> <td>40       </td> <td>6             </td>\n",
       "        </tr>\n",
       "        <tr>\n",
       "            <td>Tulane              </td> <td>28       </td> <td>21            </td>\n",
       "        </tr>\n",
       "        <tr>\n",
       "            <td>Liberty             </td> <td>12       </td> <td>36            </td>\n",
       "        </tr>\n",
       "        <tr>\n",
       "            <td>Florida Atlantic    </td> <td>31       </td> <td>14            </td>\n",
       "        </tr>\n",
       "        <tr>\n",
       "            <td>Southern Mississippi</td> <td>34       </td> <td>0             </td>\n",
       "        </tr>\n",
       "        <tr>\n",
       "            <td>Rice                </td> <td>24       </td> <td>30            </td>\n",
       "        </tr>\n",
       "        <tr>\n",
       "            <td>Louisiana Tech      </td> <td>52       </td> <td>38            </td>\n",
       "        </tr>\n",
       "        <tr>\n",
       "            <td>Marshall            </td> <td>21       </td> <td>14            </td>\n",
       "        </tr>\n",
       "    </tbody>\n",
       "</table>\n",
       "<p>... (3 rows omitted)</p>"
      ],
      "text/plain": [
       "Opponent             | UAB Score | Opponent Score\n",
       "Jacksonville State   | 31        | 0\n",
       "Georgia              | 7         | 56\n",
       "North Texas          | 40        | 6\n",
       "Tulane               | 28        | 21\n",
       "Liberty              | 12        | 36\n",
       "Florida Atlantic     | 31        | 14\n",
       "Southern Mississippi | 34        | 0\n",
       "Rice                 | 24        | 30\n",
       "Louisiana Tech       | 52        | 38\n",
       "Marshall             | 21        | 14\n",
       "... (3 rows omitted)"
      ]
     },
     "execution_count": 6,
     "metadata": {},
     "output_type": "execute_result"
    }
   ],
   "source": [
    "uab_scores = games.apply(sum_scores, \"UAB 1Q\", \"UAB 2Q\", \"UAB 3Q\", \"UAB 4Q\")\n",
    "opponent_scores = games.apply(sum_scores, \"Opp 1Q\", \"Opp 2Q\", \"Opp 3Q\", \"Opp 4Q\") \n",
    "final_scores = Table().with_columns(\n",
    "    \"Opponent\", games.column(\"Opponent\"),\n",
    "    \"UAB Score\", uab_scores,\n",
    "    \"Opponent Score\", opponent_scores\n",
    ")\n",
    "final_scores"
   ]
  },
  {
   "cell_type": "code",
   "execution_count": 7,
   "id": "897933af",
   "metadata": {
    "deletable": false,
    "editable": false
   },
   "outputs": [
    {
     "data": {
      "text/html": [
       "<p><strong><pre style='display: inline;'>q1_2</pre></strong> passed! 🌟</p>"
      ],
      "text/plain": [
       "q1_2 results: All test cases passed!"
      ]
     },
     "execution_count": 7,
     "metadata": {},
     "output_type": "execute_result"
    }
   ],
   "source": [
    "grader.check(\"q1_2\")"
   ]
  },
  {
   "cell_type": "markdown",
   "id": "a4632c54",
   "metadata": {},
   "source": [
    "We can get specific row objects from a table. You can use `tbl.row(n)` to get the `n`th row of a table. `row.item(\"column_name\")` will allow you to select the element that corresponds to `column_name` in a particular row. Here's an example:"
   ]
  },
  {
   "cell_type": "code",
   "execution_count": 8,
   "id": "f57e9137",
   "metadata": {
    "deletable": false,
    "editable": false
   },
   "outputs": [
    {
     "data": {
      "text/plain": [
       "Row(Opponent='BYU', UAB 1Q=14, UAB 2Q=7, UAB 3Q=3, UAB 4Q=7, Opp 1Q=0, Opp 2Q=14, Opp 3Q=7, Opp 4Q=7)"
      ]
     },
     "execution_count": 8,
     "metadata": {},
     "output_type": "execute_result"
    }
   ],
   "source": [
    "# Just run this cell\n",
    "# We won the Independence Bowl!\n",
    "games.row(12)"
   ]
  },
  {
   "cell_type": "code",
   "execution_count": 9,
   "id": "8d0fa141",
   "metadata": {
    "deletable": false,
    "editable": false
   },
   "outputs": [
    {
     "data": {
      "text/plain": [
       "28"
      ]
     },
     "execution_count": 9,
     "metadata": {},
     "output_type": "execute_result"
    }
   ],
   "source": [
    "# Just run this cell\n",
    "games.row(6).item(\"UAB 2Q\")"
   ]
  },
  {
   "cell_type": "markdown",
   "id": "3d0fa4dc",
   "metadata": {
    "deletable": false,
    "editable": false
   },
   "source": [
    "**Question 3.** We want to see for a particular game whether or not UAB lost. Write a function called `did_uab_lose`.  It should take one argument: a **row object** from the `final_scores` table. It should return either `True` if UAB's score was less than the Opponent's score, and `False` otherwise. **(20 Points)**\n",
    "\n",
    "*Note 1*: \"Row object\" means a row from the table that contains all the data for that specific row. It is **not** the index of a row. Do not try and call `final_scores.row(row)` inside of the function.\n",
    "\n",
    "*Note 2*: If you're still confused by row objects, try printing out `final_scores.row(0)` in a new cell to visually see what it looks like! This piece of code is pulling out the row object located at index 0 of the `final_scores` table and returning it. When you display it in a cell, you'll see that it is not located within a table, but is instead a standalone row object!\n",
    "\n",
    "<!--\n",
    "BEGIN QUESTION\n",
    "name: q1_3\n",
    "manual: false\n",
    "points:\n",
    " - 0\n",
    " - 10\n",
    " - 10\n",
    "-->"
   ]
  },
  {
   "cell_type": "code",
   "execution_count": 10,
   "id": "622725b9",
   "metadata": {},
   "outputs": [
    {
     "data": {
      "text/plain": [
       "False"
      ]
     },
     "execution_count": 10,
     "metadata": {},
     "output_type": "execute_result"
    }
   ],
   "source": [
    "def did_uab_lose(row):\n",
    "    '''Returns True if UAB's score was less than the Opponent's score, otherwise False'''\n",
    "    return row[1] < row[2]\n",
    "\n",
    "did_uab_lose(final_scores.row(0))  # DO NOT CHANGE THIS LINE"
   ]
  },
  {
   "cell_type": "code",
   "execution_count": 11,
   "id": "0e3b1969",
   "metadata": {
    "deletable": false,
    "editable": false
   },
   "outputs": [
    {
     "data": {
      "text/html": [
       "<p><strong><pre style='display: inline;'>q1_3</pre></strong> passed! 🙌</p>"
      ],
      "text/plain": [
       "q1_3 results: All test cases passed!"
      ]
     },
     "execution_count": 11,
     "metadata": {},
     "output_type": "execute_result"
    }
   ],
   "source": [
    "grader.check(\"q1_3\")"
   ]
  },
  {
   "cell_type": "markdown",
   "id": "0ef3ca12",
   "metadata": {
    "deletable": false,
    "editable": false
   },
   "source": [
    "**Question 4.** James wants to see how UAB did against every opponent during the 2021 season. Using the `final_scores` table:\n",
    "\n",
    "1. Assign `results` to an array of `True` and `False` values that correspond to whether or not UAB lost.\n",
    "2. Add the `results` array to the `final_scores` table in a column named `Results`, and assign this to `final_scores_with_results`.\n",
    "3. Then, respectively assign the number of wins and losses UAB had to `uab_wins` and `uab_losses`.\n",
    "\n",
    "**(20 Points)**\n",
    "\n",
    "*Hint 1*: `True` and `False` are **not** strings. What data type are they?\n",
    "\n",
    "*Hint 2*: `tbl.num_rows` might be helpful too.\n",
    "\n",
    "*Hint 3*: When you only pass a function name and no column labels through `tbl.apply()`, the function gets applied to every row in `tbl`.\n",
    "\n",
    "\n",
    "<!--\n",
    "BEGIN QUESTION\n",
    "name: q1_4\n",
    "manual: false\n",
    "points:\n",
    " - 0\n",
    " - 0\n",
    " - 10\n",
    " - 10\n",
    "-->"
   ]
  },
  {
   "cell_type": "code",
   "execution_count": 12,
   "id": "d4263487",
   "metadata": {},
   "outputs": [
    {
     "name": "stdout",
     "output_type": "stream",
     "text": [
      "In the 2021 Season, UAB Football won 9 games and lost 4 games. Go Blazers! 🐲\n"
     ]
    }
   ],
   "source": [
    "results = final_scores.apply(did_uab_lose)\n",
    "final_scores_with_results = final_scores.with_column('Results', results)\n",
    "uab_losses = np.count_nonzero(results)\n",
    "uab_wins = final_scores.num_rows - uab_losses\n",
    "\n",
    "# Don't delete or edit the following lines:\n",
    "print(f\"In the 2021 Season, UAB Football won {uab_wins} games and lost {uab_losses} games. Go Blazers!\", end=' ')\n",
    "print(chr(0x1f432))"
   ]
  },
  {
   "cell_type": "code",
   "execution_count": 13,
   "id": "ed87715b",
   "metadata": {
    "deletable": false,
    "editable": false
   },
   "outputs": [
    {
     "data": {
      "text/html": [
       "<p><strong><pre style='display: inline;'>q1_4</pre></strong> passed! 🍀</p>"
      ],
      "text/plain": [
       "q1_4 results: All test cases passed!"
      ]
     },
     "execution_count": 13,
     "metadata": {},
     "output_type": "execute_result"
    }
   ],
   "source": [
    "grader.check(\"q1_4\")"
   ]
  },
  {
   "cell_type": "markdown",
   "id": "2242a329",
   "metadata": {
    "deletable": false,
    "editable": false
   },
   "source": [
    "**Question 5:** Sometimes in football the two teams are equally matched and the game is quite close. Other times, it is a blowout, where the winning team wins by a large margin of victory. Let's define a **big win** to be a game in which the winning team won by more than 10 points.\n",
    "\n",
    "Use your `final_scores` table to assign `big_wins` to an array of team names that UAB had big wins against during the 2021 football season. You may find the `is_big_win` function defined below helpful to you! **(20 Points)**\n",
    "\n",
    "<!--\n",
    "BEGIN QUESTION\n",
    "name: q1_5\n",
    "manual: false\n",
    "points:\n",
    " - 5\n",
    " - 5\n",
    " - 10\n",
    "-->"
   ]
  },
  {
   "cell_type": "code",
   "execution_count": 14,
   "id": "5f1e1782",
   "metadata": {},
   "outputs": [
    {
     "data": {
      "text/plain": [
       "array(['Jacksonville State', 'Georgia', 'North Texas', 'Tulane', 'Liberty',\n",
       "       'Florida Atlantic', 'Southern Mississippi', 'Rice',\n",
       "       'Louisiana Tech', 'Marshall', 'UTSA', 'UTEP', 'BYU'],\n",
       "      dtype='<U32')"
      ]
     },
     "execution_count": 14,
     "metadata": {},
     "output_type": "execute_result"
    }
   ],
   "source": [
    "def is_big_win(row):\n",
    "    '''Return a boolean to describe whether or not a game (row) is a big win'''\n",
    "    score_diff = row.item(\"UAB Score\") - row.item(\"Opponent Score\")\n",
    "    \n",
    "    if score_diff > 10:\n",
    "        return True\n",
    "    else:\n",
    "        return False\n",
    "\n",
    "big_wins = make_array()\n",
    "\n",
    "for row in final_scores.rows: # This will help us iterate through rows of final_scores table\n",
    "    opponent = row.item(\"Opponent\")\n",
    "    if row.item(\"Opponent\"): # You should use the function defined above!\n",
    "        big_wins = np.append(big_wins, opponent) # Do not change this line - Adds character to the end of some_string\n",
    "big_wins"
   ]
  },
  {
   "cell_type": "code",
   "execution_count": 15,
   "id": "7cc705e8",
   "metadata": {
    "deletable": false,
    "editable": false
   },
   "outputs": [
    {
     "data": {
      "text/html": [
       "<p><strong><pre style='display: inline;'>q1_5</pre></strong> passed! 🚀</p>"
      ],
      "text/plain": [
       "q1_5 results: All test cases passed!"
      ]
     },
     "execution_count": 15,
     "metadata": {},
     "output_type": "execute_result"
    }
   ],
   "source": [
    "grader.check(\"q1_5\")"
   ]
  },
  {
   "cell_type": "markdown",
   "id": "a4041dbe",
   "metadata": {},
   "source": [
    "You're done with the required section of Homework 5. Continue on to the optional section for some more practice with iterations and for loops."
   ]
  },
  {
   "cell_type": "markdown",
   "id": "03b144b5",
   "metadata": {},
   "source": [
    "## 2. Unrolling Loops (Optional)"
   ]
  },
  {
   "cell_type": "markdown",
   "id": "e5725945",
   "metadata": {},
   "source": [
    "**This section of HW5 is optional. Do it for your own practice, but it will not be incorporated into the final grading.**\n",
    "\n",
    "\"Unrolling\" a `for` loop means to manually write out all the code that it executes.  The result is code that does the same thing as the loop, but without the structure of the loop.  For example, for the following loop:\n",
    "\n",
    "    for num in np.arange(3):\n",
    "        print(\"The number is\", num)\n",
    "\n",
    "The unrolled version would look like this:\n",
    "\n",
    "    print(\"The number is\", 0)\n",
    "    print(\"The number is\", 1)\n",
    "    print(\"The number is\", 2)\n",
    "\n",
    "\n",
    "Unrolling a `for` loop is a great way to understand what the loop is doing during each step. In this exercise, you'll practice unrolling a `for` loop.\n",
    "\n",
    "\n",
    "In the question below, write code that does the same thing as the given code, but with any `for` loops unrolled.  It's a good idea to run both your answer and the original code to verify that they do the same thing.  (Of course, if the code does something random, you'll get a different random outcome than the original code!)"
   ]
  },
  {
   "cell_type": "markdown",
   "id": "2d82903d",
   "metadata": {
    "deletable": false,
    "editable": false
   },
   "source": [
    "**Optional Question 1.** Unroll the code below.\n",
    "<!--\n",
    "BEGIN QUESTION\n",
    "name: q2_1\n",
    "manual: false\n",
    "-->"
   ]
  },
  {
   "cell_type": "code",
   "execution_count": 16,
   "id": "f560c305",
   "metadata": {},
   "outputs": [
    {
     "name": "stdout",
     "output_type": "stream",
     "text": [
      "Knock, knock.\n",
      "Who's there?\n",
      "Banana.\n",
      "Banana who?\n",
      "Knock, knock.\n",
      "Who's there?\n",
      "Banana.\n",
      "Banana who?\n",
      "Knock, knock.\n",
      "Who's there?\n",
      "Banana.\n",
      "Banana who?\n",
      "Knock, knock.\n",
      "Who's there?\n",
      "Orange.\n",
      "Orange who?\n",
      "Orange you glad I didn't say banana?\n"
     ]
    }
   ],
   "source": [
    "for joke_iteration in np.arange(3):\n",
    "    print(\"Knock, knock.\")\n",
    "    print(\"Who's there?\")\n",
    "    print(\"Banana.\")\n",
    "    print(\"Banana who?\")\n",
    "print(\"Knock, knock.\")\n",
    "print(\"Who's there?\")\n",
    "print(\"Orange.\")\n",
    "print(\"Orange who?\")\n",
    "print(\"Orange you glad I didn't say banana?\")"
   ]
  },
  {
   "cell_type": "code",
   "execution_count": 17,
   "id": "a9dca95c",
   "metadata": {
    "for_assignment_type": "solution"
   },
   "outputs": [
    {
     "data": {
      "text/plain": [
       "Ellipsis"
      ]
     },
     "execution_count": 17,
     "metadata": {},
     "output_type": "execute_result"
    }
   ],
   "source": [
    "..."
   ]
  },
  {
   "cell_type": "markdown",
   "id": "637ba252",
   "metadata": {},
   "source": [
    "Congratulations, you are done with Homework 5!\n",
    "\n",
    "**Important submission steps:** \n",
    "\n",
    "1. Run the tests and verify that they all pass.\n",
    "2. Choose **Save and Checkpoint** from the **File** menu.\n",
    "4. Go to Canvas and submit the Jupyter notebook file (hw5-cs104.ipynb) to the CS104 HW5 assignment."
   ]
  },
  {
   "cell_type": "markdown",
   "id": "e14dc3b1",
   "metadata": {
    "deletable": false,
    "editable": false
   },
   "source": [
    "---\n",
    "\n",
    "To double-check your work, the cell below will rerun all of the autograder tests."
   ]
  },
  {
   "cell_type": "code",
   "execution_count": 18,
   "id": "73df2d1f",
   "metadata": {
    "deletable": false,
    "editable": false
   },
   "outputs": [
    {
     "data": {
      "text/plain": [
       "q1_1 results: All test cases passed!\n",
       "\n",
       "q1_2 results: All test cases passed!\n",
       "\n",
       "q1_3 results: All test cases passed!\n",
       "\n",
       "q1_4 results: All test cases passed!\n",
       "\n",
       "q1_5 results: All test cases passed!"
      ]
     },
     "execution_count": 18,
     "metadata": {},
     "output_type": "execute_result"
    }
   ],
   "source": [
    "grader.check_all()"
   ]
  }
 ],
 "metadata": {
  "kernelspec": {
   "display_name": "24fa104-minimal",
   "language": "python",
   "name": "python3"
  },
  "language_info": {
   "codemirror_mode": {
    "name": "ipython",
    "version": 3
   },
   "file_extension": ".py",
   "mimetype": "text/x-python",
   "name": "python",
   "nbconvert_exporter": "python",
   "pygments_lexer": "ipython3",
   "version": "3.12.5"
  }
 },
 "nbformat": 4,
 "nbformat_minor": 5
}
