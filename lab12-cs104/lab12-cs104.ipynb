{
 "cells": [
  {
   "cell_type": "code",
   "execution_count": 4,
   "id": "57e8da8f",
   "metadata": {
    "deletable": false,
    "editable": false
   },
   "outputs": [],
   "source": [
    "# Initialize Otter\n",
    "import otter\n",
    "grader = otter.Notebook(\"lab12-cs104.ipynb\")"
   ]
  },
  {
   "cell_type": "markdown",
   "id": "e3120f50",
   "metadata": {},
   "source": [
    "# Great British Bake Off (A/B Test)\n",
    "\n",
    "Welcome. This week's lab will focus on A/B Testing using data from the popular British television show, [*The Great British Bakeoff*](https://en.wikipedia.org/wiki/The_Great_British_Bake_Off).\n",
    "\n",
    "Our lecture on A/B testing and its notebook may be useful in today's lab.\n",
    "\n",
    "Before you get started, please set up the notebook by running the cell below."
   ]
  },
  {
   "cell_type": "code",
   "execution_count": 5,
   "id": "9b5e39b7",
   "metadata": {
    "execution": {
     "iopub.execute_input": "2022-03-15T03:28:39.461487Z",
     "iopub.status.busy": "2022-03-15T03:28:39.461195Z",
     "iopub.status.idle": "2022-03-15T03:28:41.011758Z",
     "shell.execute_reply": "2022-03-15T03:28:41.010921Z"
    }
   },
   "outputs": [],
   "source": [
    "# Run this cell to set up the notebook, but please don't change it.\n",
    "\n",
    "# These lines import the Numpy and Datascience modules.\n",
    "import numpy as np\n",
    "from datascience import *\n",
    "\n",
    "# These lines do some fancy plotting magic.\n",
    "import matplotlib\n",
    "%matplotlib inline\n",
    "import matplotlib.pyplot as plots\n",
    "plots.style.use('fivethirtyeight')\n",
    "import warnings\n",
    "warnings.simplefilter('ignore', (FutureWarning, np.VisibleDeprecationWarning))"
   ]
  },
  {
   "cell_type": "markdown",
   "id": "bf8001a8",
   "metadata": {},
   "source": [
    "## Lab Check-off"
   ]
  },
  {
   "cell_type": "markdown",
   "id": "ed27268c",
   "metadata": {},
   "source": [
    "When does an A/B test show that the treatment causes a change in outcome?"
   ]
  },
  {
   "cell_type": "markdown",
   "id": "f129f4cd",
   "metadata": {},
   "source": [
    "An A/B test shows that the treatment causes a change in outcome when there is a statistically significant difference between the control group (A) and the treatment group (B). This means the observed difference in outcomes between the groups is unlikely to be due to chance. Typically, a p-value (probability value) less than a predefined threshold (commonly 0.05) indicates statistical significance, suggesting that the treatment has a genuine impact on the outcome."
   ]
  },
  {
   "cell_type": "markdown",
   "id": "1574e44b",
   "metadata": {},
   "source": [
    "## 1. A/B Testing\n",
    "\n",
    "A/B testing is a form of hypothesis testing that allows you to make comparisons between two distributions. We may also refer to an A/B test as a permutation test.\n",
    "\n",
    "You'll almost never be explicitly asked to perform an A/B test. Make sure you can identify situations where the test is appropriate and know how to correctly implement each step. Oftentimes, we use an A/B test to determine whether or not two samples came from the same underlying distribution."
   ]
  },
  {
   "cell_type": "markdown",
   "id": "802c3787",
   "metadata": {
    "deletable": false,
    "editable": false
   },
   "source": [
    "**Question 1.1.** The following statements are the steps of an A/B hypothesis test presented in a *random order*:\n",
    "\n",
    "1. Choose a test statistic (typically the difference in means between two categories)\n",
    "\n",
    "2. Shuffle the labels of the original sample, find your simulated test statistic, and repeat many times\n",
    "\n",
    "3. Find the value of the observed test statistic\n",
    "\n",
    "4. Calculate the p-value based off your observed and simulated test statistics\n",
    "\n",
    "5. Define a null and alternate model\n",
    "\n",
    "6. Use the p-value and p-value cutoff to draw a conclusion about the null hypothesis\n",
    "\n",
    "Assign `ab_test_order` to an array of integers that contains the correct order of an A/B test, where the first item of the array is the first step of an A/B test and the last item of the array is the last step of an A/B test.\n",
    "\n",
    "<!--\n",
    "BEGIN QUESTION\n",
    "name: q1_1\n",
    "-->"
   ]
  },
  {
   "cell_type": "code",
   "execution_count": 6,
   "id": "eb45ebf5",
   "metadata": {
    "execution": {
     "iopub.execute_input": "2022-03-15T03:28:41.015735Z",
     "iopub.status.busy": "2022-03-15T03:28:41.015496Z",
     "iopub.status.idle": "2022-03-15T03:28:41.019571Z",
     "shell.execute_reply": "2022-03-15T03:28:41.018910Z"
    }
   },
   "outputs": [],
   "source": [
    "ab_test_order = [5, 1, 3, 2, 4, 6]"
   ]
  },
  {
   "cell_type": "code",
   "execution_count": 7,
   "id": "49b0d6de",
   "metadata": {
    "deletable": false,
    "editable": false
   },
   "outputs": [
    {
     "data": {
      "text/html": [
       "<p><strong><pre style='display: inline;'>q1_1</pre></strong> passed! 🚀</p>"
      ],
      "text/plain": [
       "q1_1 results: All test cases passed!"
      ]
     },
     "execution_count": 7,
     "metadata": {},
     "output_type": "execute_result"
    }
   ],
   "source": [
    "grader.check(\"q1_1\")"
   ]
  },
  {
   "cell_type": "markdown",
   "id": "9dc70857",
   "metadata": {
    "deletable": false,
    "editable": false
   },
   "source": [
    "**Question 1.2.** If the null hypothesis of an A/B test is correct, should the order of labels affect the differences in means between each group? Why do we shuffle labels in an A/B test? Confirm your answer with a neighbor or staff member before moving on. \n",
    "\n",
    "<!--\n",
    "BEGIN QUESTION\n",
    "name: q1_2\n",
    "-->"
   ]
  },
  {
   "cell_type": "markdown",
   "id": "e0454da5",
   "metadata": {},
   "source": [
    "If the null hypothesis is true, the order of labels shouldn't affect the difference in means because it assumes no real difference between groups. We shuffle labels to simulate this randomness, creating a distribution of the test statistic under the null hypothesis to see if the observed difference is due to chance."
   ]
  },
  {
   "cell_type": "markdown",
   "id": "b2e70ff5",
   "metadata": {},
   "source": [
    "## 2. The Great British Bake Off\n",
    "\n",
    ">\"The Great British Bake Off (often abbreviated to Bake Off or GBBO) is a British television baking competition, produced by Love Productions, in which a group of amateur bakers compete against each other in a series of rounds, attempting to impress a group of judges with their baking skills\" [Wikipedia](https://en.wikipedia.org/wiki/The_Great_British_Bake_Off)\n",
    "\n",
    "For every week of the competition, the judges assign one contestant the title \"Star Baker\". Ultimately, one winner is crowned every season. Using this information, we would like to investigate how winning Star Baker awards affects the odds of winning a season of the show."
   ]
  },
  {
   "cell_type": "markdown",
   "id": "365bd285",
   "metadata": {
    "deletable": false,
    "editable": false
   },
   "source": [
    "**Question 2.1.** We want to know whether winning more Star Baker awards *causes* a change in likelihood of winning the season.  Why is it not sufficient to compare star baker rates for winners and losers?\n",
    "\n",
    "<!--\n",
    "BEGIN QUESTION\n",
    "name: q2_1\n",
    "-->"
   ]
  },
  {
   "cell_type": "markdown",
   "id": "6cfd6dde",
   "metadata": {},
   "source": [
    "Comparing Star Baker rates for winners and losers isn't sufficient to establish causation because it doesn't account for other variables that might influence both outcomes. Correlation doesn't imply causation; we need to control for confounding factors and ensure that the observed relationship is not due to other underlying factors. An A/B test or randomized experiment would be more appropriate to determine if winning more Star Baker awards actually causes an increase in the likelihood of winning the season."
   ]
  },
  {
   "cell_type": "markdown",
   "id": "72ca162a",
   "metadata": {},
   "source": [
    "### Running an Experiment\n",
    "\n",
    "We are going to run the following hypothesis test to determine the association between winning and number of Star Baker awards. The population we are examining is every contestant from seasons 2 through 11 of GBBO. We are going to use the following null and alternative hypotheses:\n",
    "\n",
    "**Null hypothesis:** The distribution of Star Baker awards between contestants who won their season and contestants who did not win their season is the same.\n",
    "\n",
    "**Alternative hypothesis:** Contestants who win their season of the show will win more Star Baker awards on average.\n",
    "\n",
    "Our alternative hypothesis is related to our suspicion that contestants who win more Star Baker awards are more skilled, so they are more likely to win the season."
   ]
  },
  {
   "cell_type": "markdown",
   "id": "56969c6b",
   "metadata": {
    "deletable": false,
    "editable": false
   },
   "source": [
    "**Question 2.2.** Should we use an A/B test to test these hypotheses? If yes, what is our \"A\" group and what is our \"B\" group?\n",
    "\n",
    "<!--\n",
    "BEGIN QUESTION\n",
    "name: q2_2\n",
    "-->"
   ]
  },
  {
   "cell_type": "markdown",
   "id": "665c9c87",
   "metadata": {},
   "source": [
    "Yes, an A/B test is appropriate to test these hypotheses.\n",
    "\n",
    "\"A\" group: Contestants who did not win their season.\n",
    "\n",
    "\"B\" group: Contestants who won their season.\n",
    "\n",
    "This test will allow us to compare the number of Star Baker awards between winners and non-winners to determine if there is a significant difference in their distributions"
   ]
  },
  {
   "cell_type": "markdown",
   "id": "f4530657",
   "metadata": {},
   "source": [
    "Check your answers with your neighbours or a staff member before you move on to the next section."
   ]
  },
  {
   "cell_type": "markdown",
   "id": "7b4b51d9",
   "metadata": {},
   "source": [
    "The `bakers` table below describes the number of star baker awards each contest won and whether or not they won their season (`1` if they won, `0` if they did not win). The data was manually aggregated from Wikipedia for seasons 2-11 of the show. We randomized the order of rows as to not spoil the outcome of the show."
   ]
  },
  {
   "cell_type": "code",
   "execution_count": 8,
   "id": "e1db856e",
   "metadata": {
    "execution": {
     "iopub.execute_input": "2022-03-15T03:28:41.060609Z",
     "iopub.status.busy": "2022-03-15T03:28:41.060398Z",
     "iopub.status.idle": "2022-03-15T03:28:41.089796Z",
     "shell.execute_reply": "2022-03-15T03:28:41.089059Z"
    }
   },
   "outputs": [
    {
     "data": {
      "text/html": [
       "<table border=\"1\" class=\"dataframe\">\n",
       "    <thead>\n",
       "        <tr>\n",
       "            <th>star baker awards</th> <th>won</th>\n",
       "        </tr>\n",
       "    </thead>\n",
       "    <tbody>\n",
       "        <tr>\n",
       "            <td>3                </td> <td>1   </td>\n",
       "        </tr>\n",
       "        <tr>\n",
       "            <td>0                </td> <td>0   </td>\n",
       "        </tr>\n",
       "        <tr>\n",
       "            <td>1                </td> <td>0   </td>\n",
       "        </tr>\n",
       "    </tbody>\n",
       "</table>\n",
       "<p>... (119 rows omitted)</p>"
      ],
      "text/plain": [
       "<IPython.core.display.HTML object>"
      ]
     },
     "metadata": {},
     "output_type": "display_data"
    }
   ],
   "source": [
    "bakers = Table.read_table(\"star_bakers.csv\")\n",
    "bakers.show(3)"
   ]
  },
  {
   "cell_type": "markdown",
   "id": "b063ae77",
   "metadata": {
    "deletable": false,
    "editable": false
   },
   "source": [
    "**Question 2.3.** Create a new table called `means` that contains the mean number of star baker awards for bakers who did not win (`won==0`) and bakers that did win (`won==1`). The table should have the column names `won` and `star baker awards mean`.\n",
    "<!--\n",
    "BEGIN QUESTION\n",
    "name: q2_3\n",
    "-->"
   ]
  },
  {
   "cell_type": "code",
   "execution_count": 9,
   "id": "acfc484d",
   "metadata": {
    "execution": {
     "iopub.execute_input": "2022-03-15T03:28:41.092931Z",
     "iopub.status.busy": "2022-03-15T03:28:41.092715Z",
     "iopub.status.idle": "2022-03-15T03:28:41.102193Z",
     "shell.execute_reply": "2022-03-15T03:28:41.101471Z"
    }
   },
   "outputs": [
    {
     "data": {
      "text/html": [
       "<table border=\"1\" class=\"dataframe\">\n",
       "    <thead>\n",
       "        <tr>\n",
       "            <th>won</th> <th>star baker awards mean</th>\n",
       "        </tr>\n",
       "    </thead>\n",
       "    <tbody>\n",
       "        <tr>\n",
       "            <td>0   </td> <td>0.651786              </td>\n",
       "        </tr>\n",
       "        <tr>\n",
       "            <td>1   </td> <td>1.5                   </td>\n",
       "        </tr>\n",
       "    </tbody>\n",
       "</table>"
      ],
      "text/plain": [
       "won  | star baker awards mean\n",
       "0    | 0.651786\n",
       "1    | 1.5"
      ]
     },
     "execution_count": 9,
     "metadata": {},
     "output_type": "execute_result"
    }
   ],
   "source": [
    "means = bakers.group('won', np.mean).select('won', 'star baker awards mean')\n",
    "means"
   ]
  },
  {
   "cell_type": "code",
   "execution_count": 10,
   "id": "e255576a",
   "metadata": {
    "deletable": false,
    "editable": false
   },
   "outputs": [
    {
     "data": {
      "text/html": [
       "<p><strong><pre style='display: inline;'>q2_3</pre></strong> passed! 🌟</p>"
      ],
      "text/plain": [
       "q2_3 results: All test cases passed!"
      ]
     },
     "execution_count": 10,
     "metadata": {},
     "output_type": "execute_result"
    }
   ],
   "source": [
    "grader.check(\"q2_3\")"
   ]
  },
  {
   "cell_type": "markdown",
   "id": "e5fc4595",
   "metadata": {
    "deletable": false,
    "editable": false
   },
   "source": [
    "**Question 2.4.** Visualize the distribution of Star Baker awards for winners and non-winners. You should use the bins we provided.\n",
    "\n",
    "Hint: You will want to use the group argument of `tbl.hist`. In order to produce several overlayed histograms based on unique values in a given column, we can do something like `tbl.hist(..., group=<col_name>, bins=...)`!\n",
    "\n",
    "<!--\n",
    "BEGIN QUESTION\n",
    "name: q2_4\n",
    "-->"
   ]
  },
  {
   "cell_type": "code",
   "execution_count": 11,
   "id": "d997c22e",
   "metadata": {
    "execution": {
     "iopub.execute_input": "2022-03-15T03:28:41.127211Z",
     "iopub.status.busy": "2022-03-15T03:28:41.126967Z",
     "iopub.status.idle": "2022-03-15T03:28:41.462513Z",
     "shell.execute_reply": "2022-03-15T03:28:41.461640Z"
    }
   },
   "outputs": [
    {
     "data": {
      "image/png": "[encoded data removed]",
      "text/plain": [
       "<Figure size 600x400 with 1 Axes>"
      ]
     },
     "metadata": {},
     "output_type": "display_data"
    }
   ],
   "source": [
    "useful_bins = np.arange(0, 7)\n",
    "bakers.hist('star baker awards', group='won',)"
   ]
  },
  {
   "cell_type": "markdown",
   "id": "e86f622c",
   "metadata": {
    "deletable": false,
    "editable": false
   },
   "source": [
    "**Question 2.5.** We want to figure out if there is a difference between the distribution of Star Baker awards between winners and non winners. \n",
    "\n",
    "What should the test statistic be? Which values of this test statistic support the null, and which values support the alternative?\n",
    "\n",
    "If you are in lab, confirm your answer with a neighbour or TA before moving on.\n",
    "\n",
    "Hint: You should think about what measures we use to describe a distribution. \n",
    "\n",
    "<!--\n",
    "BEGIN QUESTION\n",
    "name: q2_5\n",
    "-->"
   ]
  },
  {
   "cell_type": "markdown",
   "id": "49423544",
   "metadata": {},
   "source": [
    "Test Statistic:\n",
    "The test statistic should be the difference in the mean number of Star Baker awards between winners and non-winners.\n",
    "\n",
    "Supporting Values:\n",
    "Null Hypothesis: Values of the test statistic close to zero support the null hypothesis, which assumes that the distributions of Star Baker awards for winners and non-winners are the same (i.e., there's no significant difference between them).\n",
    "\n",
    "Alternative Hypothesis: Values of the test statistic that are significantly different from zero (especially higher values) support the alternative hypothesis, suggesting that winners of the season win more Star Baker awards on average than non-winners.\n",
    "\n",
    "In essence, if the difference in means is substantial, it indicates that winning more Star Baker awards is associated with winning the season, supporting the alternative hypothesis"
   ]
  },
  {
   "cell_type": "markdown",
   "id": "e998757c",
   "metadata": {
    "deletable": false,
    "editable": false
   },
   "source": [
    "**Question 2.6.** Set `observed_difference` to the observed test statistic using the `means` table. \n",
    "\n",
    "<!--\n",
    "BEGIN QUESTION\n",
    "name: q2_6\n",
    "-->"
   ]
  },
  {
   "cell_type": "code",
   "execution_count": 12,
   "id": "cdb442b1",
   "metadata": {
    "execution": {
     "iopub.execute_input": "2022-03-15T03:28:41.466171Z",
     "iopub.status.busy": "2022-03-15T03:28:41.465890Z",
     "iopub.status.idle": "2022-03-15T03:28:41.471628Z",
     "shell.execute_reply": "2022-03-15T03:28:41.470820Z"
    }
   },
   "outputs": [
    {
     "data": {
      "text/plain": [
       "0.8482142857142857"
      ]
     },
     "execution_count": 12,
     "metadata": {},
     "output_type": "execute_result"
    }
   ],
   "source": [
    "observed_difference = means.column('star baker awards mean').item(1) - means.column('star baker awards mean').item(0)\n",
    "observed_difference"
   ]
  },
  {
   "cell_type": "code",
   "execution_count": 13,
   "id": "eb4a6dd9",
   "metadata": {
    "deletable": false,
    "editable": false
   },
   "outputs": [
    {
     "data": {
      "text/html": [
       "<p><strong><pre style='display: inline;'>q2_6</pre></strong> passed! 🙌</p>"
      ],
      "text/plain": [
       "q2_6 results: All test cases passed!"
      ]
     },
     "execution_count": 13,
     "metadata": {},
     "output_type": "execute_result"
    }
   ],
   "source": [
    "grader.check(\"q2_6\")"
   ]
  },
  {
   "cell_type": "markdown",
   "id": "17b99620",
   "metadata": {
    "deletable": false,
    "editable": false
   },
   "source": [
    "**Question 2.7.** Given a table like `bakers`, a label column `label_col`, and a values column `val_col`, write a function that calculates the appropriate test statistic.\n",
    "\n",
    "*Hint:* Make sure that you are taking the directionality of our alternative hypothesis into account.\n",
    "\n",
    "<!--\n",
    "BEGIN QUESTION\n",
    "name: q2_7\n",
    "-->"
   ]
  },
  {
   "cell_type": "code",
   "execution_count": 14,
   "id": "ee732cc4",
   "metadata": {
    "execution": {
     "iopub.execute_input": "2022-03-15T03:28:41.495920Z",
     "iopub.status.busy": "2022-03-15T03:28:41.495262Z",
     "iopub.status.idle": "2022-03-15T03:28:41.505037Z",
     "shell.execute_reply": "2022-03-15T03:28:41.504477Z"
    },
    "scrolled": true
   },
   "outputs": [
    {
     "data": {
      "text/plain": [
       "0.8482142857142857"
      ]
     },
     "execution_count": 14,
     "metadata": {},
     "output_type": "execute_result"
    }
   ],
   "source": [
    "def find_test_stat(tbl, label_col, val_col):\n",
    "    # Calculate the means of the value column for each group in the label column\n",
    "    means = tbl.group(label_col, np.mean).select(label_col, val_col + ' mean')\n",
    "    \n",
    "    # Calculate the difference in means (won = 1 - won = 0)\n",
    "    observed_difference = means.column(val_col + ' mean').item(1) - means.column(val_col + ' mean').item(0)\n",
    "    \n",
    "    return observed_difference\n",
    "\n",
    "# Example usage\n",
    "find_test_stat(bakers, \"won\", \"star baker awards\")\n"
   ]
  },
  {
   "cell_type": "code",
   "execution_count": 15,
   "id": "90dc34bf",
   "metadata": {
    "deletable": false,
    "editable": false
   },
   "outputs": [
    {
     "data": {
      "text/html": [
       "<p><strong><pre style='display: inline;'>q2_7</pre></strong> passed! 🙌</p>"
      ],
      "text/plain": [
       "q2_7 results: All test cases passed!"
      ]
     },
     "execution_count": 15,
     "metadata": {},
     "output_type": "execute_result"
    }
   ],
   "source": [
    "grader.check(\"q2_7\")"
   ]
  },
  {
   "cell_type": "markdown",
   "id": "dacde77c",
   "metadata": {},
   "source": [
    "When we run a simulation for A/B testing, we resample by **shuffling the labels** of the original sample. If the null hypothesis is true and the star baker award distributions are the same, we expect that the difference in mean star baker awards will be not change when `\"won\"` labels are changed."
   ]
  },
  {
   "cell_type": "markdown",
   "id": "3ff2abe3",
   "metadata": {
    "deletable": false,
    "editable": false
   },
   "source": [
    "**Question 2.8.** Write a function `simulate_and_test_statistic` to compute one trial of our A/B test. Your function should run a simulation and return a test statistic.\n",
    "\n",
    "<!--\n",
    "BEGIN QUESTION\n",
    "name: q2_8\n",
    "-->"
   ]
  },
  {
   "cell_type": "code",
   "execution_count": 16,
   "id": "75a34a00",
   "metadata": {
    "execution": {
     "iopub.execute_input": "2022-03-15T03:28:41.521007Z",
     "iopub.status.busy": "2022-03-15T03:28:41.520448Z",
     "iopub.status.idle": "2022-03-15T03:28:41.530797Z",
     "shell.execute_reply": "2022-03-15T03:28:41.530131Z"
    }
   },
   "outputs": [
    {
     "data": {
      "text/plain": [
       "-0.13214285714285712"
      ]
     },
     "execution_count": 16,
     "metadata": {},
     "output_type": "execute_result"
    }
   ],
   "source": [
    "def simulate_and_test_statistic(tbl, labels_col, values_col):\n",
    "    # Shuffle the labels\n",
    "    shuffled_labels = tbl.sample(with_replacement=False).column(labels_col)\n",
    "    \n",
    "    # Create a new table with the shuffled labels\n",
    "    shuffled_tbl = tbl.with_column(labels_col, shuffled_labels)\n",
    "    \n",
    "    # Calculate the test statistic for the shuffled data\n",
    "    test_statistic = find_test_stat(shuffled_tbl, labels_col, values_col)\n",
    "    \n",
    "    return test_statistic\n",
    "\n",
    "# Example usage\n",
    "simulate_and_test_statistic(bakers, \"won\", \"star baker awards\")\n"
   ]
  },
  {
   "cell_type": "code",
   "execution_count": 17,
   "id": "a23b717d",
   "metadata": {
    "deletable": false,
    "editable": false
   },
   "outputs": [
    {
     "data": {
      "text/html": [
       "<p><strong><pre style='display: inline;'>q2_8</pre></strong> passed! 🚀</p>"
      ],
      "text/plain": [
       "q2_8 results: All test cases passed!"
      ]
     },
     "execution_count": 17,
     "metadata": {},
     "output_type": "execute_result"
    }
   ],
   "source": [
    "grader.check(\"q2_8\")"
   ]
  },
  {
   "cell_type": "markdown",
   "id": "74bf2341",
   "metadata": {
    "deletable": false,
    "editable": false
   },
   "source": [
    "**Question 2.9.** Simulate 5000 trials of our A/B test and store the test statistics in an array called `differences`.\n",
    "\n",
    "<!--\n",
    "BEGIN QUESTION\n",
    "name: q2_9\n",
    "-->"
   ]
  },
  {
   "cell_type": "code",
   "execution_count": 18,
   "id": "90cb7d67",
   "metadata": {
    "execution": {
     "iopub.execute_input": "2022-03-15T03:28:41.592972Z",
     "iopub.status.busy": "2022-03-15T03:28:41.592719Z",
     "iopub.status.idle": "2022-03-15T03:28:55.227909Z",
     "shell.execute_reply": "2022-03-15T03:28:55.227200Z"
    }
   },
   "outputs": [
    {
     "data": {
      "text/plain": [
       "array([ 0.08571429, -0.24107143,  0.19464286, ..., -0.45892857,\n",
       "        0.08571429, -0.24107143])"
      ]
     },
     "execution_count": 18,
     "metadata": {},
     "output_type": "execute_result"
    }
   ],
   "source": [
    "# Assuming the necessary libraries are already imported and the bakers table is loaded\n",
    "differences = make_array()\n",
    "\n",
    "# Simulate 5000 trials\n",
    "num_trials = 5000\n",
    "\n",
    "for _ in range(num_trials):\n",
    "    trial_statistic = simulate_and_test_statistic(bakers, \"won\", \"star baker awards\")\n",
    "    differences = np.append(differences, trial_statistic)\n",
    "\n",
    "differences\n"
   ]
  },
  {
   "cell_type": "code",
   "execution_count": 19,
   "id": "0e364f23",
   "metadata": {
    "deletable": false,
    "editable": false
   },
   "outputs": [
    {
     "data": {
      "text/html": [
       "<p><strong><pre style='display: inline;'>q2_9</pre></strong> passed! 🌈</p>"
      ],
      "text/plain": [
       "q2_9 results: All test cases passed!"
      ]
     },
     "execution_count": 19,
     "metadata": {},
     "output_type": "execute_result"
    }
   ],
   "source": [
    "grader.check(\"q2_9\")"
   ]
  },
  {
   "cell_type": "markdown",
   "id": "80ab494e",
   "metadata": {},
   "source": [
    "Run the cell below to view a histogram of your simulated test statistics plotted with your observed test statistic."
   ]
  },
  {
   "cell_type": "code",
   "execution_count": 20,
   "id": "55bcc543",
   "metadata": {
    "execution": {
     "iopub.execute_input": "2022-03-15T03:28:55.253638Z",
     "iopub.status.busy": "2022-03-15T03:28:55.253443Z",
     "iopub.status.idle": "2022-03-15T03:28:55.598229Z",
     "shell.execute_reply": "2022-03-15T03:28:55.597498Z"
    }
   },
   "outputs": [
    {
     "data": {
      "image/png": "[encoded data removed]",
      "text/plain": [
       "<Figure size 600x400 with 1 Axes>"
      ]
     },
     "metadata": {},
     "output_type": "display_data"
    }
   ],
   "source": [
    "Table().with_column('Difference Between Group Means', differences).hist(bins=20)\n",
    "plots.scatter(observed_difference, 0, color='red', s=30, zorder=2)\n",
    "plots.ylim(-0.1, 1.35);"
   ]
  },
  {
   "cell_type": "markdown",
   "id": "7235d889",
   "metadata": {
    "deletable": false,
    "editable": false
   },
   "source": [
    "**Question 2.10.** Find the p-value for your test and assign it to `empirical_p`.\n",
    "\n",
    "<!--\n",
    "BEGIN QUESTION\n",
    "name: q2_10\n",
    "-->"
   ]
  },
  {
   "cell_type": "code",
   "execution_count": 21,
   "id": "c7ec1b83",
   "metadata": {
    "execution": {
     "iopub.execute_input": "2022-03-15T03:28:55.601644Z",
     "iopub.status.busy": "2022-03-15T03:28:55.601122Z",
     "iopub.status.idle": "2022-03-15T03:28:55.606073Z",
     "shell.execute_reply": "2022-03-15T03:28:55.605438Z"
    }
   },
   "outputs": [
    {
     "data": {
      "text/plain": [
       "0.0144"
      ]
     },
     "execution_count": 21,
     "metadata": {},
     "output_type": "execute_result"
    }
   ],
   "source": [
    "empirical_p = np.count_nonzero(differences >= observed_difference) / len(differences)\n",
    "empirical_p"
   ]
  },
  {
   "cell_type": "code",
   "execution_count": 22,
   "id": "9dc13849",
   "metadata": {
    "deletable": false,
    "editable": false
   },
   "outputs": [
    {
     "data": {
      "text/html": [
       "<p><strong><pre style='display: inline;'>q2_10</pre></strong> passed! 🍀</p>"
      ],
      "text/plain": [
       "q2_10 results: All test cases passed!"
      ]
     },
     "execution_count": 22,
     "metadata": {},
     "output_type": "execute_result"
    }
   ],
   "source": [
    "grader.check(\"q2_10\")"
   ]
  },
  {
   "cell_type": "markdown",
   "id": "9560fd15",
   "metadata": {
    "deletable": false,
    "editable": false
   },
   "source": [
    "**Question 2.11.** Using a 5% P-value cutoff, draw a conclusion about the null and alternative hypotheses. Describe your findings using simple, non-technical language. What does your analysis tell you about the association between star baker awards and winning? What can you claim about causation from your statistical analysis? If you are in lab, call a TA over and confirm your answer.\n",
    "\n",
    "<!--\n",
    "BEGIN QUESTION\n",
    "name: q2_10\n",
    "-->"
   ]
  },
  {
   "cell_type": "markdown",
   "id": "a4c5ce3c",
   "metadata": {},
   "source": [
    "If the P-value is less than 0.05, we reject the null hypothesis. This means that there is significant evidence to support the alternative hypothesis, suggesting that contestants who win the season tend to win more Star Baker awards on average.\n",
    "\n",
    "Findings:\n",
    "Association: Our analysis indicates a strong association between winning more Star Baker awards and winning the season. Contestants who frequently win Star Baker are more likely to win the entire season.\n",
    "\n",
    "Causation: While we can say that there's a significant relationship between winning Star Baker awards and winning the season, we cannot definitively claim causation. There might be other factors at play that influence both outcomes, so it's important to acknowledge that correlation does not imply causation.\n",
    "\n",
    "In simple terms, winning Star Baker awards seems to go hand-in-hand with winning the season, but we can't say for sure that winning these awards causes contestants to win the whole season."
   ]
  },
  {
   "cell_type": "markdown",
   "id": "720bccd0",
   "metadata": {
    "deletable": false,
    "editable": false
   },
   "source": [
    "---\n",
    "\n",
    "To double-check your work, the cell below will rerun all of the autograder tests."
   ]
  },
  {
   "cell_type": "code",
   "execution_count": 23,
   "id": "51ae317c",
   "metadata": {
    "deletable": false,
    "editable": false
   },
   "outputs": [
    {
     "data": {
      "text/plain": [
       "q1_1 results: All test cases passed!\n",
       "\n",
       "q2_10 results: All test cases passed!\n",
       "\n",
       "q2_3 results: All test cases passed!\n",
       "\n",
       "q2_6 results: All test cases passed!\n",
       "\n",
       "q2_7 results: All test cases passed!\n",
       "\n",
       "q2_8 results: All test cases passed!\n",
       "\n",
       "q2_9 results: All test cases passed!"
      ]
     },
     "execution_count": 23,
     "metadata": {},
     "output_type": "execute_result"
    }
   ],
   "source": [
    "grader.check_all()"
   ]
  },
  {
   "cell_type": "markdown",
   "id": "0a183c73",
   "metadata": {},
   "source": [
    "## Submission\n",
    "\n",
    "**Important submission information:** \n",
    "\n",
    "- Make sure you have run all cells in your notebook in order before running the cell below, so that all images/graphs appear in the output. \n",
    "- Be sure to run the tests and verify that they all pass.\n",
    "- Then choose **Save** from the **File** menu to save your file.\n",
    "- Then, go to Canvas and submit the file as your solution. (Only the prescribed team member needs to submit.)"
   ]
  },
  {
   "cell_type": "markdown",
   "id": "2531e3ca",
   "metadata": {},
   "source": [
    "Monkey wanted to say congrats on finishing.  Time to play.\n",
    "\n",
    "<img src=\"monkey_playing_scaled_0.15.jpg\" alt=\"relaxing\" width=\"300\"/>"
   ]
  }
 ],
 "metadata": {
  "kernelspec": {
   "display_name": "24fa104",
   "language": "python",
   "name": "python3"
  },
  "language_info": {
   "codemirror_mode": {
    "name": "ipython",
    "version": 3
   },
   "file_extension": ".py",
   "mimetype": "text/x-python",
   "name": "python",
   "nbconvert_exporter": "python",
   "pygments_lexer": "ipython3",
   "version": "3.8.6"
  }
 },
 "nbformat": 4,
 "nbformat_minor": 5
}
