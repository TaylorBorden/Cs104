{
 "cells": [
  {
   "cell_type": "code",
   "execution_count": 1,
   "id": "d194ecf7",
   "metadata": {
    "deletable": false,
    "editable": false
   },
   "outputs": [],
   "source": [
    "# Initialize Otter\n",
    "import otter\n",
    "grader = otter.Notebook(\"hw6-cs104.ipynb\")"
   ]
  },
  {
   "cell_type": "markdown",
   "id": "48af3af1",
   "metadata": {},
   "source": [
    "# Homework 6: Probability, Simulation, Estimation, and Assessing Models\n",
    "\n",
    "Please complete this notebook by filling in the cells provided. Before you begin, execute the previous cell to load the provided tests."
   ]
  },
  {
   "cell_type": "markdown",
   "id": "f00d1dc9",
   "metadata": {},
   "source": [
    "**Helpful Resource:**\n",
    "- [Python Reference](http://data8.org/sp22/python-reference.html)\n",
    "\n",
    "**Recommended Readings**: \n",
    "* [Randomness](https://www.inferentialthinking.com/chapters/09/Randomness.html)\n",
    "* [Sampling and Empirical Distributions](https://www.inferentialthinking.com/chapters/10/Sampling_and_Empirical_Distributions.html)\n",
    "* [Testing Hypotheses](https://www.inferentialthinking.com/chapters/11/Testing_Hypotheses.html)"
   ]
  },
  {
   "cell_type": "markdown",
   "id": "8b23a5b2",
   "metadata": {},
   "source": [
    "\n",
    "\n",
    "\n",
    "Recall that in homework, even though tests may say 100% passed, it doesn't mean your final grade will be 100%.\n",
    "The tests in this homework are quite weak, often just indicating that the answer is the right type or style."
   ]
  },
  {
   "cell_type": "markdown",
   "id": "e5682af6",
   "metadata": {},
   "source": [
    "Execute the following cell to load some modules that you will need."
   ]
  },
  {
   "cell_type": "code",
   "execution_count": 2,
   "id": "f893fa30",
   "metadata": {
    "execution": {
     "iopub.execute_input": "2022-02-27T07:01:08.707564Z",
     "iopub.status.busy": "2022-02-27T07:01:08.706492Z",
     "iopub.status.idle": "2022-02-27T07:01:10.245324Z",
     "shell.execute_reply": "2022-02-27T07:01:10.244675Z"
    }
   },
   "outputs": [],
   "source": [
    "# Run this cell to set up the notebook, but please don't change it.\n",
    "\n",
    "# These lines import the Numpy and Datascience modules.\n",
    "import numpy as np\n",
    "from datascience import *\n",
    "\n",
    "# These lines do some fancy plotting magic.\n",
    "import matplotlib\n",
    "%matplotlib inline\n",
    "import matplotlib.pyplot as plt\n",
    "plt.style.use('fivethirtyeight')\n",
    "import warnings\n",
    "warnings.simplefilter('ignore', FutureWarning)"
   ]
  },
  {
   "cell_type": "markdown",
   "id": "26b7dcc2",
   "metadata": {},
   "source": [
    "## 1. Roulette"
   ]
  },
  {
   "cell_type": "markdown",
   "id": "f7bb4154",
   "metadata": {},
   "source": [
    "A Nevada roulette wheel has 38 pockets and a small ball that rests on the wheel. When the wheel is spun, the ball comes to rest in one of the 38 pockets. That pocket is declared the winner. \n",
    "\n",
    "The pockets are labeled 0, 00, 1, 2, 3, 4, ... , 36. Pockets 0 and 00 are green, and the other pockets are alternately red and black. Below is an example of a roulette wheel!"
   ]
  },
  {
   "cell_type": "markdown",
   "id": "a73fe00f",
   "metadata": {},
   "source": [
    "<img src=\"roulette_wheel.jpeg\" width=\"330px\">"
   ]
  },
  {
   "cell_type": "markdown",
   "id": "19406226",
   "metadata": {},
   "source": [
    "The table `wheel` is a representation of a Nevada roulette wheel. **Note that *both* columns consist of strings.**\n",
    "Run the cell below to load the `wheel` table."
   ]
  },
  {
   "cell_type": "code",
   "execution_count": 3,
   "id": "cca96cf3",
   "metadata": {
    "execution": {
     "iopub.execute_input": "2022-02-27T07:01:10.251261Z",
     "iopub.status.busy": "2022-02-27T07:01:10.250631Z",
     "iopub.status.idle": "2022-02-27T07:01:10.260957Z",
     "shell.execute_reply": "2022-02-27T07:01:10.261439Z"
    }
   },
   "outputs": [
    {
     "data": {
      "text/html": [
       "<table border=\"1\" class=\"dataframe\">\n",
       "    <thead>\n",
       "        <tr>\n",
       "            <th>Pocket</th> <th>Color</th>\n",
       "        </tr>\n",
       "    </thead>\n",
       "    <tbody>\n",
       "        <tr>\n",
       "            <td>00    </td> <td>green</td>\n",
       "        </tr>\n",
       "        <tr>\n",
       "            <td>0     </td> <td>green</td>\n",
       "        </tr>\n",
       "        <tr>\n",
       "            <td>1     </td> <td>red  </td>\n",
       "        </tr>\n",
       "        <tr>\n",
       "            <td>2     </td> <td>black</td>\n",
       "        </tr>\n",
       "        <tr>\n",
       "            <td>3     </td> <td>red  </td>\n",
       "        </tr>\n",
       "        <tr>\n",
       "            <td>4     </td> <td>black</td>\n",
       "        </tr>\n",
       "        <tr>\n",
       "            <td>5     </td> <td>red  </td>\n",
       "        </tr>\n",
       "        <tr>\n",
       "            <td>6     </td> <td>black</td>\n",
       "        </tr>\n",
       "        <tr>\n",
       "            <td>7     </td> <td>red  </td>\n",
       "        </tr>\n",
       "        <tr>\n",
       "            <td>8     </td> <td>black</td>\n",
       "        </tr>\n",
       "    </tbody>\n",
       "</table>\n",
       "<p>... (28 rows omitted)</p>"
      ],
      "text/plain": [
       "Pocket | Color\n",
       "00     | green\n",
       "0      | green\n",
       "1      | red\n",
       "2      | black\n",
       "3      | red\n",
       "4      | black\n",
       "5      | red\n",
       "6      | black\n",
       "7      | red\n",
       "8      | black\n",
       "... (28 rows omitted)"
      ]
     },
     "execution_count": 3,
     "metadata": {},
     "output_type": "execute_result"
    }
   ],
   "source": [
    "wheel = Table.read_table('roulette_wheel.csv', dtype=str)\n",
    "wheel"
   ]
  },
  {
   "cell_type": "markdown",
   "id": "69a9ac0d",
   "metadata": {},
   "source": [
    "### Betting on Red ###\n",
    "If you bet on *red*, you are betting that the winning pocket will be red. This bet *pays 1 to 1*. That means if you place a one-dollar bet on red, then:\n",
    "\n",
    "- If the winning pocket is red, you gain 1 dollar. That is, you get your original dollar back, plus one more dollar.\n",
    "- if the winning pocket is not red, you lose your dollar. In other words, you gain -1 dollars.\n",
    "\n",
    "Let's see if you can make money by betting on red at roulette."
   ]
  },
  {
   "cell_type": "markdown",
   "id": "22b840c7",
   "metadata": {
    "deletable": false,
    "editable": false
   },
   "source": [
    "**Question 1.** Define a function `dollar_bet_on_red` that takes the name of a color and returns your gain in dollars if that color had won and you had placed a one-dollar bet on red. Remember that the gain can be negative. Make sure your function returns an integer. **(4 points)**\n",
    "\n",
    "*Note:* You can assume that the only colors that will be passed as arguments are red, black, and green. Your function doesn't have to check that.\n",
    "\n",
    "<!--\n",
    "BEGIN QUESTION\n",
    "name: q1_1\n",
    "manual: false\n",
    "points:\n",
    " - 2\n",
    " - 2\n",
    "-->"
   ]
  },
  {
   "cell_type": "code",
   "execution_count": 4,
   "id": "64e2c4f7",
   "metadata": {
    "execution": {
     "iopub.execute_input": "2022-02-27T07:01:10.266520Z",
     "iopub.status.busy": "2022-02-27T07:01:10.266026Z",
     "iopub.status.idle": "2022-02-27T07:01:10.268709Z",
     "shell.execute_reply": "2022-02-27T07:01:10.268286Z"
    }
   },
   "outputs": [],
   "source": [
    "def dollar_bet_on_red(color):\n",
    "    if color == \"red\":\n",
    "        return 1\n",
    "    else:\n",
    "        return -1\n"
   ]
  },
  {
   "cell_type": "code",
   "execution_count": 5,
   "id": "e9ce56d6",
   "metadata": {
    "deletable": false,
    "editable": false
   },
   "outputs": [
    {
     "data": {
      "text/html": [
       "<p><strong><pre style='display: inline;'>q1_1</pre></strong> passed! 🚀</p>"
      ],
      "text/plain": [
       "q1_1 results: All test cases passed!"
      ]
     },
     "execution_count": 5,
     "metadata": {},
     "output_type": "execute_result"
    }
   ],
   "source": [
    "grader.check(\"q1_1\")"
   ]
  },
  {
   "cell_type": "markdown",
   "id": "87647df4",
   "metadata": {},
   "source": [
    "Run the cell below to make sure your function is working."
   ]
  },
  {
   "cell_type": "code",
   "execution_count": 6,
   "id": "a8295daa",
   "metadata": {
    "execution": {
     "iopub.execute_input": "2022-02-27T07:01:10.287937Z",
     "iopub.status.busy": "2022-02-27T07:01:10.287457Z",
     "iopub.status.idle": "2022-02-27T07:01:10.289972Z",
     "shell.execute_reply": "2022-02-27T07:01:10.289503Z"
    }
   },
   "outputs": [
    {
     "name": "stdout",
     "output_type": "stream",
     "text": [
      "-1\n",
      "-1\n",
      "1\n"
     ]
    }
   ],
   "source": [
    "print(dollar_bet_on_red('green'))\n",
    "print(dollar_bet_on_red('black'))\n",
    "print(dollar_bet_on_red('red'))"
   ]
  },
  {
   "cell_type": "markdown",
   "id": "a948c0c0",
   "metadata": {
    "deletable": false,
    "editable": false
   },
   "source": [
    "**Question 2.** Add a column labeled `Winnings: Red` to the table `wheel`. For each pocket, the column should contain your gain in dollars if that pocket won and you had bet one dollar on red. Your code should use the function `dollar_bet_on_red`. **(4 points)**\n",
    "\n",
    "<!--\n",
    "BEGIN QUESTION\n",
    "name: q1_2\n",
    "manual: false\n",
    "points:\n",
    " - 0\n",
    " - 4\n",
    "-->"
   ]
  },
  {
   "cell_type": "code",
   "execution_count": 7,
   "id": "31915d07",
   "metadata": {
    "execution": {
     "iopub.execute_input": "2022-02-27T07:01:10.295863Z",
     "iopub.status.busy": "2022-02-27T07:01:10.295377Z",
     "iopub.status.idle": "2022-02-27T07:01:10.298076Z",
     "shell.execute_reply": "2022-02-27T07:01:10.298429Z"
    },
    "scrolled": true
   },
   "outputs": [
    {
     "data": {
      "text/html": [
       "<table border=\"1\" class=\"dataframe\">\n",
       "    <thead>\n",
       "        <tr>\n",
       "            <th>Pocket</th> <th>Color</th> <th>Winnings: Red</th>\n",
       "        </tr>\n",
       "    </thead>\n",
       "    <tbody>\n",
       "        <tr>\n",
       "            <td>00    </td> <td>green</td> <td>-1           </td>\n",
       "        </tr>\n",
       "        <tr>\n",
       "            <td>0     </td> <td>green</td> <td>-1           </td>\n",
       "        </tr>\n",
       "        <tr>\n",
       "            <td>1     </td> <td>red  </td> <td>1            </td>\n",
       "        </tr>\n",
       "        <tr>\n",
       "            <td>2     </td> <td>black</td> <td>-1           </td>\n",
       "        </tr>\n",
       "        <tr>\n",
       "            <td>3     </td> <td>red  </td> <td>1            </td>\n",
       "        </tr>\n",
       "        <tr>\n",
       "            <td>4     </td> <td>black</td> <td>-1           </td>\n",
       "        </tr>\n",
       "        <tr>\n",
       "            <td>5     </td> <td>red  </td> <td>1            </td>\n",
       "        </tr>\n",
       "        <tr>\n",
       "            <td>6     </td> <td>black</td> <td>-1           </td>\n",
       "        </tr>\n",
       "        <tr>\n",
       "            <td>7     </td> <td>red  </td> <td>1            </td>\n",
       "        </tr>\n",
       "        <tr>\n",
       "            <td>8     </td> <td>black</td> <td>-1           </td>\n",
       "        </tr>\n",
       "    </tbody>\n",
       "</table>\n",
       "<p>... (28 rows omitted)</p>"
      ],
      "text/plain": [
       "Pocket | Color | Winnings: Red\n",
       "00     | green | -1\n",
       "0      | green | -1\n",
       "1      | red   | 1\n",
       "2      | black | -1\n",
       "3      | red   | 1\n",
       "4      | black | -1\n",
       "5      | red   | 1\n",
       "6      | black | -1\n",
       "7      | red   | 1\n",
       "8      | black | -1\n",
       "... (28 rows omitted)"
      ]
     },
     "execution_count": 7,
     "metadata": {},
     "output_type": "execute_result"
    }
   ],
   "source": [
    "red_winnings = wheel.apply(dollar_bet_on_red, 'Color')\n",
    "wheel = wheel.with_column('Winnings: Red', red_winnings)\n",
    "wheel"
   ]
  },
  {
   "cell_type": "code",
   "execution_count": 8,
   "id": "e6da4bcc",
   "metadata": {
    "deletable": false,
    "editable": false
   },
   "outputs": [
    {
     "data": {
      "text/html": [
       "<p><strong><pre style='display: inline;'>q1_2</pre></strong> passed! 🙌</p>"
      ],
      "text/plain": [
       "q1_2 results: All test cases passed!"
      ]
     },
     "execution_count": 8,
     "metadata": {},
     "output_type": "execute_result"
    }
   ],
   "source": [
    "grader.check(\"q1_2\")"
   ]
  },
  {
   "cell_type": "markdown",
   "id": "31cb1116",
   "metadata": {
    "deletable": false,
    "editable": false
   },
   "source": [
    "### Simulating 10 Bets on Red\n",
    "Roulette wheels are set up so that each time they are spun, the winning pocket is equally likely to be any of the 38 pockets regardless of the results of all other spins. Let's see what would happen if we decided to bet one dollar on red each round.\n",
    "\n",
    "**Question 3.** Create a table `ten_bets` by sampling the table `wheel` to simulate 10 spins of the roulette wheel. Your table should have the same three column labels as in `wheel`. Once you've created that table, set `sum_bets` to your net gain in all 10 bets, assuming that you bet one dollar on red each time. **(4 points)**\n",
    "\n",
    "*Hint:* It may be helpful to print out `ten_bets` after you create it!\n",
    "\n",
    "<!--\n",
    "BEGIN QUESTION\n",
    "name: q1_3\n",
    "manual: false\n",
    "points:\n",
    " - 0\n",
    " - 4\n",
    "-->"
   ]
  },
  {
   "cell_type": "code",
   "execution_count": 9,
   "id": "3606c851",
   "metadata": {
    "execution": {
     "iopub.execute_input": "2022-02-27T07:01:10.317383Z",
     "iopub.status.busy": "2022-02-27T07:01:10.314765Z",
     "iopub.status.idle": "2022-02-27T07:01:10.319998Z",
     "shell.execute_reply": "2022-02-27T07:01:10.320357Z"
    }
   },
   "outputs": [
    {
     "data": {
      "text/plain": [
       "(Pocket | Color | Winnings: Red\n",
       " 10     | black | -1\n",
       " 1      | red   | 1\n",
       " 32     | red   | 1\n",
       " 31     | black | -1\n",
       " 5      | red   | 1\n",
       " 35     | black | -1\n",
       " 4      | black | -1\n",
       " 35     | black | -1\n",
       " 23     | red   | 1\n",
       " 10     | black | -1,\n",
       " -2)"
      ]
     },
     "execution_count": 9,
     "metadata": {},
     "output_type": "execute_result"
    }
   ],
   "source": [
    "# Simulate 10 spins by sampling 10 rows from the wheel table\n",
    "ten_bets = wheel.sample(10)\n",
    "\n",
    "# Calculate the total winnings by summing the \"Winnings: Red\" column\n",
    "sum_bets = sum(ten_bets.column('Winnings: Red'))\n",
    "\n",
    "# Display the table and net gain\n",
    "ten_bets, sum_bets\n"
   ]
  },
  {
   "cell_type": "code",
   "execution_count": 10,
   "id": "fd8d8519",
   "metadata": {
    "deletable": false,
    "editable": false
   },
   "outputs": [
    {
     "data": {
      "text/html": [
       "<p><strong><pre style='display: inline;'>q1_3</pre></strong> passed! 💯</p>"
      ],
      "text/plain": [
       "q1_3 results: All test cases passed!"
      ]
     },
     "execution_count": 10,
     "metadata": {},
     "output_type": "execute_result"
    }
   ],
   "source": [
    "grader.check(\"q1_3\")"
   ]
  },
  {
   "cell_type": "markdown",
   "id": "306384f6",
   "metadata": {},
   "source": [
    "Run the cells above a few times to see how much money you would make if you made 10 one-dollar bets on red. Making a negative amount of money doesn't feel good, but it is a reality in gambling. Casinos are a business, and they make money when gamblers lose."
   ]
  },
  {
   "cell_type": "markdown",
   "id": "f04b2c74",
   "metadata": {
    "deletable": false,
    "editable": false
   },
   "source": [
    "**Question 4.** Let's see what would happen if you made more bets. Define a function `net_gain_red` that takes the number of bets and returns the net gain in that number of one-dollar bets on red. **(4 points)**\n",
    "\n",
    "*Hint:* You should use your `wheel` table within your function.\n",
    "\n",
    "<!--\n",
    "BEGIN QUESTION\n",
    "name: q1_4\n",
    "manual: false\n",
    "points:\n",
    " - 0\n",
    " - 4\n",
    "-->"
   ]
  },
  {
   "cell_type": "code",
   "execution_count": 11,
   "id": "1438d2ac",
   "metadata": {
    "execution": {
     "iopub.execute_input": "2022-02-27T07:01:10.339738Z",
     "iopub.status.busy": "2022-02-27T07:01:10.339230Z",
     "iopub.status.idle": "2022-02-27T07:01:10.341526Z",
     "shell.execute_reply": "2022-02-27T07:01:10.341924Z"
    }
   },
   "outputs": [],
   "source": [
    "def net_gain_red(num_bets):\n",
    "    # Sample the specified number of bets from the wheel table\n",
    "    bets = wheel.sample(num_bets)\n",
    "    \n",
    "    # Calculate the net gain by summing the \"Winnings: Red\" column\n",
    "    net_gain = sum(bets.column('Winnings: Red'))\n",
    "    \n",
    "    return net_gain\n"
   ]
  },
  {
   "cell_type": "code",
   "execution_count": 12,
   "id": "9479538d",
   "metadata": {
    "deletable": false,
    "editable": false
   },
   "outputs": [
    {
     "data": {
      "text/html": [
       "<p><strong><pre style='display: inline;'>q1_4</pre></strong> passed! 🌟</p>"
      ],
      "text/plain": [
       "q1_4 results: All test cases passed!"
      ]
     },
     "execution_count": 12,
     "metadata": {},
     "output_type": "execute_result"
    }
   ],
   "source": [
    "grader.check(\"q1_4\")"
   ]
  },
  {
   "cell_type": "markdown",
   "id": "6e589275",
   "metadata": {},
   "source": [
    "Run the cell below a few times to make sure that the results are similar to those you observed in the previous exercise."
   ]
  },
  {
   "cell_type": "code",
   "execution_count": 13,
   "id": "99f4a2b2",
   "metadata": {
    "execution": {
     "iopub.execute_input": "2022-02-27T07:01:10.467435Z",
     "iopub.status.busy": "2022-02-27T07:01:10.466912Z",
     "iopub.status.idle": "2022-02-27T07:01:10.469903Z",
     "shell.execute_reply": "2022-02-27T07:01:10.469502Z"
    }
   },
   "outputs": [
    {
     "data": {
      "text/plain": [
       "-2"
      ]
     },
     "execution_count": 13,
     "metadata": {},
     "output_type": "execute_result"
    }
   ],
   "source": [
    "net_gain_red(10)"
   ]
  },
  {
   "cell_type": "markdown",
   "id": "201aa845",
   "metadata": {
    "deletable": false,
    "editable": false
   },
   "source": [
    "**Question 5.** Complete the cell below to simulate the net gain in 200 one-dollar bets on red, repeating the process 10,000 times. After the cell is run, `all_gains_red` should be an array with 10,000 entries, each of which is the net gain in 200 one-dollar bets on red. **(4 points)**\n",
    "\n",
    "*Hint:* Think about which computational tool might be helpful for simulating a process multiple times. Lab 5 might be a good resource to look at!\n",
    "\n",
    "*Note:* This cell might take a few seconds to run.\n",
    "\n",
    "<!--\n",
    "BEGIN QUESTION\n",
    "name: q1_5\n",
    "manual: false\n",
    "points:\n",
    " - 0\n",
    " - 4\n",
    "-->"
   ]
  },
  {
   "cell_type": "code",
   "execution_count": 14,
   "id": "20345955",
   "metadata": {
    "execution": {
     "iopub.execute_input": "2022-02-27T07:01:10.482677Z",
     "iopub.status.busy": "2022-02-27T07:01:10.481816Z",
     "iopub.status.idle": "2022-02-27T07:01:14.645566Z",
     "shell.execute_reply": "2022-02-27T07:01:14.645024Z"
    }
   },
   "outputs": [
    {
     "data": {
      "text/plain": [
       "10000"
      ]
     },
     "execution_count": 14,
     "metadata": {},
     "output_type": "execute_result"
    }
   ],
   "source": [
    "num_bets = 200\n",
    "repetitions = 10000\n",
    "\n",
    "all_gains_red = np.array([net_gain_red(num_bets) for _ in range(repetitions)])\n",
    "...\n",
    "\n",
    "len(all_gains_red) # Do not change this line! Check that all_gains_red is length 10000."
   ]
  },
  {
   "cell_type": "code",
   "execution_count": 15,
   "id": "f1f1f00f",
   "metadata": {
    "deletable": false,
    "editable": false
   },
   "outputs": [
    {
     "data": {
      "text/html": [
       "<p><strong><pre style='display: inline;'>q1_5</pre></strong> passed! 🚀</p>"
      ],
      "text/plain": [
       "q1_5 results: All test cases passed!"
      ]
     },
     "execution_count": 15,
     "metadata": {},
     "output_type": "execute_result"
    }
   ],
   "source": [
    "grader.check(\"q1_5\")"
   ]
  },
  {
   "cell_type": "markdown",
   "id": "faea883b",
   "metadata": {},
   "source": [
    "Run the cell below to visualize the results of your simulation."
   ]
  },
  {
   "cell_type": "code",
   "execution_count": 16,
   "id": "a3e05c4c",
   "metadata": {
    "execution": {
     "iopub.execute_input": "2022-02-27T07:01:14.700790Z",
     "iopub.status.busy": "2022-02-27T07:01:14.700123Z",
     "iopub.status.idle": "2022-02-27T07:01:15.007968Z",
     "shell.execute_reply": "2022-02-27T07:01:15.007403Z"
    }
   },
   "outputs": [
    {
     "data": {
      "image/png": "[encoded data removed]",
      "text/plain": [
       "<Figure size 600x400 with 1 Axes>"
      ]
     },
     "metadata": {},
     "output_type": "display_data"
    }
   ],
   "source": [
    "gains = Table().with_columns('Net Gain on Red', all_gains_red)\n",
    "gains.hist(bins = np.arange(-80, 41, 4))"
   ]
  },
  {
   "cell_type": "markdown",
   "id": "372db885",
   "metadata": {
    "deletable": false,
    "editable": false
   },
   "source": [
    "**Question 6:** Using the histogram above, decide whether the following statement is true or false:\n",
    "\n",
    ">If you make 200 one-dollar bets on red, your chance of losing money is more than 50%.\n",
    "\n",
    "Assign `loss_more_than_50` to either `True` or `False` depending on your answer to the question. **(4 points)**\n",
    "\n",
    "<!--\n",
    "BEGIN QUESTION\n",
    "name: q1_6\n",
    "manual: false\n",
    "points:\n",
    " - 0\n",
    " - 4\n",
    "-->"
   ]
  },
  {
   "cell_type": "code",
   "execution_count": 17,
   "id": "21ec8247",
   "metadata": {
    "execution": {
     "iopub.execute_input": "2022-02-27T07:01:15.012354Z",
     "iopub.status.busy": "2022-02-27T07:01:15.011807Z",
     "iopub.status.idle": "2022-02-27T07:01:15.014415Z",
     "shell.execute_reply": "2022-02-27T07:01:15.013865Z"
    }
   },
   "outputs": [],
   "source": [
    "loss_more_than_50 = True"
   ]
  },
  {
   "cell_type": "code",
   "execution_count": 18,
   "id": "dbbdc099",
   "metadata": {
    "deletable": false,
    "editable": false
   },
   "outputs": [
    {
     "data": {
      "text/html": [
       "<p><strong><pre style='display: inline;'>q1_6</pre></strong> passed! 🎉</p>"
      ],
      "text/plain": [
       "q1_6 results: All test cases passed!"
      ]
     },
     "execution_count": 18,
     "metadata": {},
     "output_type": "execute_result"
    }
   ],
   "source": [
    "grader.check(\"q1_6\")"
   ]
  },
  {
   "cell_type": "markdown",
   "id": "f379de29",
   "metadata": {
    "deletable": false,
    "editable": false
   },
   "source": [
    "### Betting on a Split ###\n",
    "If betting on red doesn't seem like a good idea, maybe a gambler might want to try a different bet. A bet on a *split* is a bet on two consecutive numbers such as 5 and 6. This bets pays 17 to 1. That means if you place a one-dollar bet on the split 5 and 6, then:\n",
    "\n",
    "- If the winning pocket is either 5 or 6, your gain is 17 dollars.\n",
    "- If any other pocket wins, you lose your dollar, so your gain is -1 dollars.\n",
    "\n",
    "**Question 7.** Define a function `dollar_bet_on_split` that takes a pocket number and returns your gain in dollars if that pocket won and you had bet one dollar on the 5-6 split. **(4 points)**\n",
    "\n",
    "*Hint:* Remember that the pockets are represented as strings.\n",
    "\n",
    "<!--\n",
    "BEGIN QUESTION\n",
    "name: q1_7\n",
    "manual: false\n",
    "points:\n",
    " - 2\n",
    " - 1\n",
    " - 1\n",
    "-->"
   ]
  },
  {
   "cell_type": "code",
   "execution_count": 19,
   "id": "7724d560",
   "metadata": {
    "execution": {
     "iopub.execute_input": "2022-02-27T07:01:15.034590Z",
     "iopub.status.busy": "2022-02-27T07:01:15.034089Z",
     "iopub.status.idle": "2022-02-27T07:01:15.036129Z",
     "shell.execute_reply": "2022-02-27T07:01:15.036546Z"
    }
   },
   "outputs": [],
   "source": [
    "def dollar_bet_on_split(pocket):\n",
    "    if pocket == \"5\" or pocket == \"6\":\n",
    "        return 17\n",
    "    else:\n",
    "        return -1\n"
   ]
  },
  {
   "cell_type": "code",
   "execution_count": 20,
   "id": "573a7588",
   "metadata": {
    "deletable": false,
    "editable": false
   },
   "outputs": [
    {
     "data": {
      "text/html": [
       "<p><strong><pre style='display: inline;'>q1_7</pre></strong> passed! 💯</p>"
      ],
      "text/plain": [
       "q1_7 results: All test cases passed!"
      ]
     },
     "execution_count": 20,
     "metadata": {},
     "output_type": "execute_result"
    }
   ],
   "source": [
    "grader.check(\"q1_7\")"
   ]
  },
  {
   "cell_type": "markdown",
   "id": "dc759ca0",
   "metadata": {},
   "source": [
    "Run the cell below to check that your function is doing what it should."
   ]
  },
  {
   "cell_type": "code",
   "execution_count": 21,
   "id": "1d76bda4",
   "metadata": {
    "execution": {
     "iopub.execute_input": "2022-02-27T07:01:15.084432Z",
     "iopub.status.busy": "2022-02-27T07:01:15.083831Z",
     "iopub.status.idle": "2022-02-27T07:01:15.086660Z",
     "shell.execute_reply": "2022-02-27T07:01:15.086271Z"
    },
    "scrolled": true
   },
   "outputs": [
    {
     "name": "stdout",
     "output_type": "stream",
     "text": [
      "17\n",
      "17\n",
      "-1\n",
      "-1\n"
     ]
    }
   ],
   "source": [
    "print(dollar_bet_on_split('5'))\n",
    "print(dollar_bet_on_split('6'))\n",
    "print(dollar_bet_on_split('00'))\n",
    "print(dollar_bet_on_split('23'))"
   ]
  },
  {
   "cell_type": "markdown",
   "id": "60cbef0b",
   "metadata": {
    "deletable": false,
    "editable": false
   },
   "source": [
    "**Question 8.** Add a column `Winnings: Split` to the `wheel` table. For each pocket, the column should contain your gain in dollars if that pocket won and you had bet one dollar on the 5-6 split. **(4 points)**\n",
    "\n",
    "<!--\n",
    "BEGIN QUESTION\n",
    "name: q1_8\n",
    "manual: false\n",
    "points:\n",
    " - 0\n",
    " - 4\n",
    "-->"
   ]
  },
  {
   "cell_type": "code",
   "execution_count": 22,
   "id": "36f9299d",
   "metadata": {
    "execution": {
     "iopub.execute_input": "2022-02-27T07:01:15.092146Z",
     "iopub.status.busy": "2022-02-27T07:01:15.091578Z",
     "iopub.status.idle": "2022-02-27T07:01:15.096137Z",
     "shell.execute_reply": "2022-02-27T07:01:15.095659Z"
    },
    "scrolled": true
   },
   "outputs": [
    {
     "data": {
      "text/html": [
       "<table border=\"1\" class=\"dataframe\">\n",
       "    <thead>\n",
       "        <tr>\n",
       "            <th>Pocket</th> <th>Color</th> <th>Winnings: Red</th> <th>Winnings: Split</th>\n",
       "        </tr>\n",
       "    </thead>\n",
       "    <tbody>\n",
       "        <tr>\n",
       "            <td>00    </td> <td>green</td> <td>-1           </td> <td>-1             </td>\n",
       "        </tr>\n",
       "        <tr>\n",
       "            <td>0     </td> <td>green</td> <td>-1           </td> <td>-1             </td>\n",
       "        </tr>\n",
       "        <tr>\n",
       "            <td>1     </td> <td>red  </td> <td>1            </td> <td>-1             </td>\n",
       "        </tr>\n",
       "        <tr>\n",
       "            <td>2     </td> <td>black</td> <td>-1           </td> <td>-1             </td>\n",
       "        </tr>\n",
       "        <tr>\n",
       "            <td>3     </td> <td>red  </td> <td>1            </td> <td>-1             </td>\n",
       "        </tr>\n",
       "    </tbody>\n",
       "</table>\n",
       "<p>... (33 rows omitted)</p>"
      ],
      "text/plain": [
       "<IPython.core.display.HTML object>"
      ]
     },
     "metadata": {},
     "output_type": "display_data"
    }
   ],
   "source": [
    "split_winnings = wheel.apply(dollar_bet_on_split, 'Pocket')\n",
    "wheel = wheel.with_column('Winnings: Split', split_winnings)\n",
    "wheel.show(5) # Do not change this line."
   ]
  },
  {
   "cell_type": "code",
   "execution_count": 23,
   "id": "3f3172ae",
   "metadata": {
    "deletable": false,
    "editable": false
   },
   "outputs": [
    {
     "data": {
      "text/html": [
       "<p><strong><pre style='display: inline;'>q1_8</pre></strong> passed! 🎉</p>"
      ],
      "text/plain": [
       "q1_8 results: All test cases passed!"
      ]
     },
     "execution_count": 23,
     "metadata": {},
     "output_type": "execute_result"
    }
   ],
   "source": [
    "grader.check(\"q1_8\")"
   ]
  },
  {
   "cell_type": "markdown",
   "id": "9224c5c1",
   "metadata": {
    "deletable": false,
    "editable": false
   },
   "source": [
    "**Question 9.** Simulate the net gain in 200 one-dollar bets on the 5-6 split, repeating the process 10,000 times and saving your gains in the array `all_gains_split`. **(4 points)**\n",
    "\n",
    "*Hint:* Your code in Questions 4 and 5 may be helpful here!\n",
    "\n",
    "<!--\n",
    "BEGIN QUESTION\n",
    "name: q1_9\n",
    "manual: false\n",
    "points:\n",
    " - 0\n",
    " - 4\n",
    "-->"
   ]
  },
  {
   "cell_type": "code",
   "execution_count": 24,
   "id": "f887b6a4",
   "metadata": {
    "execution": {
     "iopub.execute_input": "2022-02-27T07:01:15.122928Z",
     "iopub.status.busy": "2022-02-27T07:01:15.120246Z",
     "iopub.status.idle": "2022-02-27T07:01:20.885279Z",
     "shell.execute_reply": "2022-02-27T07:01:20.885661Z"
    },
    "scrolled": true
   },
   "outputs": [
    {
     "data": {
      "image/png": "[encoded data removed]",
      "text/plain": [
       "<Figure size 600x400 with 1 Axes>"
      ]
     },
     "metadata": {},
     "output_type": "display_data"
    }
   ],
   "source": [
    "\n",
    "# Define the number of bets per simulation and the number of repetitions\n",
    "num_bets = 200\n",
    "repetitions = 10000\n",
    "\n",
    "# Define a function to simulate 200 bets on the 5-6 split\n",
    "def net_gain_split(num_bets):\n",
    "    bets = wheel.sample(num_bets)\n",
    "    return sum(bets.column('Winnings: Split'))\n",
    "\n",
    "# Use a list comprehension to repeat the simulation 10,000 times\n",
    "all_gains_split = np.array([net_gain_split(num_bets) for _ in range(repetitions)])\n",
    "\n",
    "# Do not change the two lines below\n",
    "gains = gains.with_columns('Net Gain on Split', all_gains_split)\n",
    "gains.hist(bins = np.arange(-200, 150, 20))"
   ]
  },
  {
   "cell_type": "code",
   "execution_count": 25,
   "id": "66ccb438",
   "metadata": {
    "deletable": false,
    "editable": false
   },
   "outputs": [
    {
     "data": {
      "text/html": [
       "<p><strong><pre style='display: inline;'>q1_9</pre></strong> passed! 🍀</p>"
      ],
      "text/plain": [
       "q1_9 results: All test cases passed!"
      ]
     },
     "execution_count": 25,
     "metadata": {},
     "output_type": "execute_result"
    }
   ],
   "source": [
    "grader.check(\"q1_9\")"
   ]
  },
  {
   "cell_type": "markdown",
   "id": "569f399a",
   "metadata": {
    "deletable": false,
    "editable": false
   },
   "source": [
    "**Question 10.** Look carefully at the visualization above, and assign `histogram_statements` to an array of the numbers of each statement below that can be correctly inferred from the overlaid histogram. **(4 points)**\n",
    "\n",
    "1. If you bet one dollar 200 times on a split, your chance of losing money is more than 50%.\n",
    "2. If you bet one dollar 200 times in roulette, your chance of making more than 50 dollars is greater if you bet on a split each time than if you bet on red each time.\n",
    "3. If you bet one dollar 200 times in roulette, your chance of losing more than 50 dollars is greater if you bet on a split each time than if you bet on red each time.\n",
    "\n",
    "*Hint:* We've already seen one of these statements in a prior question.\n",
    "\n",
    "<!--\n",
    "BEGIN QUESTION\n",
    "name: q1_10\n",
    "manual: false\n",
    "points:\n",
    " - 0\n",
    " - 0\n",
    " - 4\n",
    "-->"
   ]
  },
  {
   "cell_type": "code",
   "execution_count": 26,
   "id": "d7a0cdc4",
   "metadata": {
    "execution": {
     "iopub.execute_input": "2022-02-27T07:01:20.906442Z",
     "iopub.status.busy": "2022-02-27T07:01:20.904915Z",
     "iopub.status.idle": "2022-02-27T07:01:20.908692Z",
     "shell.execute_reply": "2022-02-27T07:01:20.908299Z"
    }
   },
   "outputs": [],
   "source": [
    "histogram_statements = np.array([1, 2, 3])"
   ]
  },
  {
   "cell_type": "code",
   "execution_count": 27,
   "id": "863449da",
   "metadata": {
    "deletable": false,
    "editable": false
   },
   "outputs": [
    {
     "data": {
      "text/html": [
       "<p><strong><pre style='display: inline;'>q1_10</pre></strong> passed! 🍀</p>"
      ],
      "text/plain": [
       "q1_10 results: All test cases passed!"
      ]
     },
     "execution_count": 27,
     "metadata": {},
     "output_type": "execute_result"
    }
   ],
   "source": [
    "grader.check(\"q1_10\")"
   ]
  },
  {
   "cell_type": "markdown",
   "id": "962e4c03",
   "metadata": {},
   "source": [
    "If this exercise has put you off playing roulette, it has done its job. If you are still curious about other bets, [here](https://en.wikipedia.org/wiki/Roulette#Bet_odds_table) they all are, and [here](https://en.wikipedia.org/wiki/Roulette#House_edge) is the bad news. The house – that is, the casino – always has an edge over the gambler."
   ]
  },
  {
   "cell_type": "markdown",
   "id": "ce0e1f7e",
   "metadata": {},
   "source": [
    "## 2. Chances"
   ]
  },
  {
   "cell_type": "markdown",
   "id": "5ba3a49d",
   "metadata": {},
   "source": [
    "Before you do this exercise, make sure you understand the logic behind all the examples in [Section 9.5](https://inferentialthinking.com/chapters/09/5/Finding_Probabilities.html). \n",
    "\n",
    "Good ways to approach probability calculations include:\n",
    "\n",
    "- Thinking one trial at a time: What does the first one have to be? Then what does the next one have to be?\n",
    "- Breaking up the event into distinct ways in which it can happen.\n",
    "- Seeing if it is easier to find the chance that the event does not happen."
   ]
  },
  {
   "cell_type": "markdown",
   "id": "aca2ff89",
   "metadata": {},
   "source": [
    "### Finding Chances\n",
    "\n",
    "On each spin of a roulette wheel, all 38 pockets are equally likely to be the winner regardless of the results of other spins. Among the 38 pockets, 18 are red, 18 black, and 2 green. In each part below, write an expression that evaluates to the chance of the event described."
   ]
  },
  {
   "cell_type": "markdown",
   "id": "07d4e448",
   "metadata": {
    "deletable": false,
    "editable": false
   },
   "source": [
    "**Question 1.** The winning pocket is black on all of the first three spins. **(4 points)**\n",
    "\n",
    "<!--\n",
    "BEGIN QUESTION\n",
    "name: q2_1\n",
    "manual: false\n",
    "points:\n",
    " - 0\n",
    " - 4\n",
    "-->"
   ]
  },
  {
   "cell_type": "code",
   "execution_count": 28,
   "id": "41e12169",
   "metadata": {
    "execution": {
     "iopub.execute_input": "2022-02-27T07:01:20.937159Z",
     "iopub.status.busy": "2022-02-27T07:01:20.936576Z",
     "iopub.status.idle": "2022-02-27T07:01:20.938631Z",
     "shell.execute_reply": "2022-02-27T07:01:20.939061Z"
    }
   },
   "outputs": [],
   "source": [
    "first_three_black = (18 / 38) ** 3"
   ]
  },
  {
   "cell_type": "code",
   "execution_count": 29,
   "id": "9cb11a59",
   "metadata": {
    "deletable": false,
    "editable": false
   },
   "outputs": [
    {
     "data": {
      "text/html": [
       "<p><strong><pre style='display: inline;'>q2_1</pre></strong> passed! 🌈</p>"
      ],
      "text/plain": [
       "q2_1 results: All test cases passed!"
      ]
     },
     "execution_count": 29,
     "metadata": {},
     "output_type": "execute_result"
    }
   ],
   "source": [
    "grader.check(\"q2_1\")"
   ]
  },
  {
   "cell_type": "markdown",
   "id": "cceb0477",
   "metadata": {
    "deletable": false,
    "editable": false
   },
   "source": [
    "**Question 2.** The color green never wins in the first 10 spins. **(4 points)**\n",
    "\n",
    "<!--\n",
    "BEGIN QUESTION\n",
    "name: q2_2\n",
    "manual: false\n",
    "points:\n",
    " - 0\n",
    " - 4\n",
    "-->"
   ]
  },
  {
   "cell_type": "code",
   "execution_count": 30,
   "id": "45d0df97",
   "metadata": {
    "execution": {
     "iopub.execute_input": "2022-02-27T07:01:20.989412Z",
     "iopub.status.busy": "2022-02-27T07:01:20.988918Z",
     "iopub.status.idle": "2022-02-27T07:01:20.991252Z",
     "shell.execute_reply": "2022-02-27T07:01:20.990857Z"
    }
   },
   "outputs": [],
   "source": [
    "no_green = (36 / 38) ** 10"
   ]
  },
  {
   "cell_type": "code",
   "execution_count": 31,
   "id": "fd4153c5",
   "metadata": {
    "deletable": false,
    "editable": false
   },
   "outputs": [
    {
     "data": {
      "text/html": [
       "<p><strong><pre style='display: inline;'>q2_2</pre></strong> passed! 🎉</p>"
      ],
      "text/plain": [
       "q2_2 results: All test cases passed!"
      ]
     },
     "execution_count": 31,
     "metadata": {},
     "output_type": "execute_result"
    }
   ],
   "source": [
    "grader.check(\"q2_2\")"
   ]
  },
  {
   "cell_type": "markdown",
   "id": "a5645f19",
   "metadata": {
    "deletable": false,
    "editable": false
   },
   "source": [
    "**Question 3.** The color green wins at least once on the first 10 spins. **(4 points)**\n",
    "\n",
    "<!--\n",
    "BEGIN QUESTION\n",
    "name: q2_3\n",
    "manual: false\n",
    "points:\n",
    " - 0\n",
    " - 4\n",
    "-->"
   ]
  },
  {
   "cell_type": "code",
   "execution_count": 32,
   "id": "9c790121",
   "metadata": {
    "execution": {
     "iopub.execute_input": "2022-02-27T07:01:21.010085Z",
     "iopub.status.busy": "2022-02-27T07:01:21.009592Z",
     "iopub.status.idle": "2022-02-27T07:01:21.012033Z",
     "shell.execute_reply": "2022-02-27T07:01:21.011548Z"
    }
   },
   "outputs": [],
   "source": [
    "at_least_one_green = 1 - (36 / 38) ** 10"
   ]
  },
  {
   "cell_type": "code",
   "execution_count": 33,
   "id": "810255ea",
   "metadata": {
    "deletable": false,
    "editable": false
   },
   "outputs": [
    {
     "data": {
      "text/html": [
       "<p><strong><pre style='display: inline;'>q2_3</pre></strong> passed! 🌟</p>"
      ],
      "text/plain": [
       "q2_3 results: All test cases passed!"
      ]
     },
     "execution_count": 33,
     "metadata": {},
     "output_type": "execute_result"
    }
   ],
   "source": [
    "grader.check(\"q2_3\")"
   ]
  },
  {
   "cell_type": "markdown",
   "id": "6f7e0907",
   "metadata": {
    "deletable": false,
    "editable": false
   },
   "source": [
    "**Question 4.** Two of the three colors never win in the first 10 spins. **(4 points)**\n",
    "\n",
    "*Hint:* Imagine the event with the colors red, yellow, and orange. What situation(s) lead to two of the three colors never winning in the first 10 spins?\n",
    "\n",
    "<!--\n",
    "BEGIN QUESTION\n",
    "name: q2_4\n",
    "manual: false\n",
    "points:\n",
    " - 0\n",
    " - 4\n",
    "-->"
   ]
  },
  {
   "cell_type": "code",
   "execution_count": 34,
   "id": "ec8ff029",
   "metadata": {
    "execution": {
     "iopub.execute_input": "2022-02-27T07:01:21.032040Z",
     "iopub.status.busy": "2022-02-27T07:01:21.031350Z",
     "iopub.status.idle": "2022-02-27T07:01:21.034478Z",
     "shell.execute_reply": "2022-02-27T07:01:21.033937Z"
    }
   },
   "outputs": [],
   "source": [
    "lone_winners = (18 / 38) ** 10 + (18 / 38) ** 10 + (2 / 38) ** 10\n"
   ]
  },
  {
   "cell_type": "code",
   "execution_count": 35,
   "id": "0fdca47d",
   "metadata": {
    "deletable": false,
    "editable": false
   },
   "outputs": [
    {
     "data": {
      "text/html": [
       "<p><strong><pre style='display: inline;'>q2_4</pre></strong> passed! 💯</p>"
      ],
      "text/plain": [
       "q2_4 results: All test cases passed!"
      ]
     },
     "execution_count": 35,
     "metadata": {},
     "output_type": "execute_result"
    }
   ],
   "source": [
    "grader.check(\"q2_4\")"
   ]
  },
  {
   "cell_type": "markdown",
   "id": "efb8ac23",
   "metadata": {},
   "source": [
    "### Comparing Chances\n",
    "In each of Questions 5-7, two events A and B are described. Choose from one of the following three options and set each answer variable to a single integer:\n",
    "\n",
    "1. Event A is more likely than Event B\n",
    "2. Event B is more likely than Event A\n",
    "3. The two events have the same chance.\n",
    "\n",
    "You should be able to make the choices **without calculation**. Good ways to approach this exercise include imagining carrying out the chance experiments yourself, one trial at a time, and by thinking about the [law of averages](https://inferentialthinking.com/chapters/10/1/Empirical_Distributions.html#the-law-of-averages)."
   ]
  },
  {
   "cell_type": "markdown",
   "id": "1a8b88c9",
   "metadata": {
    "deletable": false,
    "editable": false
   },
   "source": [
    "**Question 5.** A child picks four times at random from a box that has four toy animals: a bear, an elephant, a giraffe, and a kangaroo. **(4 points)**\n",
    "\n",
    "- Event A: all four different animals are picked (assuming the child picks without replacement)\n",
    "- Event B: all four different animals are picked (assuming the child picks with replacement)\n",
    "\n",
    "<!--\n",
    "BEGIN QUESTION\n",
    "name: q2_5\n",
    "manual: false\n",
    "points:\n",
    " - 0\n",
    " - 0\n",
    " - 4\n",
    "-->"
   ]
  },
  {
   "cell_type": "code",
   "execution_count": 36,
   "id": "5daed818",
   "metadata": {
    "execution": {
     "iopub.execute_input": "2022-02-27T07:01:21.087599Z",
     "iopub.status.busy": "2022-02-27T07:01:21.086494Z",
     "iopub.status.idle": "2022-02-27T07:01:21.089816Z",
     "shell.execute_reply": "2022-02-27T07:01:21.090229Z"
    }
   },
   "outputs": [],
   "source": [
    "toys_option = 1"
   ]
  },
  {
   "cell_type": "code",
   "execution_count": 37,
   "id": "49e80550",
   "metadata": {
    "deletable": false,
    "editable": false
   },
   "outputs": [
    {
     "data": {
      "text/html": [
       "<p><strong><pre style='display: inline;'>q2_5</pre></strong> passed! 🌟</p>"
      ],
      "text/plain": [
       "q2_5 results: All test cases passed!"
      ]
     },
     "execution_count": 37,
     "metadata": {},
     "output_type": "execute_result"
    }
   ],
   "source": [
    "grader.check(\"q2_5\")"
   ]
  },
  {
   "cell_type": "markdown",
   "id": "7444a73e",
   "metadata": {
    "deletable": false,
    "editable": false
   },
   "source": [
    "**Question 6.** In a lottery, two numbers are drawn at random with replacement from the integers 1 through 1000. **(4 points)**\n",
    "\n",
    "- Event A: The number 8 is picked on both draws\n",
    "- Event B: The same number is picked on both draws\n",
    "\n",
    "<!--\n",
    "BEGIN QUESTION\n",
    "name: q2_6\n",
    "manual: false\n",
    "points:\n",
    " - 0\n",
    " - 0\n",
    " - 4\n",
    "-->"
   ]
  },
  {
   "cell_type": "code",
   "execution_count": 38,
   "id": "25643094",
   "metadata": {
    "execution": {
     "iopub.execute_input": "2022-02-27T07:01:21.117730Z",
     "iopub.status.busy": "2022-02-27T07:01:21.117177Z",
     "iopub.status.idle": "2022-02-27T07:01:21.119647Z",
     "shell.execute_reply": "2022-02-27T07:01:21.120044Z"
    }
   },
   "outputs": [],
   "source": [
    "lottery_option = 2"
   ]
  },
  {
   "cell_type": "code",
   "execution_count": 39,
   "id": "429b677a",
   "metadata": {
    "deletable": false,
    "editable": false
   },
   "outputs": [
    {
     "data": {
      "text/html": [
       "<p><strong><pre style='display: inline;'>q2_6</pre></strong> passed! 🌟</p>"
      ],
      "text/plain": [
       "q2_6 results: All test cases passed!"
      ]
     },
     "execution_count": 39,
     "metadata": {},
     "output_type": "execute_result"
    }
   ],
   "source": [
    "grader.check(\"q2_6\")"
   ]
  },
  {
   "cell_type": "markdown",
   "id": "20824c20",
   "metadata": {
    "deletable": false,
    "editable": false
   },
   "source": [
    "**Question 7.** A fair coin is tossed repeatedly. **(4 points)**\n",
    "\n",
    "- Event A: There are 60 or more heads in 100 tosses\n",
    "- Event B: There are 600 or more heads in 1000 tosses\n",
    "\n",
    "*Hint*: Think about the law of averages!\n",
    "\n",
    "<!--\n",
    "BEGIN QUESTION\n",
    "name: q2_7\n",
    "manual: false\n",
    "points:\n",
    " - 0\n",
    " - 0\n",
    " - 4\n",
    "-->"
   ]
  },
  {
   "cell_type": "code",
   "execution_count": 40,
   "id": "cc57d4df",
   "metadata": {
    "execution": {
     "iopub.execute_input": "2022-02-27T07:01:21.147930Z",
     "iopub.status.busy": "2022-02-27T07:01:21.147425Z",
     "iopub.status.idle": "2022-02-27T07:01:21.181283Z",
     "shell.execute_reply": "2022-02-27T07:01:21.149734Z"
    }
   },
   "outputs": [],
   "source": [
    "coin_option = 1"
   ]
  },
  {
   "cell_type": "code",
   "execution_count": 41,
   "id": "f578cef3",
   "metadata": {
    "deletable": false,
    "editable": false
   },
   "outputs": [
    {
     "data": {
      "text/html": [
       "<p><strong><pre style='display: inline;'>q2_7</pre></strong> passed! 🙌</p>"
      ],
      "text/plain": [
       "q2_7 results: All test cases passed!"
      ]
     },
     "execution_count": 41,
     "metadata": {},
     "output_type": "execute_result"
    }
   ],
   "source": [
    "grader.check(\"q2_7\")"
   ]
  },
  {
   "cell_type": "markdown",
   "id": "f1a70bd0",
   "metadata": {},
   "source": [
    "## 3. Three Ways Python Draws Random Samples"
   ]
  },
  {
   "cell_type": "markdown",
   "id": "448b1fb7",
   "metadata": {},
   "source": [
    "You have learned three ways to draw random samples using Python:\n",
    "\n",
    "- `tbl.sample` draws a random sample of rows from the table `tbl`. The output is a table consisting of the sampled rows. \n",
    "\n",
    "- `np.random.choice` draws a random sample from a population whose elements are in an array. The output is an array consisting of the sampled elements.\n",
    "\n",
    "- `sample_proportions` draws from a categorical distribution whose proportions are in an array. The output is an array consisting of the sampled proportions in all the categories. "
   ]
  },
  {
   "cell_type": "code",
   "execution_count": 42,
   "id": "cccc107d",
   "metadata": {
    "execution": {
     "iopub.execute_input": "2022-02-27T07:01:21.207220Z",
     "iopub.status.busy": "2022-02-27T07:01:21.206667Z",
     "iopub.status.idle": "2022-02-27T07:01:21.214603Z",
     "shell.execute_reply": "2022-02-27T07:01:21.215047Z"
    }
   },
   "outputs": [
    {
     "data": {
      "text/html": [
       "<table border=\"1\" class=\"dataframe\">\n",
       "    <thead>\n",
       "        <tr>\n",
       "            <th>Title</th> <th>Studio</th>\n",
       "        </tr>\n",
       "    </thead>\n",
       "    <tbody>\n",
       "        <tr>\n",
       "            <td>Gone with the Wind</td> <td>MGM   </td>\n",
       "        </tr>\n",
       "        <tr>\n",
       "            <td>Star Wars         </td> <td>Fox   </td>\n",
       "        </tr>\n",
       "        <tr>\n",
       "            <td>The Sound of Music</td> <td>Fox   </td>\n",
       "        </tr>\n",
       "    </tbody>\n",
       "</table>\n",
       "<p>... (197 rows omitted)</p>"
      ],
      "text/plain": [
       "<IPython.core.display.HTML object>"
      ]
     },
     "metadata": {},
     "output_type": "display_data"
    }
   ],
   "source": [
    "# Look through this code and run this cell for questions 1 and 2\n",
    "top = Table.read_table('top_movies_2017.csv').select(0, 1)\n",
    "top.show(3)"
   ]
  },
  {
   "cell_type": "code",
   "execution_count": 43,
   "id": "466586c4",
   "metadata": {
    "execution": {
     "iopub.execute_input": "2022-02-27T07:01:21.229664Z",
     "iopub.status.busy": "2022-02-27T07:01:21.229049Z",
     "iopub.status.idle": "2022-02-27T07:01:21.233271Z",
     "shell.execute_reply": "2022-02-27T07:01:21.232854Z"
    }
   },
   "outputs": [
    {
     "data": {
      "text/html": [
       "<table border=\"1\" class=\"dataframe\">\n",
       "    <thead>\n",
       "        <tr>\n",
       "            <th>Studio</th> <th>count</th>\n",
       "        </tr>\n",
       "    </thead>\n",
       "    <tbody>\n",
       "        <tr>\n",
       "            <td>Buena Vista    </td> <td>35   </td>\n",
       "        </tr>\n",
       "        <tr>\n",
       "            <td>Warner Brothers</td> <td>29   </td>\n",
       "        </tr>\n",
       "        <tr>\n",
       "            <td>Paramount      </td> <td>25   </td>\n",
       "        </tr>\n",
       "    </tbody>\n",
       "</table>\n",
       "<p>... (20 rows omitted)</p>"
      ],
      "text/plain": [
       "<IPython.core.display.HTML object>"
      ]
     },
     "metadata": {},
     "output_type": "display_data"
    }
   ],
   "source": [
    "# Look through this code and run this cell for questions 1 and 2\n",
    "studios_with_counts = top.group('Studio').sort('count', descending=True)\n",
    "studios_with_counts.show(3)"
   ]
  },
  {
   "cell_type": "code",
   "execution_count": 44,
   "id": "745febe6",
   "metadata": {
    "execution": {
     "iopub.execute_input": "2022-02-27T07:01:21.238499Z",
     "iopub.status.busy": "2022-02-27T07:01:21.237969Z",
     "iopub.status.idle": "2022-02-27T07:01:21.240940Z",
     "shell.execute_reply": "2022-02-27T07:01:21.240562Z"
    }
   },
   "outputs": [
    {
     "name": "stdout",
     "output_type": "stream",
     "text": [
      "studios_of_all_movies: ['MGM' 'Fox' 'Fox' 'Universal' 'Paramount' 'Paramount' 'Universal' 'MGM'\n",
      " 'Warner Brothers' 'Disney'] ...\n",
      "\n",
      " distinct_studios: ['Buena Vista' 'Warner Brothers' 'Paramount' 'Fox' 'Universal' 'Disney'\n",
      " 'Columbia' 'MGM' 'United Artists' 'Newline' 'Paramount/Dreamworks' 'Sony'\n",
      " 'Dreamworks' 'Lionsgate' 'RKO' 'Tristar' 'AVCO' 'IFC' 'Metro' 'NM' 'Orion'\n",
      " 'Selz.' 'Sum.']\n"
     ]
    }
   ],
   "source": [
    "# Look through this code and run this cell for questions 1 and 2\n",
    "studios_of_all_movies = top.column('Studio')\n",
    "distinct_studios = studios_with_counts.column('Studio')\n",
    "\n",
    "print(\"studios_of_all_movies:\", studios_of_all_movies[:10], \"...\")\n",
    "print(\"\\n distinct_studios:\", distinct_studios)"
   ]
  },
  {
   "cell_type": "code",
   "execution_count": 45,
   "id": "914fdd8c",
   "metadata": {
    "execution": {
     "iopub.execute_input": "2022-02-27T07:01:21.246482Z",
     "iopub.status.busy": "2022-02-27T07:01:21.246019Z",
     "iopub.status.idle": "2022-02-27T07:01:21.248614Z",
     "shell.execute_reply": "2022-02-27T07:01:21.248965Z"
    }
   },
   "outputs": [
    {
     "name": "stdout",
     "output_type": "stream",
     "text": [
      "studio_counts_only: [35 29 25 24 23 11  9  7  6  5  4  4  3  3  3  2  1  1  1  1  1  1  1]\n",
      "\n",
      " studio_proportions_only: [ 0.175  0.145  0.125  0.12   0.115  0.055  0.045  0.035  0.03   0.025\n",
      "  0.02   0.02   0.015  0.015  0.015  0.01   0.005  0.005  0.005  0.005\n",
      "  0.005  0.005  0.005]\n"
     ]
    }
   ],
   "source": [
    "# Look through this code and run this cell for questions 1 and 2\n",
    "studio_counts_only = studios_with_counts.column('count')\n",
    "studio_proportions_only = studio_counts_only / sum(studio_counts_only)\n",
    "\n",
    "print(\"studio_counts_only:\", studio_counts_only)\n",
    "print(\"\\n studio_proportions_only:\", studio_proportions_only)"
   ]
  },
  {
   "cell_type": "markdown",
   "id": "b54e548f",
   "metadata": {},
   "source": [
    "In Questions 1 and 2, we will present a scenario. Determine which three of the following six options are true in regards to what the question is asking, and list them in the following answer cell. If your answer includes any of (i)-(iii), state what you would fill in the blank to make it true: `top`, `studios_with_counts`, `studios_of_all_movies`, `distinct_studios`, `studio_counts_only` or `studio_proportions_only`.\n",
    "\n",
    "(i) This can be done using `sample` and the table _________.\n",
    "\n",
    "(ii) This can be done using `np.random.choice` and the array ________.\n",
    "\n",
    "(iii) This can be done using `sample_proportions` and the array _______.\n",
    "\n",
    "(iv) This cannot be done using `sample` and the data given.\n",
    "\n",
    "(v) This cannot be done using `np.random.choice` and the data given.\n",
    "\n",
    "(vi) This cannot be done using `sample_proportions` and the data given."
   ]
  },
  {
   "cell_type": "markdown",
   "id": "b0e2bdb6",
   "metadata": {
    "deletable": false,
    "editable": false
   },
   "source": [
    "<!-- BEGIN QUESTION -->\n",
    "\n",
    "**Question 1.** Simulate a sample of 10 movies drawn at random with replacement from the 200 movies. Outputs True if Paramount appears more often than Warner Brothers among studios that released the sampled movies, and False otherwise. **(4 points)**\n",
    "\n",
    "*Example Answer:* (i) studios_of_all_movies, (iii) top, (v)\n",
    "\n",
    "***Note***: Do not explain your answer for any of the options you've chosen; please follow the structure of the example answer provided.\n",
    "\n",
    "<!--\n",
    "BEGIN QUESTION\n",
    "name: q3_1\n",
    "manual: true\n",
    "-->"
   ]
  },
  {
   "cell_type": "markdown",
   "id": "230d03b7",
   "metadata": {},
   "source": [
    "(i) studios_of_all_movies, (ii) distinct_studios, (v)"
   ]
  },
  {
   "cell_type": "markdown",
   "id": "63e656f6",
   "metadata": {
    "deletable": false,
    "editable": false
   },
   "source": [
    "<!-- END QUESTION -->\n",
    "\n",
    "<!-- BEGIN QUESTION -->\n",
    "\n",
    "**Question 2.** Simulate a sample of 10 movies drawn at random with replacement from the 200 movies. Outputs True if the first sampled movie was released by the same studio as the last sampled movie. **(4 points)**\n",
    "\n",
    "*Example Answer:* (i) studios_of_all_movies, (iii) top, (v)\n",
    "\n",
    "***Note***: Do not explain your answer for any of the options you've chosen; please follow the structure of the example answer provided.\n",
    "\n",
    "<!--\n",
    "BEGIN QUESTION\n",
    "name: q3_2\n",
    "manual: true\n",
    "-->"
   ]
  },
  {
   "cell_type": "markdown",
   "id": "755a1919",
   "metadata": {},
   "source": [
    "(i) studios_of_all_movies, (ii) distinct_studios, (v)"
   ]
  },
  {
   "cell_type": "markdown",
   "id": "28d3c61c",
   "metadata": {
    "tags": []
   },
   "source": [
    "<!-- END QUESTION -->\n",
    "\n",
    "\n",
    "\n",
    "## 4. Assessing Jade's Models\n",
    "\n",
    "Before you begin, [Section 10.4](https://inferentialthinking.com/chapters/10/4/Random_Sampling_in_Python.html) of the textbook is a useful reference for this part."
   ]
  },
  {
   "cell_type": "markdown",
   "id": "efe1fccd",
   "metadata": {},
   "source": [
    "### Games with Jade\n",
    "Our friend Jade comes over and asks us to play a game with her. The game works like this: \n",
    "\n",
    "> We will draw randomly with replacement from a simplified 13 card deck with 4 face cards (A, J, Q, K), and 9 numbered cards (2, 3, 4, 5, 6, 7, 8, 9, 10). If we draw cards with replacement 13 times, and if the number of face cards is greater than or equal to 4, we lose.\n",
    "> \n",
    "> Otherwise, Jade loses.\n",
    "\n",
    "We play the game once and we lose, observing 8 total face cards. We are angry and accuse Jade of cheating! Jade is adamant, however, that the deck is fair.\n",
    "\n",
    "Jade's model claims that there is an equal chance of getting any of the cards (A, 2, 3, 4, 5, 6, 7, 8, 9, 10, J, Q, K), but we do not believe her. We believe that the deck is clearly rigged, with face cards (A, J, Q, K) being more likely than the numbered cards (2, 3, 4, 5, 6, 7, 8, 9, 10)."
   ]
  },
  {
   "cell_type": "markdown",
   "id": "8d5ea4b6",
   "metadata": {
    "deletable": false,
    "editable": false
   },
   "source": [
    "**Question 1.** Assign `deck_model_probabilities` to a two-item array containing the chance of drawing a face card as the first element, and the chance of drawing a numbered card as the second element under Jade's model. Since we're working with probabilities, make sure your values are between 0 and 1. **(4 Points)**\n",
    "\n",
    "<!--\n",
    "BEGIN QUESTION\n",
    "name: q4_1\n",
    "manual: false\n",
    "points:\n",
    " - 0\n",
    " - 0\n",
    " - 1\n",
    " - 3\n",
    "-->"
   ]
  },
  {
   "cell_type": "code",
   "execution_count": 46,
   "id": "692ccb05",
   "metadata": {
    "execution": {
     "iopub.execute_input": "2022-02-27T07:01:21.284311Z",
     "iopub.status.busy": "2022-02-27T07:01:21.281573Z",
     "iopub.status.idle": "2022-02-27T07:01:21.287312Z",
     "shell.execute_reply": "2022-02-27T07:01:21.287724Z"
    }
   },
   "outputs": [
    {
     "data": {
      "text/plain": [
       "array([ 0.30769231,  0.69230769])"
      ]
     },
     "execution_count": 46,
     "metadata": {},
     "output_type": "execute_result"
    }
   ],
   "source": [
    "deck_model_probabilities = np.array([4/13, 9/13])\n",
    "deck_model_probabilities\n"
   ]
  },
  {
   "cell_type": "code",
   "execution_count": 47,
   "id": "3cf5e80d",
   "metadata": {
    "deletable": false,
    "editable": false
   },
   "outputs": [
    {
     "data": {
      "text/html": [
       "<p><strong><pre style='display: inline;'>q4_1</pre></strong> passed! 🎉</p>"
      ],
      "text/plain": [
       "q4_1 results: All test cases passed!"
      ]
     },
     "execution_count": 47,
     "metadata": {},
     "output_type": "execute_result"
    }
   ],
   "source": [
    "grader.check(\"q4_1\")"
   ]
  },
  {
   "cell_type": "markdown",
   "id": "24700f2b",
   "metadata": {
    "deletable": false,
    "editable": false
   },
   "source": [
    "**Question 2.** We believe Jade's model is incorrect. In particular, we believe there to be a *larger* chance of getting a face card. Which of the following statistics can we use during our simulation to test between the model and our alternative? Assign `statistic_choice` to the correct answer. **(5 Points)**\n",
    "\n",
    "1. The distance (absolute value) between the actual number of face cards in 13 draws and 4, the expected number of face cards in 13 draws\n",
    "2. The expected number of face cards in 13 draws, 4\n",
    "3. The number of face cards we get in 13 draws\n",
    "\n",
    "<!--\n",
    "BEGIN QUESTION\n",
    "name: q4_2\n",
    "manual: false\n",
    "points:\n",
    " - 0\n",
    " - 0\n",
    " - 5\n",
    "-->"
   ]
  },
  {
   "cell_type": "code",
   "execution_count": 48,
   "id": "2817282f",
   "metadata": {
    "execution": {
     "iopub.execute_input": "2022-02-27T07:01:21.322333Z",
     "iopub.status.busy": "2022-02-27T07:01:21.321836Z",
     "iopub.status.idle": "2022-02-27T07:01:21.324836Z",
     "shell.execute_reply": "2022-02-27T07:01:21.325222Z"
    }
   },
   "outputs": [
    {
     "data": {
      "text/plain": [
       "3"
      ]
     },
     "execution_count": 48,
     "metadata": {},
     "output_type": "execute_result"
    }
   ],
   "source": [
    "statistic_choice = 3\n",
    "statistic_choice"
   ]
  },
  {
   "cell_type": "code",
   "execution_count": 49,
   "id": "e15d7f9e",
   "metadata": {
    "deletable": false,
    "editable": false
   },
   "outputs": [
    {
     "data": {
      "text/html": [
       "<p><strong><pre style='display: inline;'>q4_2</pre></strong> passed! 🌈</p>"
      ],
      "text/plain": [
       "q4_2 results: All test cases passed!"
      ]
     },
     "execution_count": 49,
     "metadata": {},
     "output_type": "execute_result"
    }
   ],
   "source": [
    "grader.check(\"q4_2\")"
   ]
  },
  {
   "cell_type": "markdown",
   "id": "7575df45",
   "metadata": {
    "deletable": false,
    "editable": false
   },
   "source": [
    "**Question 3.** Define the function `deck_simulation_and_statistic`, which, given a sample size and an array of model proportions (like the one you created in Question 1), returns the number of face cards in one simulation of drawing cards under the model specified in `model_proportions`. **(5 Points)**\n",
    "\n",
    "*Hint:* Think about how you can use the function `sample_proportions`. \n",
    "\n",
    "<!--\n",
    "BEGIN QUESTION\n",
    "name: q4_3\n",
    "manual: false\n",
    "points:\n",
    " - 5\n",
    "-->"
   ]
  },
  {
   "cell_type": "code",
   "execution_count": 50,
   "id": "77fe9997",
   "metadata": {
    "execution": {
     "iopub.execute_input": "2022-02-27T07:01:21.388311Z",
     "iopub.status.busy": "2022-02-27T07:01:21.387627Z",
     "iopub.status.idle": "2022-02-27T07:01:21.392034Z",
     "shell.execute_reply": "2022-02-27T07:01:21.392428Z"
    }
   },
   "outputs": [
    {
     "data": {
      "text/plain": [
       "4"
      ]
     },
     "execution_count": 50,
     "metadata": {},
     "output_type": "execute_result"
    }
   ],
   "source": [
    "\n",
    "\n",
    "def deck_simulation_and_statistic(sample_size, model_proportions):\n",
    "    # Generate a random draw of sample_size, based on model_proportions\n",
    "    sampled_counts = np.random.multinomial(sample_size, model_proportions)\n",
    "    \n",
    "    # Return the number of face cards\n",
    "    return sampled_counts[0]\n",
    "\n",
    "# Testing the function with sample size 13 and the given deck_model_probabilities\n",
    "deck_simulation_and_statistic(13, deck_model_probabilities)\n"
   ]
  },
  {
   "cell_type": "code",
   "execution_count": 51,
   "id": "2e37b13e",
   "metadata": {
    "deletable": false,
    "editable": false
   },
   "outputs": [
    {
     "data": {
      "text/html": [
       "<p><strong><pre style='display: inline;'>q4_3</pre></strong> passed! ✨</p>"
      ],
      "text/plain": [
       "q4_3 results: All test cases passed!"
      ]
     },
     "execution_count": 51,
     "metadata": {},
     "output_type": "execute_result"
    }
   ],
   "source": [
    "grader.check(\"q4_3\")"
   ]
  },
  {
   "cell_type": "markdown",
   "id": "84369861",
   "metadata": {
    "deletable": false,
    "editable": false
   },
   "source": [
    "**Question 4.** Use your function from above to simulate the drawing of 13 cards 5000 times under the proportions that you specified in Question 1. Keep track of all of your statistics in `deck_statistics`. **(5 Points)**\n",
    "\n",
    "<!--\n",
    "BEGIN QUESTION\n",
    "name: q4_4\n",
    "manual: false\n",
    "points:\n",
    " - 2\n",
    " - 3\n",
    "-->"
   ]
  },
  {
   "cell_type": "code",
   "execution_count": 52,
   "id": "0b125cd1",
   "metadata": {
    "execution": {
     "iopub.execute_input": "2022-02-27T07:01:21.405889Z",
     "iopub.status.busy": "2022-02-27T07:01:21.404770Z",
     "iopub.status.idle": "2022-02-27T07:01:21.494869Z",
     "shell.execute_reply": "2022-02-27T07:01:21.494450Z"
    }
   },
   "outputs": [
    {
     "data": {
      "text/plain": [
       "array([4, 4, 1, ..., 4, 6, 2], dtype=int32)"
      ]
     },
     "execution_count": 52,
     "metadata": {},
     "output_type": "execute_result"
    }
   ],
   "source": [
    "# Running 5000 simulations of drawing 13 cards under Jade's model probabilities\n",
    "repetitions = 5000\n",
    "deck_statistics = []\n",
    "\n",
    "# Collecting statistics for each simulation run\n",
    "for _ in range(repetitions):\n",
    "    # Use the function from Q4_3 to get the number of face cards\n",
    "    face_cards_count = deck_simulation_and_statistic(13, deck_model_probabilities)\n",
    "    deck_statistics.append(face_cards_count)\n",
    "\n",
    "# Converting the list to an array for easier handling in further analysis\n",
    "\n",
    "deck_statistics = np.array(deck_statistics)\n",
    "deck_statistics\n"
   ]
  },
  {
   "cell_type": "code",
   "execution_count": 53,
   "id": "4c9b21e7",
   "metadata": {
    "deletable": false,
    "editable": false
   },
   "outputs": [
    {
     "data": {
      "text/html": [
       "<p><strong><pre style='display: inline;'>q4_4</pre></strong> passed! 🍀</p>"
      ],
      "text/plain": [
       "q4_4 results: All test cases passed!"
      ]
     },
     "execution_count": 53,
     "metadata": {},
     "output_type": "execute_result"
    }
   ],
   "source": [
    "grader.check(\"q4_4\")"
   ]
  },
  {
   "cell_type": "markdown",
   "id": "bcc6977e",
   "metadata": {},
   "source": [
    "Let’s take a look at the distribution of simulated statistics."
   ]
  },
  {
   "cell_type": "code",
   "execution_count": 54,
   "id": "9fd3fbd9",
   "metadata": {
    "execution": {
     "iopub.execute_input": "2022-02-27T07:01:21.536427Z",
     "iopub.status.busy": "2022-02-27T07:01:21.535886Z",
     "iopub.status.idle": "2022-02-27T07:01:21.768152Z",
     "shell.execute_reply": "2022-02-27T07:01:21.767555Z"
    }
   },
   "outputs": [
    {
     "data": {
      "image/png": "[encoded data removed]",
      "text/plain": [
       "<Figure size 600x400 with 1 Axes>"
      ]
     },
     "metadata": {},
     "output_type": "display_data"
    }
   ],
   "source": [
    "# Draw a distribution of statistics \n",
    "Table().with_column('Deck Statistics', deck_statistics).hist()"
   ]
  },
  {
   "cell_type": "markdown",
   "id": "88f11673",
   "metadata": {
    "deletable": false,
    "editable": false
   },
   "source": [
    "<!-- BEGIN QUESTION -->\n",
    "\n",
    "**Question 5.** Given your observed value, do you believe that Jade's model is reasonable, or is our alternative (that our deck is rigged) more likely? Explain your answer using the histogram produced above. **(5 Points)**\n",
    "\n",
    "<!--\n",
    "BEGIN QUESTION\n",
    "name: q4_5\n",
    "manual: true\n",
    "-->"
   ]
  },
  {
   "cell_type": "markdown",
   "id": "9e1910fc",
   "metadata": {},
   "source": [
    "To determine whether Jade's model is reasonable, we compare our observed result of 8 face cards in 13 draws to the distribution of face card counts generated under Jade's model. If the observed value of 8 face cards is higher than most simulated values under her model, it suggests that the drawing of 8 face cards is unlikely if the deck follows her specified probabilities, thus supporting our alternative hypothesis that the deck is rigged.\n",
    "\n",
    "After examining the histogram, if we see that values close to 8 face cards fall into the higher range, this would indicate that achieving 8 face cards in a fair deck scenario Jade's model is rare. Therefore, our observation would lean us toward believing that the deck is rigged, as we observed a number of face cards that the model predicts to occur infrequently."
   ]
  },
  {
   "cell_type": "markdown",
   "id": "877054f6",
   "metadata": {},
   "source": [
    "Congratulations, you are done with Homework 6.\n",
    "\n",
    "**Important submission steps:** \n",
    "\n",
    "1. Run the tests and verify that they all pass.\n",
    "2. Choose **Save and Checkpoint** from the **File** menu.\n",
    "4. Go to Canvas and submit the Jupyter notebook file (hw6-cs104.ipynb) to the CS104 HW6 assignment."
   ]
  },
  {
   "cell_type": "markdown",
   "id": "6f863388",
   "metadata": {
    "deletable": false,
    "editable": false
   },
   "source": [
    "---\n",
    "\n",
    "To double-check your work, the cell below will rerun all of the autograder tests."
   ]
  },
  {
   "cell_type": "code",
   "execution_count": 55,
   "id": "a311a2a1",
   "metadata": {
    "deletable": false,
    "editable": false
   },
   "outputs": [
    {
     "data": {
      "text/plain": [
       "q1_1 results: All test cases passed!\n",
       "\n",
       "q1_10 results: All test cases passed!\n",
       "\n",
       "q1_2 results: All test cases passed!\n",
       "\n",
       "q1_3 results: All test cases passed!\n",
       "\n",
       "q1_4 results: All test cases passed!\n",
       "\n",
       "q1_5 results: All test cases passed!\n",
       "\n",
       "q1_6 results: All test cases passed!\n",
       "\n",
       "q1_7 results: All test cases passed!\n",
       "\n",
       "q1_8 results: All test cases passed!\n",
       "\n",
       "q1_9 results: All test cases passed!\n",
       "\n",
       "q2_1 results: All test cases passed!\n",
       "\n",
       "q2_2 results: All test cases passed!\n",
       "\n",
       "q2_3 results: All test cases passed!\n",
       "\n",
       "q2_4 results: All test cases passed!\n",
       "\n",
       "q2_5 results: All test cases passed!\n",
       "\n",
       "q2_6 results: All test cases passed!\n",
       "\n",
       "q2_7 results: All test cases passed!\n",
       "\n",
       "q4_1 results: All test cases passed!\n",
       "\n",
       "q4_2 results: All test cases passed!\n",
       "\n",
       "q4_3 results: All test cases passed!\n",
       "\n",
       "q4_4 results: All test cases passed!"
      ]
     },
     "execution_count": 55,
     "metadata": {},
     "output_type": "execute_result"
    }
   ],
   "source": [
    "grader.check_all()"
   ]
  }
 ],
 "metadata": {
  "kernelspec": {
   "display_name": "24fa104-minimal",
   "language": "python",
   "name": "python3"
  },
  "language_info": {
   "codemirror_mode": {
    "name": "ipython",
    "version": 3
   },
   "file_extension": ".py",
   "mimetype": "text/x-python",
   "name": "python",
   "nbconvert_exporter": "python",
   "pygments_lexer": "ipython3",
   "version": "3.12.5"
  }
 },
 "nbformat": 4,
 "nbformat_minor": 5
}
